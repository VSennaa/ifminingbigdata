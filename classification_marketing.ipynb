{
  "nbformat": 4,
  "nbformat_minor": 0,
  "metadata": {
    "colab": {
      "provenance": [],
      "include_colab_link": true
    },
    "kernelspec": {
      "name": "python3",
      "display_name": "Python 3"
    },
    "language_info": {
      "name": "python"
    }
  },
  "cells": [
    {
      "cell_type": "markdown",
      "metadata": {
        "id": "view-in-github",
        "colab_type": "text"
      },
      "source": [
        "<a href=\"https://colab.research.google.com/github/VSennaa/ml_classification_marketing/blob/main/classification_marketing.ipynb\" target=\"_parent\"><img src=\"https://colab.research.google.com/assets/colab-badge.svg\" alt=\"Open In Colab\"/></a>"
      ]
    },
    {
      "cell_type": "markdown",
      "source": [
        "#Machine Learning"
      ],
      "metadata": {
        "id": "BxYFA9qukBqI"
      }
    },
    {
      "cell_type": "markdown",
      "source": [
        "## Concept"
      ],
      "metadata": {
        "id": "73dBobPckdnp"
      }
    },
    {
      "cell_type": "markdown",
      "source": [
        "**Artificial Intelligence (AI)** has emerged as a rapidly growing field, encompassing various theoretical and practical domains such as computer science, cognitive science, philosophy of mind, and Machine Learning.\n",
        "\n",
        "**Machine Learning (ML)**, a subfield of AI, focuses on developing algorithms capable of learning to perform tasks from data, without the need for manually programmed rules. These algorithms identify patterns in the data and use this knowledge to make predictions.\n",
        "\n",
        "How Machine Learning Works\n",
        "The Machine Learning process can be divided into three main stages:\n",
        "\n",
        "1.  **Data Collection**\n",
        "The foundation of any ML project is data collection. The amount and quality of the data directly influence the model's ability to learn real-world patterns.\n",
        "\n",
        "2.   **Model Training**\n",
        "With the data prepared, algorithms seek to identify patterns and create rules that will be applied to new data.\n",
        "\n",
        "\n",
        "3.   **Evaluation**\n",
        "After training, the model's performance is tested to verify whether it generalizes well and correctly applies the learned rules to unseen data.\n",
        "\n",
        "In addition to these main steps, ML projects may involve other specific tasks depending on the nature of the data, the application, and the challenges encountered throughout the process.\n",
        "\n"
      ],
      "metadata": {
        "id": "efLBjCB1khBa"
      }
    },
    {
      "cell_type": "markdown",
      "source": [
        "# Classification: Investment Marketing"
      ],
      "metadata": {
        "id": "MJ3tSbLsBPhe"
      }
    },
    {
      "cell_type": "markdown",
      "source": [
        "The objective is to analyze a marketing campaign in order to predict investment adherence, using data collected from clients. This prediction will be performed using machine learning, and this notebook contains the necessary steps to carry out this prediction."
      ],
      "metadata": {
        "id": "CYC5vst2FcaG"
      }
    },
    {
      "cell_type": "markdown",
      "source": [
        "# Exploratory Analysis"
      ],
      "metadata": {
        "id": "dr9I9xCXoICN"
      }
    },
    {
      "cell_type": "markdown",
      "source": [
        "## Reading the Data"
      ],
      "metadata": {
        "id": "fwuPpdZOBTUn"
      }
    },
    {
      "cell_type": "markdown",
      "source": [
        "We can read the data using the pandas library. Therefore, let's import the library with the command 'import pandas as pd'.\n",
        "\n",
        "Since the data file is in CSV format, we will read it using the function read_csv().\n"
      ],
      "metadata": {
        "id": "YzOu8ojHPemt"
      }
    },
    {
      "cell_type": "code",
      "source": [
        "# Importing necessary libraries\n",
        "import pandas as pd\n",
        "import matplotlib.pyplot as plt\n",
        "\n",
        "# URL to dataset\n",
        "dt_url = 'https://raw.githubusercontent.com/VSennaa/ifminingbigdata/refs/heads/main/marketing_investimento%20-%20marketing_investimento.csv.csv'\n",
        "\n",
        "# Reading the data\n",
        "raw_marketing_invest = pd.read_csv(dt_url)\n",
        "\n",
        "# Displaying the raw dataset\n",
        "raw_marketing_invest\n",
        "\n",
        "# Assigning the dataset to a variable for further processing\n",
        "data = raw_marketing_invest\n"
      ],
      "metadata": {
        "id": "pouoEnkKU41h"
      },
      "execution_count": 163,
      "outputs": []
    },
    {
      "cell_type": "code",
      "source": [
        "raw_marketing_invest.isnull().sum() # Checking for Nulls values"
      ],
      "metadata": {
        "colab": {
          "base_uri": "https://localhost:8080/",
          "height": 366
        },
        "id": "WOVPiqzfbnha",
        "outputId": "b751107f-a81b-44dd-f3e1-b65db1d77b0d"
      },
      "execution_count": 164,
      "outputs": [
        {
          "output_type": "execute_result",
          "data": {
            "text/plain": [
              "idade                     0\n",
              "estado_civil              0\n",
              "escolaridade              0\n",
              "inadimplencia             0\n",
              "saldo                     0\n",
              "fez_emprestimo            0\n",
              "tempo_ult_contato         0\n",
              "numero_contatos           0\n",
              "aderencia_investimento    0\n",
              "dtype: int64"
            ],
            "text/html": [
              "<div>\n",
              "<style scoped>\n",
              "    .dataframe tbody tr th:only-of-type {\n",
              "        vertical-align: middle;\n",
              "    }\n",
              "\n",
              "    .dataframe tbody tr th {\n",
              "        vertical-align: top;\n",
              "    }\n",
              "\n",
              "    .dataframe thead th {\n",
              "        text-align: right;\n",
              "    }\n",
              "</style>\n",
              "<table border=\"1\" class=\"dataframe\">\n",
              "  <thead>\n",
              "    <tr style=\"text-align: right;\">\n",
              "      <th></th>\n",
              "      <th>0</th>\n",
              "    </tr>\n",
              "  </thead>\n",
              "  <tbody>\n",
              "    <tr>\n",
              "      <th>idade</th>\n",
              "      <td>0</td>\n",
              "    </tr>\n",
              "    <tr>\n",
              "      <th>estado_civil</th>\n",
              "      <td>0</td>\n",
              "    </tr>\n",
              "    <tr>\n",
              "      <th>escolaridade</th>\n",
              "      <td>0</td>\n",
              "    </tr>\n",
              "    <tr>\n",
              "      <th>inadimplencia</th>\n",
              "      <td>0</td>\n",
              "    </tr>\n",
              "    <tr>\n",
              "      <th>saldo</th>\n",
              "      <td>0</td>\n",
              "    </tr>\n",
              "    <tr>\n",
              "      <th>fez_emprestimo</th>\n",
              "      <td>0</td>\n",
              "    </tr>\n",
              "    <tr>\n",
              "      <th>tempo_ult_contato</th>\n",
              "      <td>0</td>\n",
              "    </tr>\n",
              "    <tr>\n",
              "      <th>numero_contatos</th>\n",
              "      <td>0</td>\n",
              "    </tr>\n",
              "    <tr>\n",
              "      <th>aderencia_investimento</th>\n",
              "      <td>0</td>\n",
              "    </tr>\n",
              "  </tbody>\n",
              "</table>\n",
              "</div><br><label><b>dtype:</b> int64</label>"
            ]
          },
          "metadata": {},
          "execution_count": 164
        }
      ]
    },
    {
      "cell_type": "code",
      "source": [
        "raw_marketing_invest.info()"
      ],
      "metadata": {
        "id": "p1ylujcUmSGW",
        "colab": {
          "base_uri": "https://localhost:8080/"
        },
        "outputId": "fd12370d-c2d7-413e-96d4-dfe5f051bffe"
      },
      "execution_count": 165,
      "outputs": [
        {
          "output_type": "stream",
          "name": "stdout",
          "text": [
            "<class 'pandas.core.frame.DataFrame'>\n",
            "RangeIndex: 1268 entries, 0 to 1267\n",
            "Data columns (total 9 columns):\n",
            " #   Column                  Non-Null Count  Dtype \n",
            "---  ------                  --------------  ----- \n",
            " 0   idade                   1268 non-null   int64 \n",
            " 1   estado_civil            1268 non-null   object\n",
            " 2   escolaridade            1268 non-null   object\n",
            " 3   inadimplencia           1268 non-null   object\n",
            " 4   saldo                   1268 non-null   int64 \n",
            " 5   fez_emprestimo          1268 non-null   object\n",
            " 6   tempo_ult_contato       1268 non-null   int64 \n",
            " 7   numero_contatos         1268 non-null   int64 \n",
            " 8   aderencia_investimento  1268 non-null   object\n",
            "dtypes: int64(4), object(5)\n",
            "memory usage: 89.3+ KB\n"
          ]
        }
      ]
    },
    {
      "cell_type": "markdown",
      "source": [
        "## Exploring the data"
      ],
      "metadata": {
        "id": "sgiS9acdmOQn"
      }
    },
    {
      "cell_type": "markdown",
      "source": [
        "Let's explore each column in the dataset using the **Plotly** library. We'll start with the categorical variables and then move on to the numerical ones."
      ],
      "metadata": {
        "id": "rMyhhPIMQnWt"
      }
    },
    {
      "cell_type": "markdown",
      "source": [
        "### category variables"
      ],
      "metadata": {
        "id": "I6m3meBiMLk8"
      }
    },
    {
      "cell_type": "code",
      "source": [
        "print(f\"{data.estado_civil.unique()} \\n{data.escolaridade.unique()}\\n {data.fez_emprestimo.unique()}\\n{data.inadimplencia.unique()}\\n{data.aderencia_investimento.unique()}\")"
      ],
      "metadata": {
        "id": "qfgj2En7iuJl",
        "colab": {
          "base_uri": "https://localhost:8080/"
        },
        "outputId": "8065ac41-cf91-4ea8-a2e8-8ef8efa54968"
      },
      "execution_count": 166,
      "outputs": [
        {
          "output_type": "stream",
          "name": "stdout",
          "text": [
            "['casado (a)' 'solteiro (a)' 'divorciado (a)'] \n",
            "['superior' 'medio' 'fundamental']\n",
            " ['nao' 'sim']\n",
            "['nao' 'sim']\n",
            "['sim' 'nao']\n"
          ]
        }
      ]
    },
    {
      "cell_type": "code",
      "source": [
        "# Importing the plotly.express library for visualization\n",
        "import plotly.express as px\n",
        "\n",
        "# Creating a histogram to visualize the distribution of 'aderencia_investimento' column\n",
        "fig = px.histogram(data,\n",
        "                   x=\"aderencia_investimento\",  # Column to be visualized\n",
        "                   text_auto=True)  # Automatically add text labels to the bars\n",
        "\n",
        "# Displaying the plot\n",
        "fig.show()\n"
      ],
      "metadata": {
        "id": "maJlPxOAiuDF",
        "colab": {
          "base_uri": "https://localhost:8080/",
          "height": 542
        },
        "outputId": "77bcc382-c711-42bf-836d-03baed25f44f"
      },
      "execution_count": 167,
      "outputs": [
        {
          "output_type": "display_data",
          "data": {
            "text/html": [
              "<html>\n",
              "<head><meta charset=\"utf-8\" /></head>\n",
              "<body>\n",
              "    <div>            <script src=\"https://cdnjs.cloudflare.com/ajax/libs/mathjax/2.7.5/MathJax.js?config=TeX-AMS-MML_SVG\"></script><script type=\"text/javascript\">if (window.MathJax && window.MathJax.Hub && window.MathJax.Hub.Config) {window.MathJax.Hub.Config({SVG: {font: \"STIX-Web\"}});}</script>                <script type=\"text/javascript\">window.PlotlyConfig = {MathJaxConfig: 'local'};</script>\n",
              "        <script charset=\"utf-8\" src=\"https://cdn.plot.ly/plotly-2.35.2.min.js\"></script>                <div id=\"89d1fccc-917c-4115-a94a-0d77cfccd85f\" class=\"plotly-graph-div\" style=\"height:525px; width:100%;\"></div>            <script type=\"text/javascript\">                                    window.PLOTLYENV=window.PLOTLYENV || {};                                    if (document.getElementById(\"89d1fccc-917c-4115-a94a-0d77cfccd85f\")) {                    Plotly.newPlot(                        \"89d1fccc-917c-4115-a94a-0d77cfccd85f\",                        [{\"alignmentgroup\":\"True\",\"bingroup\":\"x\",\"hovertemplate\":\"aderencia_investimento=%{x}\\u003cbr\\u003ecount=%{y}\\u003cextra\\u003e\\u003c\\u002fextra\\u003e\",\"legendgroup\":\"\",\"marker\":{\"color\":\"#636efa\",\"pattern\":{\"shape\":\"\"}},\"name\":\"\",\"offsetgroup\":\"\",\"orientation\":\"v\",\"showlegend\":false,\"texttemplate\":\"%{value}\",\"x\":[\"sim\",\"sim\",\"nao\",\"sim\",\"sim\",\"sim\",\"nao\",\"nao\",\"nao\",\"nao\",\"sim\",\"nao\",\"sim\",\"nao\",\"nao\",\"sim\",\"nao\",\"nao\",\"nao\",\"sim\",\"nao\",\"nao\",\"nao\",\"sim\",\"nao\",\"sim\",\"nao\",\"sim\",\"sim\",\"sim\",\"sim\",\"nao\",\"nao\",\"nao\",\"nao\",\"nao\",\"nao\",\"nao\",\"nao\",\"sim\",\"nao\",\"nao\",\"nao\",\"nao\",\"nao\",\"nao\",\"sim\",\"nao\",\"sim\",\"nao\",\"sim\",\"nao\",\"nao\",\"sim\",\"sim\",\"sim\",\"nao\",\"sim\",\"nao\",\"nao\",\"nao\",\"nao\",\"nao\",\"nao\",\"nao\",\"nao\",\"nao\",\"nao\",\"nao\",\"sim\",\"nao\",\"nao\",\"nao\",\"nao\",\"sim\",\"nao\",\"sim\",\"sim\",\"nao\",\"nao\",\"sim\",\"sim\",\"nao\",\"nao\",\"nao\",\"nao\",\"sim\",\"sim\",\"sim\",\"sim\",\"sim\",\"nao\",\"sim\",\"sim\",\"sim\",\"nao\",\"nao\",\"nao\",\"nao\",\"nao\",\"nao\",\"sim\",\"sim\",\"nao\",\"sim\",\"sim\",\"nao\",\"nao\",\"sim\",\"nao\",\"nao\",\"nao\",\"nao\",\"sim\",\"nao\",\"sim\",\"nao\",\"nao\",\"nao\",\"sim\",\"sim\",\"nao\",\"nao\",\"sim\",\"sim\",\"nao\",\"nao\",\"sim\",\"nao\",\"sim\",\"nao\",\"sim\",\"sim\",\"nao\",\"nao\",\"nao\",\"sim\",\"sim\",\"nao\",\"sim\",\"sim\",\"sim\",\"sim\",\"sim\",\"nao\",\"sim\",\"sim\",\"sim\",\"sim\",\"sim\",\"nao\",\"nao\",\"nao\",\"nao\",\"nao\",\"sim\",\"nao\",\"nao\",\"nao\",\"nao\",\"nao\",\"nao\",\"nao\",\"sim\",\"nao\",\"nao\",\"nao\",\"sim\",\"sim\",\"sim\",\"nao\",\"nao\",\"nao\",\"nao\",\"nao\",\"sim\",\"sim\",\"nao\",\"nao\",\"sim\",\"nao\",\"sim\",\"nao\",\"sim\",\"sim\",\"nao\",\"nao\",\"sim\",\"sim\",\"nao\",\"nao\",\"sim\",\"sim\",\"nao\",\"nao\",\"nao\",\"nao\",\"sim\",\"nao\",\"nao\",\"sim\",\"sim\",\"nao\",\"nao\",\"nao\",\"sim\",\"sim\",\"nao\",\"sim\",\"nao\",\"sim\",\"nao\",\"sim\",\"nao\",\"nao\",\"nao\",\"sim\",\"nao\",\"nao\",\"sim\",\"nao\",\"sim\",\"sim\",\"nao\",\"nao\",\"nao\",\"sim\",\"sim\",\"sim\",\"nao\",\"nao\",\"nao\",\"nao\",\"sim\",\"nao\",\"sim\",\"sim\",\"nao\",\"nao\",\"sim\",\"sim\",\"nao\",\"nao\",\"nao\",\"nao\",\"nao\",\"nao\",\"nao\",\"nao\",\"nao\",\"nao\",\"nao\",\"nao\",\"nao\",\"nao\",\"nao\",\"nao\",\"sim\",\"nao\",\"nao\",\"sim\",\"sim\",\"nao\",\"sim\",\"nao\",\"nao\",\"sim\",\"sim\",\"sim\",\"sim\",\"sim\",\"nao\",\"sim\",\"nao\",\"nao\",\"sim\",\"sim\",\"sim\",\"sim\",\"nao\",\"nao\",\"sim\",\"nao\",\"nao\",\"nao\",\"nao\",\"nao\",\"sim\",\"nao\",\"nao\",\"nao\",\"nao\",\"sim\",\"nao\",\"nao\",\"nao\",\"nao\",\"nao\",\"nao\",\"sim\",\"sim\",\"nao\",\"nao\",\"nao\",\"nao\",\"sim\",\"nao\",\"sim\",\"nao\",\"nao\",\"nao\",\"nao\",\"sim\",\"nao\",\"nao\",\"nao\",\"sim\",\"nao\",\"sim\",\"sim\",\"sim\",\"nao\",\"nao\",\"sim\",\"nao\",\"nao\",\"nao\",\"nao\",\"nao\",\"nao\",\"nao\",\"nao\",\"sim\",\"sim\",\"nao\",\"nao\",\"nao\",\"nao\",\"sim\",\"nao\",\"nao\",\"nao\",\"nao\",\"nao\",\"sim\",\"nao\",\"nao\",\"sim\",\"sim\",\"sim\",\"nao\",\"nao\",\"nao\",\"sim\",\"nao\",\"nao\",\"sim\",\"nao\",\"nao\",\"sim\",\"sim\",\"nao\",\"nao\",\"nao\",\"nao\",\"sim\",\"nao\",\"sim\",\"sim\",\"sim\",\"nao\",\"nao\",\"sim\",\"nao\",\"sim\",\"nao\",\"nao\",\"nao\",\"nao\",\"nao\",\"nao\",\"sim\",\"sim\",\"sim\",\"sim\",\"sim\",\"nao\",\"sim\",\"nao\",\"nao\",\"nao\",\"nao\",\"nao\",\"sim\",\"nao\",\"nao\",\"sim\",\"nao\",\"nao\",\"nao\",\"sim\",\"sim\",\"sim\",\"sim\",\"sim\",\"nao\",\"nao\",\"nao\",\"sim\",\"nao\",\"sim\",\"sim\",\"nao\",\"nao\",\"nao\",\"nao\",\"sim\",\"sim\",\"nao\",\"nao\",\"nao\",\"nao\",\"sim\",\"nao\",\"nao\",\"sim\",\"sim\",\"nao\",\"nao\",\"nao\",\"sim\",\"sim\",\"sim\",\"sim\",\"sim\",\"nao\",\"sim\",\"nao\",\"nao\",\"sim\",\"nao\",\"nao\",\"nao\",\"nao\",\"nao\",\"nao\",\"nao\",\"nao\",\"nao\",\"sim\",\"nao\",\"sim\",\"nao\",\"nao\",\"sim\",\"nao\",\"nao\",\"nao\",\"nao\",\"nao\",\"sim\",\"nao\",\"nao\",\"nao\",\"sim\",\"sim\",\"sim\",\"nao\",\"sim\",\"nao\",\"nao\",\"nao\",\"sim\",\"nao\",\"sim\",\"sim\",\"nao\",\"sim\",\"sim\",\"sim\",\"nao\",\"sim\",\"nao\",\"nao\",\"sim\",\"nao\",\"sim\",\"sim\",\"nao\",\"nao\",\"nao\",\"sim\",\"nao\",\"nao\",\"sim\",\"sim\",\"sim\",\"nao\",\"nao\",\"nao\",\"sim\",\"nao\",\"nao\",\"nao\",\"nao\",\"nao\",\"nao\",\"nao\",\"sim\",\"sim\",\"nao\",\"nao\",\"nao\",\"sim\",\"nao\",\"sim\",\"nao\",\"sim\",\"nao\",\"nao\",\"nao\",\"nao\",\"sim\",\"sim\",\"sim\",\"nao\",\"nao\",\"nao\",\"sim\",\"nao\",\"nao\",\"nao\",\"nao\",\"nao\",\"sim\",\"sim\",\"sim\",\"nao\",\"sim\",\"nao\",\"sim\",\"nao\",\"nao\",\"sim\",\"sim\",\"nao\",\"sim\",\"sim\",\"nao\",\"sim\",\"nao\",\"nao\",\"nao\",\"nao\",\"sim\",\"nao\",\"nao\",\"sim\",\"sim\",\"sim\",\"nao\",\"nao\",\"nao\",\"nao\",\"nao\",\"nao\",\"sim\",\"nao\",\"nao\",\"sim\",\"nao\",\"sim\",\"nao\",\"nao\",\"nao\",\"nao\",\"nao\",\"nao\",\"nao\",\"nao\",\"nao\",\"nao\",\"nao\",\"sim\",\"nao\",\"nao\",\"sim\",\"nao\",\"sim\",\"nao\",\"nao\",\"sim\",\"nao\",\"sim\",\"sim\",\"nao\",\"nao\",\"sim\",\"nao\",\"nao\",\"sim\",\"nao\",\"nao\",\"sim\",\"sim\",\"nao\",\"sim\",\"nao\",\"sim\",\"sim\",\"nao\",\"nao\",\"sim\",\"sim\",\"nao\",\"sim\",\"sim\",\"sim\",\"sim\",\"sim\",\"nao\",\"sim\",\"nao\",\"sim\",\"sim\",\"nao\",\"nao\",\"nao\",\"nao\",\"sim\",\"nao\",\"nao\",\"nao\",\"nao\",\"sim\",\"nao\",\"nao\",\"sim\",\"nao\",\"nao\",\"nao\",\"sim\",\"nao\",\"sim\",\"nao\",\"nao\",\"nao\",\"nao\",\"sim\",\"nao\",\"sim\",\"sim\",\"sim\",\"sim\",\"nao\",\"nao\",\"nao\",\"nao\",\"nao\",\"nao\",\"sim\",\"nao\",\"sim\",\"nao\",\"nao\",\"nao\",\"nao\",\"nao\",\"nao\",\"nao\",\"sim\",\"sim\",\"nao\",\"nao\",\"nao\",\"nao\",\"sim\",\"nao\",\"nao\",\"nao\",\"nao\",\"nao\",\"nao\",\"nao\",\"sim\",\"nao\",\"sim\",\"nao\",\"nao\",\"nao\",\"sim\",\"sim\",\"nao\",\"nao\",\"sim\",\"nao\",\"nao\",\"nao\",\"nao\",\"nao\",\"nao\",\"sim\",\"sim\",\"sim\",\"nao\",\"nao\",\"nao\",\"nao\",\"sim\",\"nao\",\"sim\",\"sim\",\"sim\",\"nao\",\"nao\",\"nao\",\"nao\",\"sim\",\"sim\",\"sim\",\"nao\",\"sim\",\"sim\",\"nao\",\"nao\",\"nao\",\"nao\",\"sim\",\"nao\",\"nao\",\"nao\",\"sim\",\"nao\",\"nao\",\"sim\",\"sim\",\"sim\",\"nao\",\"nao\",\"nao\",\"nao\",\"sim\",\"nao\",\"sim\",\"nao\",\"nao\",\"sim\",\"nao\",\"sim\",\"sim\",\"sim\",\"sim\",\"nao\",\"sim\",\"nao\",\"nao\",\"sim\",\"nao\",\"nao\",\"nao\",\"nao\",\"sim\",\"nao\",\"nao\",\"nao\",\"nao\",\"nao\",\"sim\",\"sim\",\"nao\",\"sim\",\"nao\",\"nao\",\"nao\",\"nao\",\"nao\",\"sim\",\"nao\",\"sim\",\"sim\",\"nao\",\"nao\",\"sim\",\"sim\",\"sim\",\"nao\",\"nao\",\"sim\",\"nao\",\"nao\",\"nao\",\"nao\",\"nao\",\"nao\",\"sim\",\"nao\",\"nao\",\"nao\",\"sim\",\"nao\",\"nao\",\"sim\",\"sim\",\"nao\",\"sim\",\"nao\",\"sim\",\"nao\",\"sim\",\"nao\",\"sim\",\"nao\",\"sim\",\"nao\",\"sim\",\"sim\",\"sim\",\"nao\",\"nao\",\"sim\",\"nao\",\"nao\",\"nao\",\"nao\",\"nao\",\"nao\",\"nao\",\"sim\",\"sim\",\"nao\",\"sim\",\"nao\",\"nao\",\"sim\",\"nao\",\"nao\",\"sim\",\"sim\",\"nao\",\"sim\",\"nao\",\"sim\",\"nao\",\"nao\",\"nao\",\"nao\",\"sim\",\"nao\",\"nao\",\"sim\",\"sim\",\"nao\",\"nao\",\"nao\",\"nao\",\"nao\",\"nao\",\"nao\",\"sim\",\"nao\",\"nao\",\"nao\",\"sim\",\"sim\",\"nao\",\"nao\",\"nao\",\"sim\",\"sim\",\"sim\",\"nao\",\"sim\",\"sim\",\"nao\",\"nao\",\"nao\",\"sim\",\"nao\",\"nao\",\"sim\",\"sim\",\"nao\",\"nao\",\"sim\",\"nao\",\"nao\",\"nao\",\"nao\",\"nao\",\"nao\",\"sim\",\"sim\",\"sim\",\"nao\",\"nao\",\"sim\",\"sim\",\"sim\",\"nao\",\"nao\",\"nao\",\"nao\",\"nao\",\"nao\",\"nao\",\"sim\",\"nao\",\"sim\",\"sim\",\"sim\",\"sim\",\"nao\",\"nao\",\"nao\",\"sim\",\"nao\",\"nao\",\"nao\",\"sim\",\"nao\",\"nao\",\"nao\",\"nao\",\"sim\",\"nao\",\"sim\",\"sim\",\"nao\",\"sim\",\"nao\",\"nao\",\"sim\",\"nao\",\"nao\",\"sim\",\"sim\",\"nao\",\"nao\",\"nao\",\"nao\",\"sim\",\"sim\",\"nao\",\"sim\",\"sim\",\"nao\",\"sim\",\"sim\",\"sim\",\"nao\",\"nao\",\"sim\",\"sim\",\"nao\",\"nao\",\"nao\",\"sim\",\"sim\",\"sim\",\"sim\",\"sim\",\"sim\",\"nao\",\"nao\",\"nao\",\"sim\",\"nao\",\"sim\",\"sim\",\"nao\",\"nao\",\"sim\",\"nao\",\"sim\",\"sim\",\"nao\",\"sim\",\"nao\",\"sim\",\"nao\",\"nao\",\"nao\",\"nao\",\"sim\",\"sim\",\"sim\",\"sim\",\"sim\",\"nao\",\"nao\",\"sim\",\"sim\",\"nao\",\"nao\",\"nao\",\"nao\",\"nao\",\"sim\",\"nao\",\"nao\",\"sim\",\"sim\",\"nao\",\"nao\",\"nao\",\"nao\",\"nao\",\"sim\",\"nao\",\"nao\",\"nao\",\"nao\",\"nao\",\"nao\",\"nao\",\"nao\",\"sim\",\"sim\",\"sim\",\"nao\",\"sim\",\"sim\",\"nao\",\"sim\",\"sim\",\"nao\",\"nao\",\"nao\",\"sim\",\"nao\",\"nao\",\"nao\",\"nao\",\"sim\",\"sim\",\"nao\",\"nao\",\"sim\",\"sim\",\"sim\",\"sim\",\"nao\",\"sim\",\"sim\",\"sim\",\"sim\",\"sim\",\"nao\",\"sim\",\"nao\",\"sim\",\"nao\",\"nao\",\"sim\",\"nao\",\"nao\",\"nao\",\"nao\",\"sim\",\"nao\",\"sim\",\"sim\",\"nao\",\"nao\",\"sim\",\"sim\",\"sim\",\"sim\",\"nao\",\"nao\",\"sim\",\"nao\",\"nao\",\"nao\",\"nao\",\"sim\",\"sim\",\"nao\",\"sim\",\"nao\",\"sim\",\"nao\",\"nao\",\"sim\",\"sim\",\"nao\",\"nao\",\"nao\",\"nao\",\"nao\",\"nao\",\"sim\",\"nao\",\"sim\",\"nao\",\"nao\",\"sim\",\"nao\",\"nao\",\"nao\",\"sim\",\"nao\",\"sim\",\"sim\",\"nao\",\"sim\",\"nao\",\"nao\",\"nao\",\"nao\",\"nao\",\"sim\",\"sim\",\"sim\",\"nao\",\"nao\",\"sim\",\"nao\",\"nao\",\"nao\",\"sim\",\"nao\",\"nao\",\"sim\",\"sim\",\"sim\",\"nao\",\"sim\",\"nao\",\"nao\",\"nao\",\"sim\",\"nao\",\"sim\",\"nao\",\"nao\",\"sim\",\"nao\",\"nao\",\"sim\",\"nao\",\"nao\",\"sim\",\"sim\",\"sim\",\"nao\",\"nao\",\"sim\",\"sim\",\"nao\",\"sim\",\"sim\",\"sim\",\"nao\",\"nao\",\"sim\",\"nao\",\"nao\",\"nao\",\"sim\",\"nao\",\"nao\",\"sim\",\"sim\",\"sim\",\"sim\",\"nao\",\"nao\",\"sim\",\"nao\",\"sim\",\"nao\",\"nao\",\"nao\",\"nao\",\"nao\",\"nao\",\"sim\",\"sim\",\"nao\",\"sim\",\"nao\",\"nao\",\"nao\",\"sim\",\"sim\",\"nao\",\"nao\",\"nao\",\"nao\",\"nao\",\"sim\",\"sim\",\"sim\",\"nao\",\"nao\",\"nao\",\"sim\",\"nao\",\"sim\",\"nao\",\"sim\",\"nao\",\"nao\",\"nao\",\"nao\",\"nao\",\"sim\",\"nao\",\"sim\",\"sim\",\"sim\",\"nao\",\"nao\",\"sim\",\"nao\",\"sim\",\"nao\",\"sim\",\"nao\",\"sim\",\"nao\",\"nao\",\"nao\",\"nao\",\"nao\",\"nao\",\"sim\",\"nao\",\"nao\",\"sim\",\"sim\",\"nao\",\"sim\",\"nao\",\"sim\",\"nao\",\"sim\",\"nao\",\"nao\",\"sim\",\"nao\",\"sim\",\"nao\",\"nao\",\"nao\",\"nao\",\"sim\",\"nao\",\"sim\",\"sim\",\"nao\",\"sim\",\"nao\",\"sim\",\"nao\",\"sim\",\"sim\",\"nao\",\"nao\",\"sim\",\"nao\",\"nao\",\"sim\",\"sim\",\"sim\",\"sim\",\"sim\"],\"xaxis\":\"x\",\"yaxis\":\"y\",\"type\":\"histogram\"}],                        {\"template\":{\"data\":{\"histogram2dcontour\":[{\"type\":\"histogram2dcontour\",\"colorbar\":{\"outlinewidth\":0,\"ticks\":\"\"},\"colorscale\":[[0.0,\"#0d0887\"],[0.1111111111111111,\"#46039f\"],[0.2222222222222222,\"#7201a8\"],[0.3333333333333333,\"#9c179e\"],[0.4444444444444444,\"#bd3786\"],[0.5555555555555556,\"#d8576b\"],[0.6666666666666666,\"#ed7953\"],[0.7777777777777778,\"#fb9f3a\"],[0.8888888888888888,\"#fdca26\"],[1.0,\"#f0f921\"]]}],\"choropleth\":[{\"type\":\"choropleth\",\"colorbar\":{\"outlinewidth\":0,\"ticks\":\"\"}}],\"histogram2d\":[{\"type\":\"histogram2d\",\"colorbar\":{\"outlinewidth\":0,\"ticks\":\"\"},\"colorscale\":[[0.0,\"#0d0887\"],[0.1111111111111111,\"#46039f\"],[0.2222222222222222,\"#7201a8\"],[0.3333333333333333,\"#9c179e\"],[0.4444444444444444,\"#bd3786\"],[0.5555555555555556,\"#d8576b\"],[0.6666666666666666,\"#ed7953\"],[0.7777777777777778,\"#fb9f3a\"],[0.8888888888888888,\"#fdca26\"],[1.0,\"#f0f921\"]]}],\"heatmap\":[{\"type\":\"heatmap\",\"colorbar\":{\"outlinewidth\":0,\"ticks\":\"\"},\"colorscale\":[[0.0,\"#0d0887\"],[0.1111111111111111,\"#46039f\"],[0.2222222222222222,\"#7201a8\"],[0.3333333333333333,\"#9c179e\"],[0.4444444444444444,\"#bd3786\"],[0.5555555555555556,\"#d8576b\"],[0.6666666666666666,\"#ed7953\"],[0.7777777777777778,\"#fb9f3a\"],[0.8888888888888888,\"#fdca26\"],[1.0,\"#f0f921\"]]}],\"heatmapgl\":[{\"type\":\"heatmapgl\",\"colorbar\":{\"outlinewidth\":0,\"ticks\":\"\"},\"colorscale\":[[0.0,\"#0d0887\"],[0.1111111111111111,\"#46039f\"],[0.2222222222222222,\"#7201a8\"],[0.3333333333333333,\"#9c179e\"],[0.4444444444444444,\"#bd3786\"],[0.5555555555555556,\"#d8576b\"],[0.6666666666666666,\"#ed7953\"],[0.7777777777777778,\"#fb9f3a\"],[0.8888888888888888,\"#fdca26\"],[1.0,\"#f0f921\"]]}],\"contourcarpet\":[{\"type\":\"contourcarpet\",\"colorbar\":{\"outlinewidth\":0,\"ticks\":\"\"}}],\"contour\":[{\"type\":\"contour\",\"colorbar\":{\"outlinewidth\":0,\"ticks\":\"\"},\"colorscale\":[[0.0,\"#0d0887\"],[0.1111111111111111,\"#46039f\"],[0.2222222222222222,\"#7201a8\"],[0.3333333333333333,\"#9c179e\"],[0.4444444444444444,\"#bd3786\"],[0.5555555555555556,\"#d8576b\"],[0.6666666666666666,\"#ed7953\"],[0.7777777777777778,\"#fb9f3a\"],[0.8888888888888888,\"#fdca26\"],[1.0,\"#f0f921\"]]}],\"surface\":[{\"type\":\"surface\",\"colorbar\":{\"outlinewidth\":0,\"ticks\":\"\"},\"colorscale\":[[0.0,\"#0d0887\"],[0.1111111111111111,\"#46039f\"],[0.2222222222222222,\"#7201a8\"],[0.3333333333333333,\"#9c179e\"],[0.4444444444444444,\"#bd3786\"],[0.5555555555555556,\"#d8576b\"],[0.6666666666666666,\"#ed7953\"],[0.7777777777777778,\"#fb9f3a\"],[0.8888888888888888,\"#fdca26\"],[1.0,\"#f0f921\"]]}],\"mesh3d\":[{\"type\":\"mesh3d\",\"colorbar\":{\"outlinewidth\":0,\"ticks\":\"\"}}],\"scatter\":[{\"fillpattern\":{\"fillmode\":\"overlay\",\"size\":10,\"solidity\":0.2},\"type\":\"scatter\"}],\"parcoords\":[{\"type\":\"parcoords\",\"line\":{\"colorbar\":{\"outlinewidth\":0,\"ticks\":\"\"}}}],\"scatterpolargl\":[{\"type\":\"scatterpolargl\",\"marker\":{\"colorbar\":{\"outlinewidth\":0,\"ticks\":\"\"}}}],\"bar\":[{\"error_x\":{\"color\":\"#2a3f5f\"},\"error_y\":{\"color\":\"#2a3f5f\"},\"marker\":{\"line\":{\"color\":\"#E5ECF6\",\"width\":0.5},\"pattern\":{\"fillmode\":\"overlay\",\"size\":10,\"solidity\":0.2}},\"type\":\"bar\"}],\"scattergeo\":[{\"type\":\"scattergeo\",\"marker\":{\"colorbar\":{\"outlinewidth\":0,\"ticks\":\"\"}}}],\"scatterpolar\":[{\"type\":\"scatterpolar\",\"marker\":{\"colorbar\":{\"outlinewidth\":0,\"ticks\":\"\"}}}],\"histogram\":[{\"marker\":{\"pattern\":{\"fillmode\":\"overlay\",\"size\":10,\"solidity\":0.2}},\"type\":\"histogram\"}],\"scattergl\":[{\"type\":\"scattergl\",\"marker\":{\"colorbar\":{\"outlinewidth\":0,\"ticks\":\"\"}}}],\"scatter3d\":[{\"type\":\"scatter3d\",\"line\":{\"colorbar\":{\"outlinewidth\":0,\"ticks\":\"\"}},\"marker\":{\"colorbar\":{\"outlinewidth\":0,\"ticks\":\"\"}}}],\"scattermapbox\":[{\"type\":\"scattermapbox\",\"marker\":{\"colorbar\":{\"outlinewidth\":0,\"ticks\":\"\"}}}],\"scatterternary\":[{\"type\":\"scatterternary\",\"marker\":{\"colorbar\":{\"outlinewidth\":0,\"ticks\":\"\"}}}],\"scattercarpet\":[{\"type\":\"scattercarpet\",\"marker\":{\"colorbar\":{\"outlinewidth\":0,\"ticks\":\"\"}}}],\"carpet\":[{\"aaxis\":{\"endlinecolor\":\"#2a3f5f\",\"gridcolor\":\"white\",\"linecolor\":\"white\",\"minorgridcolor\":\"white\",\"startlinecolor\":\"#2a3f5f\"},\"baxis\":{\"endlinecolor\":\"#2a3f5f\",\"gridcolor\":\"white\",\"linecolor\":\"white\",\"minorgridcolor\":\"white\",\"startlinecolor\":\"#2a3f5f\"},\"type\":\"carpet\"}],\"table\":[{\"cells\":{\"fill\":{\"color\":\"#EBF0F8\"},\"line\":{\"color\":\"white\"}},\"header\":{\"fill\":{\"color\":\"#C8D4E3\"},\"line\":{\"color\":\"white\"}},\"type\":\"table\"}],\"barpolar\":[{\"marker\":{\"line\":{\"color\":\"#E5ECF6\",\"width\":0.5},\"pattern\":{\"fillmode\":\"overlay\",\"size\":10,\"solidity\":0.2}},\"type\":\"barpolar\"}],\"pie\":[{\"automargin\":true,\"type\":\"pie\"}]},\"layout\":{\"autotypenumbers\":\"strict\",\"colorway\":[\"#636efa\",\"#EF553B\",\"#00cc96\",\"#ab63fa\",\"#FFA15A\",\"#19d3f3\",\"#FF6692\",\"#B6E880\",\"#FF97FF\",\"#FECB52\"],\"font\":{\"color\":\"#2a3f5f\"},\"hovermode\":\"closest\",\"hoverlabel\":{\"align\":\"left\"},\"paper_bgcolor\":\"white\",\"plot_bgcolor\":\"#E5ECF6\",\"polar\":{\"bgcolor\":\"#E5ECF6\",\"angularaxis\":{\"gridcolor\":\"white\",\"linecolor\":\"white\",\"ticks\":\"\"},\"radialaxis\":{\"gridcolor\":\"white\",\"linecolor\":\"white\",\"ticks\":\"\"}},\"ternary\":{\"bgcolor\":\"#E5ECF6\",\"aaxis\":{\"gridcolor\":\"white\",\"linecolor\":\"white\",\"ticks\":\"\"},\"baxis\":{\"gridcolor\":\"white\",\"linecolor\":\"white\",\"ticks\":\"\"},\"caxis\":{\"gridcolor\":\"white\",\"linecolor\":\"white\",\"ticks\":\"\"}},\"coloraxis\":{\"colorbar\":{\"outlinewidth\":0,\"ticks\":\"\"}},\"colorscale\":{\"sequential\":[[0.0,\"#0d0887\"],[0.1111111111111111,\"#46039f\"],[0.2222222222222222,\"#7201a8\"],[0.3333333333333333,\"#9c179e\"],[0.4444444444444444,\"#bd3786\"],[0.5555555555555556,\"#d8576b\"],[0.6666666666666666,\"#ed7953\"],[0.7777777777777778,\"#fb9f3a\"],[0.8888888888888888,\"#fdca26\"],[1.0,\"#f0f921\"]],\"sequentialminus\":[[0.0,\"#0d0887\"],[0.1111111111111111,\"#46039f\"],[0.2222222222222222,\"#7201a8\"],[0.3333333333333333,\"#9c179e\"],[0.4444444444444444,\"#bd3786\"],[0.5555555555555556,\"#d8576b\"],[0.6666666666666666,\"#ed7953\"],[0.7777777777777778,\"#fb9f3a\"],[0.8888888888888888,\"#fdca26\"],[1.0,\"#f0f921\"]],\"diverging\":[[0,\"#8e0152\"],[0.1,\"#c51b7d\"],[0.2,\"#de77ae\"],[0.3,\"#f1b6da\"],[0.4,\"#fde0ef\"],[0.5,\"#f7f7f7\"],[0.6,\"#e6f5d0\"],[0.7,\"#b8e186\"],[0.8,\"#7fbc41\"],[0.9,\"#4d9221\"],[1,\"#276419\"]]},\"xaxis\":{\"gridcolor\":\"white\",\"linecolor\":\"white\",\"ticks\":\"\",\"title\":{\"standoff\":15},\"zerolinecolor\":\"white\",\"automargin\":true,\"zerolinewidth\":2},\"yaxis\":{\"gridcolor\":\"white\",\"linecolor\":\"white\",\"ticks\":\"\",\"title\":{\"standoff\":15},\"zerolinecolor\":\"white\",\"automargin\":true,\"zerolinewidth\":2},\"scene\":{\"xaxis\":{\"backgroundcolor\":\"#E5ECF6\",\"gridcolor\":\"white\",\"linecolor\":\"white\",\"showbackground\":true,\"ticks\":\"\",\"zerolinecolor\":\"white\",\"gridwidth\":2},\"yaxis\":{\"backgroundcolor\":\"#E5ECF6\",\"gridcolor\":\"white\",\"linecolor\":\"white\",\"showbackground\":true,\"ticks\":\"\",\"zerolinecolor\":\"white\",\"gridwidth\":2},\"zaxis\":{\"backgroundcolor\":\"#E5ECF6\",\"gridcolor\":\"white\",\"linecolor\":\"white\",\"showbackground\":true,\"ticks\":\"\",\"zerolinecolor\":\"white\",\"gridwidth\":2}},\"shapedefaults\":{\"line\":{\"color\":\"#2a3f5f\"}},\"annotationdefaults\":{\"arrowcolor\":\"#2a3f5f\",\"arrowhead\":0,\"arrowwidth\":1},\"geo\":{\"bgcolor\":\"white\",\"landcolor\":\"#E5ECF6\",\"subunitcolor\":\"white\",\"showland\":true,\"showlakes\":true,\"lakecolor\":\"white\"},\"title\":{\"x\":0.05},\"mapbox\":{\"style\":\"light\"}}},\"xaxis\":{\"anchor\":\"y\",\"domain\":[0.0,1.0],\"title\":{\"text\":\"aderencia_investimento\"}},\"yaxis\":{\"anchor\":\"x\",\"domain\":[0.0,1.0],\"title\":{\"text\":\"count\"}},\"legend\":{\"tracegroupgap\":0},\"margin\":{\"t\":60},\"barmode\":\"relative\"},                        {\"responsive\": true}                    ).then(function(){\n",
              "                            \n",
              "var gd = document.getElementById('89d1fccc-917c-4115-a94a-0d77cfccd85f');\n",
              "var x = new MutationObserver(function (mutations, observer) {{\n",
              "        var display = window.getComputedStyle(gd).display;\n",
              "        if (!display || display === 'none') {{\n",
              "            console.log([gd, 'removed!']);\n",
              "            Plotly.purge(gd);\n",
              "            observer.disconnect();\n",
              "        }}\n",
              "}});\n",
              "\n",
              "// Listen for the removal of the full notebook cells\n",
              "var notebookContainer = gd.closest('#notebook-container');\n",
              "if (notebookContainer) {{\n",
              "    x.observe(notebookContainer, {childList: true});\n",
              "}}\n",
              "\n",
              "// Listen for the clearing of the current output cell\n",
              "var outputEl = gd.closest('.output');\n",
              "if (outputEl) {{\n",
              "    x.observe(outputEl, {childList: true});\n",
              "}}\n",
              "\n",
              "                        })                };                            </script>        </div>\n",
              "</body>\n",
              "</html>"
            ]
          },
          "metadata": {}
        }
      ]
    },
    {
      "cell_type": "code",
      "source": [
        "# Importing the plotly.express library for visualization\n",
        "import plotly.express as px\n",
        "\n",
        "# Creating a grouped histogram to visualize the distribution of 'estado_civil' with respect to 'aderencia_investimento'\n",
        "fig2 = px.histogram(data,\n",
        "                   x=\"estado_civil\",  # Column for the x-axis\n",
        "                   text_auto=True,  # Automatically add text labels to the bars\n",
        "                   color=\"aderencia_investimento\",  # Color the bars based on 'aderencia_investimento'\n",
        "                   barmode=\"group\")  # Group the bars for better comparison\n",
        "\n",
        "# Displaying the plot\n",
        "fig2.show()\n"
      ],
      "metadata": {
        "id": "pYhQADJmit5K",
        "colab": {
          "base_uri": "https://localhost:8080/",
          "height": 542
        },
        "outputId": "492eb57f-4259-408f-bc60-b655087fbc69"
      },
      "execution_count": 168,
      "outputs": [
        {
          "output_type": "display_data",
          "data": {
            "text/html": [
              "<html>\n",
              "<head><meta charset=\"utf-8\" /></head>\n",
              "<body>\n",
              "    <div>            <script src=\"https://cdnjs.cloudflare.com/ajax/libs/mathjax/2.7.5/MathJax.js?config=TeX-AMS-MML_SVG\"></script><script type=\"text/javascript\">if (window.MathJax && window.MathJax.Hub && window.MathJax.Hub.Config) {window.MathJax.Hub.Config({SVG: {font: \"STIX-Web\"}});}</script>                <script type=\"text/javascript\">window.PlotlyConfig = {MathJaxConfig: 'local'};</script>\n",
              "        <script charset=\"utf-8\" src=\"https://cdn.plot.ly/plotly-2.35.2.min.js\"></script>                <div id=\"a9b8989d-5f5d-4d91-abd3-b950ffef00b1\" class=\"plotly-graph-div\" style=\"height:525px; width:100%;\"></div>            <script type=\"text/javascript\">                                    window.PLOTLYENV=window.PLOTLYENV || {};                                    if (document.getElementById(\"a9b8989d-5f5d-4d91-abd3-b950ffef00b1\")) {                    Plotly.newPlot(                        \"a9b8989d-5f5d-4d91-abd3-b950ffef00b1\",                        [{\"alignmentgroup\":\"True\",\"bingroup\":\"x\",\"hovertemplate\":\"aderencia_investimento=sim\\u003cbr\\u003eestado_civil=%{x}\\u003cbr\\u003ecount=%{y}\\u003cextra\\u003e\\u003c\\u002fextra\\u003e\",\"legendgroup\":\"sim\",\"marker\":{\"color\":\"#636efa\",\"pattern\":{\"shape\":\"\"}},\"name\":\"sim\",\"offsetgroup\":\"sim\",\"orientation\":\"v\",\"showlegend\":true,\"texttemplate\":\"%{value}\",\"x\":[\"casado (a)\",\"casado (a)\",\"divorciado (a)\",\"casado (a)\",\"solteiro (a)\",\"solteiro (a)\",\"casado (a)\",\"divorciado (a)\",\"casado (a)\",\"divorciado (a)\",\"casado (a)\",\"solteiro (a)\",\"solteiro (a)\",\"casado (a)\",\"solteiro (a)\",\"casado (a)\",\"casado (a)\",\"casado (a)\",\"casado (a)\",\"casado (a)\",\"casado (a)\",\"casado (a)\",\"casado (a)\",\"solteiro (a)\",\"solteiro (a)\",\"divorciado (a)\",\"divorciado (a)\",\"solteiro (a)\",\"divorciado (a)\",\"solteiro (a)\",\"solteiro (a)\",\"solteiro (a)\",\"solteiro (a)\",\"solteiro (a)\",\"casado (a)\",\"casado (a)\",\"casado (a)\",\"casado (a)\",\"casado (a)\",\"solteiro (a)\",\"solteiro (a)\",\"casado (a)\",\"solteiro (a)\",\"casado (a)\",\"casado (a)\",\"casado (a)\",\"divorciado (a)\",\"casado (a)\",\"solteiro (a)\",\"solteiro (a)\",\"casado (a)\",\"casado (a)\",\"casado (a)\",\"casado (a)\",\"solteiro (a)\",\"casado (a)\",\"divorciado (a)\",\"casado (a)\",\"divorciado (a)\",\"casado (a)\",\"solteiro (a)\",\"casado (a)\",\"casado (a)\",\"divorciado (a)\",\"divorciado (a)\",\"solteiro (a)\",\"casado (a)\",\"casado (a)\",\"casado (a)\",\"solteiro (a)\",\"divorciado (a)\",\"solteiro (a)\",\"casado (a)\",\"casado (a)\",\"casado (a)\",\"divorciado (a)\",\"divorciado (a)\",\"casado (a)\",\"solteiro (a)\",\"casado (a)\",\"solteiro (a)\",\"casado (a)\",\"casado (a)\",\"casado (a)\",\"casado (a)\",\"casado (a)\",\"divorciado (a)\",\"divorciado (a)\",\"casado (a)\",\"divorciado (a)\",\"casado (a)\",\"casado (a)\",\"casado (a)\",\"solteiro (a)\",\"casado (a)\",\"casado (a)\",\"casado (a)\",\"solteiro (a)\",\"solteiro (a)\",\"solteiro (a)\",\"casado (a)\",\"casado (a)\",\"divorciado (a)\",\"casado (a)\",\"solteiro (a)\",\"casado (a)\",\"casado (a)\",\"solteiro (a)\",\"divorciado (a)\",\"solteiro (a)\",\"casado (a)\",\"solteiro (a)\",\"casado (a)\",\"solteiro (a)\",\"casado (a)\",\"solteiro (a)\",\"solteiro (a)\",\"casado (a)\",\"casado (a)\",\"casado (a)\",\"casado (a)\",\"solteiro (a)\",\"divorciado (a)\",\"solteiro (a)\",\"solteiro (a)\",\"solteiro (a)\",\"casado (a)\",\"solteiro (a)\",\"solteiro (a)\",\"solteiro (a)\",\"solteiro (a)\",\"casado (a)\",\"solteiro (a)\",\"divorciado (a)\",\"casado (a)\",\"casado (a)\",\"casado (a)\",\"divorciado (a)\",\"casado (a)\",\"solteiro (a)\",\"casado (a)\",\"casado (a)\",\"solteiro (a)\",\"casado (a)\",\"solteiro (a)\",\"casado (a)\",\"casado (a)\",\"solteiro (a)\",\"casado (a)\",\"solteiro (a)\",\"solteiro (a)\",\"casado (a)\",\"solteiro (a)\",\"casado (a)\",\"solteiro (a)\",\"divorciado (a)\",\"solteiro (a)\",\"solteiro (a)\",\"solteiro (a)\",\"casado (a)\",\"casado (a)\",\"casado (a)\",\"casado (a)\",\"solteiro (a)\",\"casado (a)\",\"casado (a)\",\"casado (a)\",\"casado (a)\",\"casado (a)\",\"solteiro (a)\",\"solteiro (a)\",\"casado (a)\",\"casado (a)\",\"casado (a)\",\"solteiro (a)\",\"casado (a)\",\"casado (a)\",\"divorciado (a)\",\"casado (a)\",\"casado (a)\",\"solteiro (a)\",\"casado (a)\",\"divorciado (a)\",\"casado (a)\",\"casado (a)\",\"solteiro (a)\",\"solteiro (a)\",\"divorciado (a)\",\"casado (a)\",\"casado (a)\",\"casado (a)\",\"casado (a)\",\"divorciado (a)\",\"divorciado (a)\",\"solteiro (a)\",\"solteiro (a)\",\"casado (a)\",\"solteiro (a)\",\"solteiro (a)\",\"casado (a)\",\"casado (a)\",\"casado (a)\",\"casado (a)\",\"casado (a)\",\"solteiro (a)\",\"solteiro (a)\",\"divorciado (a)\",\"solteiro (a)\",\"divorciado (a)\",\"casado (a)\",\"solteiro (a)\",\"casado (a)\",\"divorciado (a)\",\"solteiro (a)\",\"casado (a)\",\"casado (a)\",\"solteiro (a)\",\"casado (a)\",\"casado (a)\",\"divorciado (a)\",\"casado (a)\",\"solteiro (a)\",\"casado (a)\",\"casado (a)\",\"casado (a)\",\"divorciado (a)\",\"casado (a)\",\"solteiro (a)\",\"casado (a)\",\"casado (a)\",\"casado (a)\",\"divorciado (a)\",\"casado (a)\",\"solteiro (a)\",\"casado (a)\",\"casado (a)\",\"casado (a)\",\"casado (a)\",\"casado (a)\",\"casado (a)\",\"solteiro (a)\",\"casado (a)\",\"casado (a)\",\"casado (a)\",\"solteiro (a)\",\"casado (a)\",\"casado (a)\",\"casado (a)\",\"casado (a)\",\"divorciado (a)\",\"solteiro (a)\",\"casado (a)\",\"casado (a)\",\"casado (a)\",\"divorciado (a)\",\"casado (a)\",\"divorciado (a)\",\"solteiro (a)\",\"casado (a)\",\"solteiro (a)\",\"solteiro (a)\",\"casado (a)\",\"casado (a)\",\"casado (a)\",\"casado (a)\",\"solteiro (a)\",\"solteiro (a)\",\"casado (a)\",\"casado (a)\",\"casado (a)\",\"solteiro (a)\",\"solteiro (a)\",\"casado (a)\",\"casado (a)\",\"casado (a)\",\"solteiro (a)\",\"casado (a)\",\"casado (a)\",\"casado (a)\",\"casado (a)\",\"divorciado (a)\",\"solteiro (a)\",\"casado (a)\",\"divorciado (a)\",\"solteiro (a)\",\"solteiro (a)\",\"casado (a)\",\"casado (a)\",\"casado (a)\",\"casado (a)\",\"casado (a)\",\"solteiro (a)\",\"solteiro (a)\",\"casado (a)\",\"solteiro (a)\",\"solteiro (a)\",\"solteiro (a)\",\"divorciado (a)\",\"solteiro (a)\",\"casado (a)\",\"divorciado (a)\",\"casado (a)\",\"casado (a)\",\"casado (a)\",\"casado (a)\",\"casado (a)\",\"solteiro (a)\",\"casado (a)\",\"casado (a)\",\"casado (a)\",\"casado (a)\",\"solteiro (a)\",\"casado (a)\",\"solteiro (a)\",\"solteiro (a)\",\"divorciado (a)\",\"solteiro (a)\",\"solteiro (a)\",\"casado (a)\",\"casado (a)\",\"divorciado (a)\",\"casado (a)\",\"solteiro (a)\",\"casado (a)\",\"divorciado (a)\",\"solteiro (a)\",\"casado (a)\",\"casado (a)\",\"divorciado (a)\",\"casado (a)\",\"casado (a)\",\"casado (a)\",\"solteiro (a)\",\"casado (a)\",\"solteiro (a)\",\"solteiro (a)\",\"solteiro (a)\",\"casado (a)\",\"casado (a)\",\"solteiro (a)\",\"solteiro (a)\",\"casado (a)\",\"casado (a)\",\"solteiro (a)\",\"solteiro (a)\",\"solteiro (a)\",\"casado (a)\",\"casado (a)\",\"casado (a)\",\"casado (a)\",\"divorciado (a)\",\"solteiro (a)\",\"divorciado (a)\",\"casado (a)\",\"divorciado (a)\",\"casado (a)\",\"solteiro (a)\",\"solteiro (a)\",\"divorciado (a)\",\"casado (a)\",\"solteiro (a)\",\"solteiro (a)\",\"casado (a)\",\"casado (a)\",\"casado (a)\",\"divorciado (a)\",\"solteiro (a)\",\"solteiro (a)\",\"solteiro (a)\",\"casado (a)\",\"solteiro (a)\",\"casado (a)\",\"casado (a)\",\"casado (a)\",\"solteiro (a)\",\"casado (a)\",\"casado (a)\",\"solteiro (a)\",\"solteiro (a)\",\"divorciado (a)\",\"solteiro (a)\",\"divorciado (a)\",\"divorciado (a)\",\"casado (a)\",\"divorciado (a)\",\"casado (a)\",\"divorciado (a)\",\"divorciado (a)\",\"divorciado (a)\",\"solteiro (a)\",\"divorciado (a)\",\"divorciado (a)\",\"solteiro (a)\",\"solteiro (a)\",\"solteiro (a)\",\"casado (a)\",\"divorciado (a)\",\"solteiro (a)\",\"casado (a)\",\"divorciado (a)\",\"solteiro (a)\",\"solteiro (a)\",\"casado (a)\",\"solteiro (a)\",\"solteiro (a)\",\"solteiro (a)\",\"solteiro (a)\",\"casado (a)\",\"casado (a)\",\"solteiro (a)\",\"divorciado (a)\",\"solteiro (a)\",\"casado (a)\",\"casado (a)\",\"casado (a)\",\"casado (a)\",\"solteiro (a)\",\"divorciado (a)\",\"casado (a)\",\"casado (a)\",\"casado (a)\",\"solteiro (a)\",\"casado (a)\",\"casado (a)\",\"solteiro (a)\",\"solteiro (a)\",\"casado (a)\",\"solteiro (a)\",\"casado (a)\",\"casado (a)\",\"solteiro (a)\",\"casado (a)\",\"divorciado (a)\",\"casado (a)\",\"divorciado (a)\",\"solteiro (a)\",\"solteiro (a)\",\"casado (a)\",\"casado (a)\",\"solteiro (a)\",\"divorciado (a)\",\"casado (a)\",\"divorciado (a)\",\"casado (a)\",\"solteiro (a)\",\"casado (a)\",\"solteiro (a)\",\"divorciado (a)\",\"divorciado (a)\",\"casado (a)\",\"casado (a)\",\"solteiro (a)\",\"solteiro (a)\",\"casado (a)\",\"casado (a)\",\"casado (a)\",\"casado (a)\",\"divorciado (a)\",\"solteiro (a)\",\"casado (a)\",\"solteiro (a)\",\"casado (a)\",\"casado (a)\",\"divorciado (a)\",\"casado (a)\",\"casado (a)\",\"casado (a)\",\"solteiro (a)\",\"casado (a)\",\"solteiro (a)\",\"casado (a)\",\"casado (a)\",\"casado (a)\",\"solteiro (a)\",\"divorciado (a)\",\"casado (a)\",\"casado (a)\",\"casado (a)\",\"casado (a)\",\"casado (a)\",\"casado (a)\",\"solteiro (a)\",\"solteiro (a)\",\"casado (a)\",\"casado (a)\",\"casado (a)\",\"solteiro (a)\",\"casado (a)\",\"casado (a)\",\"casado (a)\",\"divorciado (a)\",\"casado (a)\",\"solteiro (a)\",\"casado (a)\",\"casado (a)\",\"divorciado (a)\",\"casado (a)\",\"solteiro (a)\",\"solteiro (a)\",\"solteiro (a)\",\"casado (a)\",\"solteiro (a)\"],\"xaxis\":\"x\",\"yaxis\":\"y\",\"type\":\"histogram\"},{\"alignmentgroup\":\"True\",\"bingroup\":\"x\",\"hovertemplate\":\"aderencia_investimento=nao\\u003cbr\\u003eestado_civil=%{x}\\u003cbr\\u003ecount=%{y}\\u003cextra\\u003e\\u003c\\u002fextra\\u003e\",\"legendgroup\":\"nao\",\"marker\":{\"color\":\"#EF553B\",\"pattern\":{\"shape\":\"\"}},\"name\":\"nao\",\"offsetgroup\":\"nao\",\"orientation\":\"v\",\"showlegend\":true,\"texttemplate\":\"%{value}\",\"x\":[\"solteiro (a)\",\"casado (a)\",\"casado (a)\",\"casado (a)\",\"divorciado (a)\",\"casado (a)\",\"casado (a)\",\"solteiro (a)\",\"casado (a)\",\"casado (a)\",\"casado (a)\",\"divorciado (a)\",\"solteiro (a)\",\"casado (a)\",\"casado (a)\",\"casado (a)\",\"casado (a)\",\"solteiro (a)\",\"casado (a)\",\"casado (a)\",\"casado (a)\",\"casado (a)\",\"divorciado (a)\",\"divorciado (a)\",\"casado (a)\",\"casado (a)\",\"casado (a)\",\"casado (a)\",\"casado (a)\",\"divorciado (a)\",\"casado (a)\",\"casado (a)\",\"casado (a)\",\"solteiro (a)\",\"casado (a)\",\"solteiro (a)\",\"divorciado (a)\",\"solteiro (a)\",\"casado (a)\",\"casado (a)\",\"casado (a)\",\"casado (a)\",\"divorciado (a)\",\"casado (a)\",\"casado (a)\",\"casado (a)\",\"casado (a)\",\"casado (a)\",\"casado (a)\",\"casado (a)\",\"solteiro (a)\",\"casado (a)\",\"casado (a)\",\"casado (a)\",\"solteiro (a)\",\"casado (a)\",\"casado (a)\",\"casado (a)\",\"divorciado (a)\",\"solteiro (a)\",\"casado (a)\",\"casado (a)\",\"solteiro (a)\",\"casado (a)\",\"casado (a)\",\"casado (a)\",\"solteiro (a)\",\"casado (a)\",\"solteiro (a)\",\"casado (a)\",\"casado (a)\",\"casado (a)\",\"solteiro (a)\",\"casado (a)\",\"casado (a)\",\"solteiro (a)\",\"casado (a)\",\"solteiro (a)\",\"casado (a)\",\"casado (a)\",\"casado (a)\",\"casado (a)\",\"casado (a)\",\"casado (a)\",\"casado (a)\",\"casado (a)\",\"casado (a)\",\"casado (a)\",\"casado (a)\",\"divorciado (a)\",\"casado (a)\",\"casado (a)\",\"casado (a)\",\"casado (a)\",\"solteiro (a)\",\"casado (a)\",\"casado (a)\",\"casado (a)\",\"casado (a)\",\"casado (a)\",\"casado (a)\",\"casado (a)\",\"casado (a)\",\"casado (a)\",\"casado (a)\",\"casado (a)\",\"casado (a)\",\"solteiro (a)\",\"solteiro (a)\",\"solteiro (a)\",\"solteiro (a)\",\"solteiro (a)\",\"casado (a)\",\"casado (a)\",\"casado (a)\",\"casado (a)\",\"casado (a)\",\"casado (a)\",\"casado (a)\",\"casado (a)\",\"casado (a)\",\"divorciado (a)\",\"casado (a)\",\"casado (a)\",\"casado (a)\",\"casado (a)\",\"casado (a)\",\"solteiro (a)\",\"casado (a)\",\"solteiro (a)\",\"casado (a)\",\"casado (a)\",\"casado (a)\",\"casado (a)\",\"casado (a)\",\"casado (a)\",\"solteiro (a)\",\"casado (a)\",\"casado (a)\",\"casado (a)\",\"solteiro (a)\",\"divorciado (a)\",\"casado (a)\",\"solteiro (a)\",\"divorciado (a)\",\"casado (a)\",\"solteiro (a)\",\"casado (a)\",\"solteiro (a)\",\"solteiro (a)\",\"casado (a)\",\"solteiro (a)\",\"divorciado (a)\",\"divorciado (a)\",\"casado (a)\",\"solteiro (a)\",\"casado (a)\",\"solteiro (a)\",\"solteiro (a)\",\"casado (a)\",\"casado (a)\",\"casado (a)\",\"solteiro (a)\",\"casado (a)\",\"solteiro (a)\",\"casado (a)\",\"casado (a)\",\"casado (a)\",\"casado (a)\",\"divorciado (a)\",\"solteiro (a)\",\"solteiro (a)\",\"casado (a)\",\"casado (a)\",\"divorciado (a)\",\"casado (a)\",\"solteiro (a)\",\"casado (a)\",\"solteiro (a)\",\"divorciado (a)\",\"casado (a)\",\"solteiro (a)\",\"solteiro (a)\",\"casado (a)\",\"casado (a)\",\"casado (a)\",\"solteiro (a)\",\"casado (a)\",\"solteiro (a)\",\"divorciado (a)\",\"divorciado (a)\",\"casado (a)\",\"casado (a)\",\"solteiro (a)\",\"casado (a)\",\"casado (a)\",\"casado (a)\",\"solteiro (a)\",\"divorciado (a)\",\"divorciado (a)\",\"casado (a)\",\"solteiro (a)\",\"casado (a)\",\"casado (a)\",\"solteiro (a)\",\"casado (a)\",\"divorciado (a)\",\"solteiro (a)\",\"casado (a)\",\"casado (a)\",\"casado (a)\",\"casado (a)\",\"casado (a)\",\"casado (a)\",\"casado (a)\",\"casado (a)\",\"solteiro (a)\",\"solteiro (a)\",\"solteiro (a)\",\"solteiro (a)\",\"solteiro (a)\",\"divorciado (a)\",\"solteiro (a)\",\"casado (a)\",\"divorciado (a)\",\"casado (a)\",\"casado (a)\",\"casado (a)\",\"solteiro (a)\",\"casado (a)\",\"solteiro (a)\",\"solteiro (a)\",\"casado (a)\",\"divorciado (a)\",\"solteiro (a)\",\"casado (a)\",\"casado (a)\",\"casado (a)\",\"solteiro (a)\",\"solteiro (a)\",\"casado (a)\",\"divorciado (a)\",\"divorciado (a)\",\"casado (a)\",\"casado (a)\",\"casado (a)\",\"casado (a)\",\"casado (a)\",\"casado (a)\",\"casado (a)\",\"solteiro (a)\",\"solteiro (a)\",\"casado (a)\",\"casado (a)\",\"casado (a)\",\"casado (a)\",\"casado (a)\",\"casado (a)\",\"divorciado (a)\",\"casado (a)\",\"casado (a)\",\"divorciado (a)\",\"solteiro (a)\",\"solteiro (a)\",\"casado (a)\",\"casado (a)\",\"solteiro (a)\",\"solteiro (a)\",\"casado (a)\",\"casado (a)\",\"casado (a)\",\"casado (a)\",\"solteiro (a)\",\"casado (a)\",\"solteiro (a)\",\"divorciado (a)\",\"solteiro (a)\",\"casado (a)\",\"casado (a)\",\"casado (a)\",\"divorciado (a)\",\"casado (a)\",\"casado (a)\",\"casado (a)\",\"solteiro (a)\",\"solteiro (a)\",\"divorciado (a)\",\"casado (a)\",\"casado (a)\",\"solteiro (a)\",\"casado (a)\",\"solteiro (a)\",\"solteiro (a)\",\"solteiro (a)\",\"casado (a)\",\"casado (a)\",\"casado (a)\",\"solteiro (a)\",\"solteiro (a)\",\"casado (a)\",\"casado (a)\",\"solteiro (a)\",\"divorciado (a)\",\"casado (a)\",\"casado (a)\",\"divorciado (a)\",\"solteiro (a)\",\"solteiro (a)\",\"solteiro (a)\",\"casado (a)\",\"casado (a)\",\"casado (a)\",\"casado (a)\",\"casado (a)\",\"solteiro (a)\",\"solteiro (a)\",\"solteiro (a)\",\"casado (a)\",\"solteiro (a)\",\"casado (a)\",\"casado (a)\",\"solteiro (a)\",\"solteiro (a)\",\"solteiro (a)\",\"casado (a)\",\"divorciado (a)\",\"divorciado (a)\",\"solteiro (a)\",\"casado (a)\",\"casado (a)\",\"casado (a)\",\"casado (a)\",\"solteiro (a)\",\"solteiro (a)\",\"casado (a)\",\"solteiro (a)\",\"casado (a)\",\"casado (a)\",\"solteiro (a)\",\"casado (a)\",\"casado (a)\",\"casado (a)\",\"casado (a)\",\"casado (a)\",\"casado (a)\",\"casado (a)\",\"casado (a)\",\"casado (a)\",\"casado (a)\",\"solteiro (a)\",\"casado (a)\",\"solteiro (a)\",\"solteiro (a)\",\"casado (a)\",\"solteiro (a)\",\"casado (a)\",\"casado (a)\",\"casado (a)\",\"casado (a)\",\"divorciado (a)\",\"solteiro (a)\",\"casado (a)\",\"solteiro (a)\",\"casado (a)\",\"solteiro (a)\",\"casado (a)\",\"casado (a)\",\"casado (a)\",\"casado (a)\",\"divorciado (a)\",\"solteiro (a)\",\"casado (a)\",\"solteiro (a)\",\"casado (a)\",\"solteiro (a)\",\"casado (a)\",\"casado (a)\",\"casado (a)\",\"casado (a)\",\"casado (a)\",\"solteiro (a)\",\"casado (a)\",\"casado (a)\",\"casado (a)\",\"solteiro (a)\",\"divorciado (a)\",\"solteiro (a)\",\"casado (a)\",\"casado (a)\",\"casado (a)\",\"solteiro (a)\",\"casado (a)\",\"casado (a)\",\"solteiro (a)\",\"casado (a)\",\"solteiro (a)\",\"casado (a)\",\"casado (a)\",\"casado (a)\",\"casado (a)\",\"casado (a)\",\"solteiro (a)\",\"casado (a)\",\"solteiro (a)\",\"casado (a)\",\"casado (a)\",\"casado (a)\",\"divorciado (a)\",\"casado (a)\",\"casado (a)\",\"casado (a)\",\"divorciado (a)\",\"casado (a)\",\"casado (a)\",\"solteiro (a)\",\"casado (a)\",\"solteiro (a)\",\"casado (a)\",\"divorciado (a)\",\"casado (a)\",\"casado (a)\",\"casado (a)\",\"divorciado (a)\",\"casado (a)\",\"casado (a)\",\"casado (a)\",\"solteiro (a)\",\"solteiro (a)\",\"casado (a)\",\"solteiro (a)\",\"casado (a)\",\"casado (a)\",\"solteiro (a)\",\"casado (a)\",\"solteiro (a)\",\"casado (a)\",\"casado (a)\",\"casado (a)\",\"casado (a)\",\"casado (a)\",\"casado (a)\",\"casado (a)\",\"casado (a)\",\"casado (a)\",\"solteiro (a)\",\"divorciado (a)\",\"casado (a)\",\"solteiro (a)\",\"divorciado (a)\",\"solteiro (a)\",\"divorciado (a)\",\"casado (a)\",\"casado (a)\",\"casado (a)\",\"casado (a)\",\"divorciado (a)\",\"casado (a)\",\"solteiro (a)\",\"divorciado (a)\",\"casado (a)\",\"solteiro (a)\",\"casado (a)\",\"divorciado (a)\",\"casado (a)\",\"casado (a)\",\"casado (a)\",\"solteiro (a)\",\"casado (a)\",\"solteiro (a)\",\"solteiro (a)\",\"casado (a)\",\"casado (a)\",\"divorciado (a)\",\"solteiro (a)\",\"solteiro (a)\",\"casado (a)\",\"solteiro (a)\",\"solteiro (a)\",\"divorciado (a)\",\"casado (a)\",\"divorciado (a)\",\"casado (a)\",\"solteiro (a)\",\"casado (a)\",\"divorciado (a)\",\"casado (a)\",\"casado (a)\",\"casado (a)\",\"divorciado (a)\",\"casado (a)\",\"casado (a)\",\"divorciado (a)\",\"casado (a)\",\"casado (a)\",\"casado (a)\",\"solteiro (a)\",\"casado (a)\",\"divorciado (a)\",\"casado (a)\",\"casado (a)\",\"casado (a)\",\"casado (a)\",\"casado (a)\",\"casado (a)\",\"solteiro (a)\",\"casado (a)\",\"solteiro (a)\",\"casado (a)\",\"solteiro (a)\",\"solteiro (a)\",\"solteiro (a)\",\"casado (a)\",\"casado (a)\",\"casado (a)\",\"casado (a)\",\"casado (a)\",\"solteiro (a)\",\"casado (a)\",\"casado (a)\",\"solteiro (a)\",\"solteiro (a)\",\"casado (a)\",\"casado (a)\",\"divorciado (a)\",\"casado (a)\",\"divorciado (a)\",\"casado (a)\",\"solteiro (a)\",\"casado (a)\",\"divorciado (a)\",\"casado (a)\",\"casado (a)\",\"solteiro (a)\",\"casado (a)\",\"casado (a)\",\"divorciado (a)\",\"solteiro (a)\",\"divorciado (a)\",\"casado (a)\",\"solteiro (a)\",\"solteiro (a)\",\"casado (a)\",\"solteiro (a)\",\"casado (a)\",\"divorciado (a)\",\"casado (a)\",\"casado (a)\",\"casado (a)\",\"casado (a)\",\"casado (a)\",\"casado (a)\",\"solteiro (a)\",\"casado (a)\",\"casado (a)\",\"casado (a)\",\"solteiro (a)\",\"casado (a)\",\"casado (a)\",\"casado (a)\",\"solteiro (a)\",\"divorciado (a)\",\"solteiro (a)\",\"casado (a)\",\"solteiro (a)\",\"casado (a)\",\"solteiro (a)\",\"casado (a)\",\"casado (a)\",\"casado (a)\",\"casado (a)\",\"divorciado (a)\",\"casado (a)\",\"casado (a)\",\"divorciado (a)\",\"casado (a)\",\"casado (a)\",\"casado (a)\",\"casado (a)\",\"casado (a)\",\"solteiro (a)\",\"divorciado (a)\",\"casado (a)\",\"casado (a)\",\"casado (a)\",\"solteiro (a)\",\"casado (a)\",\"casado (a)\",\"casado (a)\",\"casado (a)\",\"casado (a)\",\"solteiro (a)\",\"solteiro (a)\",\"solteiro (a)\",\"casado (a)\",\"divorciado (a)\",\"casado (a)\",\"divorciado (a)\",\"casado (a)\",\"casado (a)\",\"solteiro (a)\",\"divorciado (a)\",\"casado (a)\",\"solteiro (a)\",\"casado (a)\",\"casado (a)\",\"solteiro (a)\",\"casado (a)\",\"casado (a)\",\"casado (a)\",\"casado (a)\",\"divorciado (a)\",\"casado (a)\",\"casado (a)\",\"casado (a)\",\"solteiro (a)\",\"divorciado (a)\",\"solteiro (a)\",\"casado (a)\",\"casado (a)\",\"solteiro (a)\",\"casado (a)\",\"casado (a)\",\"casado (a)\",\"casado (a)\",\"casado (a)\",\"casado (a)\",\"solteiro (a)\",\"solteiro (a)\",\"divorciado (a)\",\"divorciado (a)\",\"casado (a)\",\"casado (a)\",\"solteiro (a)\",\"divorciado (a)\",\"casado (a)\",\"solteiro (a)\",\"casado (a)\",\"casado (a)\",\"casado (a)\",\"solteiro (a)\",\"casado (a)\",\"casado (a)\",\"solteiro (a)\",\"casado (a)\",\"solteiro (a)\",\"solteiro (a)\",\"casado (a)\",\"casado (a)\",\"casado (a)\",\"casado (a)\",\"divorciado (a)\",\"divorciado (a)\",\"casado (a)\",\"casado (a)\",\"casado (a)\",\"solteiro (a)\",\"casado (a)\",\"divorciado (a)\",\"divorciado (a)\",\"divorciado (a)\",\"casado (a)\",\"solteiro (a)\",\"divorciado (a)\",\"solteiro (a)\",\"casado (a)\",\"casado (a)\",\"solteiro (a)\",\"casado (a)\",\"divorciado (a)\",\"casado (a)\",\"casado (a)\",\"casado (a)\",\"solteiro (a)\",\"casado (a)\",\"casado (a)\",\"casado (a)\",\"casado (a)\",\"casado (a)\",\"casado (a)\",\"casado (a)\",\"casado (a)\",\"casado (a)\",\"solteiro (a)\",\"casado (a)\",\"divorciado (a)\",\"solteiro (a)\",\"casado (a)\",\"casado (a)\",\"casado (a)\",\"casado (a)\",\"solteiro (a)\",\"casado (a)\",\"casado (a)\",\"solteiro (a)\",\"solteiro (a)\",\"solteiro (a)\",\"casado (a)\",\"casado (a)\",\"casado (a)\",\"casado (a)\",\"solteiro (a)\",\"casado (a)\",\"casado (a)\",\"solteiro (a)\",\"casado (a)\",\"divorciado (a)\",\"solteiro (a)\",\"divorciado (a)\",\"casado (a)\",\"solteiro (a)\",\"casado (a)\",\"casado (a)\",\"casado (a)\",\"solteiro (a)\",\"casado (a)\",\"solteiro (a)\",\"casado (a)\",\"casado (a)\",\"casado (a)\",\"divorciado (a)\",\"casado (a)\",\"solteiro (a)\",\"solteiro (a)\",\"casado (a)\",\"casado (a)\",\"solteiro (a)\",\"casado (a)\",\"casado (a)\",\"divorciado (a)\",\"casado (a)\",\"solteiro (a)\",\"casado (a)\",\"solteiro (a)\",\"casado (a)\",\"divorciado (a)\",\"casado (a)\",\"solteiro (a)\",\"casado (a)\",\"casado (a)\",\"solteiro (a)\",\"casado (a)\",\"solteiro (a)\",\"casado (a)\",\"casado (a)\",\"casado (a)\",\"casado (a)\",\"casado (a)\",\"casado (a)\",\"solteiro (a)\",\"casado (a)\",\"solteiro (a)\",\"casado (a)\",\"casado (a)\",\"casado (a)\",\"solteiro (a)\",\"casado (a)\",\"casado (a)\",\"solteiro (a)\",\"casado (a)\",\"casado (a)\",\"solteiro (a)\",\"casado (a)\",\"divorciado (a)\",\"solteiro (a)\",\"casado (a)\",\"casado (a)\"],\"xaxis\":\"x\",\"yaxis\":\"y\",\"type\":\"histogram\"}],                        {\"template\":{\"data\":{\"histogram2dcontour\":[{\"type\":\"histogram2dcontour\",\"colorbar\":{\"outlinewidth\":0,\"ticks\":\"\"},\"colorscale\":[[0.0,\"#0d0887\"],[0.1111111111111111,\"#46039f\"],[0.2222222222222222,\"#7201a8\"],[0.3333333333333333,\"#9c179e\"],[0.4444444444444444,\"#bd3786\"],[0.5555555555555556,\"#d8576b\"],[0.6666666666666666,\"#ed7953\"],[0.7777777777777778,\"#fb9f3a\"],[0.8888888888888888,\"#fdca26\"],[1.0,\"#f0f921\"]]}],\"choropleth\":[{\"type\":\"choropleth\",\"colorbar\":{\"outlinewidth\":0,\"ticks\":\"\"}}],\"histogram2d\":[{\"type\":\"histogram2d\",\"colorbar\":{\"outlinewidth\":0,\"ticks\":\"\"},\"colorscale\":[[0.0,\"#0d0887\"],[0.1111111111111111,\"#46039f\"],[0.2222222222222222,\"#7201a8\"],[0.3333333333333333,\"#9c179e\"],[0.4444444444444444,\"#bd3786\"],[0.5555555555555556,\"#d8576b\"],[0.6666666666666666,\"#ed7953\"],[0.7777777777777778,\"#fb9f3a\"],[0.8888888888888888,\"#fdca26\"],[1.0,\"#f0f921\"]]}],\"heatmap\":[{\"type\":\"heatmap\",\"colorbar\":{\"outlinewidth\":0,\"ticks\":\"\"},\"colorscale\":[[0.0,\"#0d0887\"],[0.1111111111111111,\"#46039f\"],[0.2222222222222222,\"#7201a8\"],[0.3333333333333333,\"#9c179e\"],[0.4444444444444444,\"#bd3786\"],[0.5555555555555556,\"#d8576b\"],[0.6666666666666666,\"#ed7953\"],[0.7777777777777778,\"#fb9f3a\"],[0.8888888888888888,\"#fdca26\"],[1.0,\"#f0f921\"]]}],\"heatmapgl\":[{\"type\":\"heatmapgl\",\"colorbar\":{\"outlinewidth\":0,\"ticks\":\"\"},\"colorscale\":[[0.0,\"#0d0887\"],[0.1111111111111111,\"#46039f\"],[0.2222222222222222,\"#7201a8\"],[0.3333333333333333,\"#9c179e\"],[0.4444444444444444,\"#bd3786\"],[0.5555555555555556,\"#d8576b\"],[0.6666666666666666,\"#ed7953\"],[0.7777777777777778,\"#fb9f3a\"],[0.8888888888888888,\"#fdca26\"],[1.0,\"#f0f921\"]]}],\"contourcarpet\":[{\"type\":\"contourcarpet\",\"colorbar\":{\"outlinewidth\":0,\"ticks\":\"\"}}],\"contour\":[{\"type\":\"contour\",\"colorbar\":{\"outlinewidth\":0,\"ticks\":\"\"},\"colorscale\":[[0.0,\"#0d0887\"],[0.1111111111111111,\"#46039f\"],[0.2222222222222222,\"#7201a8\"],[0.3333333333333333,\"#9c179e\"],[0.4444444444444444,\"#bd3786\"],[0.5555555555555556,\"#d8576b\"],[0.6666666666666666,\"#ed7953\"],[0.7777777777777778,\"#fb9f3a\"],[0.8888888888888888,\"#fdca26\"],[1.0,\"#f0f921\"]]}],\"surface\":[{\"type\":\"surface\",\"colorbar\":{\"outlinewidth\":0,\"ticks\":\"\"},\"colorscale\":[[0.0,\"#0d0887\"],[0.1111111111111111,\"#46039f\"],[0.2222222222222222,\"#7201a8\"],[0.3333333333333333,\"#9c179e\"],[0.4444444444444444,\"#bd3786\"],[0.5555555555555556,\"#d8576b\"],[0.6666666666666666,\"#ed7953\"],[0.7777777777777778,\"#fb9f3a\"],[0.8888888888888888,\"#fdca26\"],[1.0,\"#f0f921\"]]}],\"mesh3d\":[{\"type\":\"mesh3d\",\"colorbar\":{\"outlinewidth\":0,\"ticks\":\"\"}}],\"scatter\":[{\"fillpattern\":{\"fillmode\":\"overlay\",\"size\":10,\"solidity\":0.2},\"type\":\"scatter\"}],\"parcoords\":[{\"type\":\"parcoords\",\"line\":{\"colorbar\":{\"outlinewidth\":0,\"ticks\":\"\"}}}],\"scatterpolargl\":[{\"type\":\"scatterpolargl\",\"marker\":{\"colorbar\":{\"outlinewidth\":0,\"ticks\":\"\"}}}],\"bar\":[{\"error_x\":{\"color\":\"#2a3f5f\"},\"error_y\":{\"color\":\"#2a3f5f\"},\"marker\":{\"line\":{\"color\":\"#E5ECF6\",\"width\":0.5},\"pattern\":{\"fillmode\":\"overlay\",\"size\":10,\"solidity\":0.2}},\"type\":\"bar\"}],\"scattergeo\":[{\"type\":\"scattergeo\",\"marker\":{\"colorbar\":{\"outlinewidth\":0,\"ticks\":\"\"}}}],\"scatterpolar\":[{\"type\":\"scatterpolar\",\"marker\":{\"colorbar\":{\"outlinewidth\":0,\"ticks\":\"\"}}}],\"histogram\":[{\"marker\":{\"pattern\":{\"fillmode\":\"overlay\",\"size\":10,\"solidity\":0.2}},\"type\":\"histogram\"}],\"scattergl\":[{\"type\":\"scattergl\",\"marker\":{\"colorbar\":{\"outlinewidth\":0,\"ticks\":\"\"}}}],\"scatter3d\":[{\"type\":\"scatter3d\",\"line\":{\"colorbar\":{\"outlinewidth\":0,\"ticks\":\"\"}},\"marker\":{\"colorbar\":{\"outlinewidth\":0,\"ticks\":\"\"}}}],\"scattermapbox\":[{\"type\":\"scattermapbox\",\"marker\":{\"colorbar\":{\"outlinewidth\":0,\"ticks\":\"\"}}}],\"scatterternary\":[{\"type\":\"scatterternary\",\"marker\":{\"colorbar\":{\"outlinewidth\":0,\"ticks\":\"\"}}}],\"scattercarpet\":[{\"type\":\"scattercarpet\",\"marker\":{\"colorbar\":{\"outlinewidth\":0,\"ticks\":\"\"}}}],\"carpet\":[{\"aaxis\":{\"endlinecolor\":\"#2a3f5f\",\"gridcolor\":\"white\",\"linecolor\":\"white\",\"minorgridcolor\":\"white\",\"startlinecolor\":\"#2a3f5f\"},\"baxis\":{\"endlinecolor\":\"#2a3f5f\",\"gridcolor\":\"white\",\"linecolor\":\"white\",\"minorgridcolor\":\"white\",\"startlinecolor\":\"#2a3f5f\"},\"type\":\"carpet\"}],\"table\":[{\"cells\":{\"fill\":{\"color\":\"#EBF0F8\"},\"line\":{\"color\":\"white\"}},\"header\":{\"fill\":{\"color\":\"#C8D4E3\"},\"line\":{\"color\":\"white\"}},\"type\":\"table\"}],\"barpolar\":[{\"marker\":{\"line\":{\"color\":\"#E5ECF6\",\"width\":0.5},\"pattern\":{\"fillmode\":\"overlay\",\"size\":10,\"solidity\":0.2}},\"type\":\"barpolar\"}],\"pie\":[{\"automargin\":true,\"type\":\"pie\"}]},\"layout\":{\"autotypenumbers\":\"strict\",\"colorway\":[\"#636efa\",\"#EF553B\",\"#00cc96\",\"#ab63fa\",\"#FFA15A\",\"#19d3f3\",\"#FF6692\",\"#B6E880\",\"#FF97FF\",\"#FECB52\"],\"font\":{\"color\":\"#2a3f5f\"},\"hovermode\":\"closest\",\"hoverlabel\":{\"align\":\"left\"},\"paper_bgcolor\":\"white\",\"plot_bgcolor\":\"#E5ECF6\",\"polar\":{\"bgcolor\":\"#E5ECF6\",\"angularaxis\":{\"gridcolor\":\"white\",\"linecolor\":\"white\",\"ticks\":\"\"},\"radialaxis\":{\"gridcolor\":\"white\",\"linecolor\":\"white\",\"ticks\":\"\"}},\"ternary\":{\"bgcolor\":\"#E5ECF6\",\"aaxis\":{\"gridcolor\":\"white\",\"linecolor\":\"white\",\"ticks\":\"\"},\"baxis\":{\"gridcolor\":\"white\",\"linecolor\":\"white\",\"ticks\":\"\"},\"caxis\":{\"gridcolor\":\"white\",\"linecolor\":\"white\",\"ticks\":\"\"}},\"coloraxis\":{\"colorbar\":{\"outlinewidth\":0,\"ticks\":\"\"}},\"colorscale\":{\"sequential\":[[0.0,\"#0d0887\"],[0.1111111111111111,\"#46039f\"],[0.2222222222222222,\"#7201a8\"],[0.3333333333333333,\"#9c179e\"],[0.4444444444444444,\"#bd3786\"],[0.5555555555555556,\"#d8576b\"],[0.6666666666666666,\"#ed7953\"],[0.7777777777777778,\"#fb9f3a\"],[0.8888888888888888,\"#fdca26\"],[1.0,\"#f0f921\"]],\"sequentialminus\":[[0.0,\"#0d0887\"],[0.1111111111111111,\"#46039f\"],[0.2222222222222222,\"#7201a8\"],[0.3333333333333333,\"#9c179e\"],[0.4444444444444444,\"#bd3786\"],[0.5555555555555556,\"#d8576b\"],[0.6666666666666666,\"#ed7953\"],[0.7777777777777778,\"#fb9f3a\"],[0.8888888888888888,\"#fdca26\"],[1.0,\"#f0f921\"]],\"diverging\":[[0,\"#8e0152\"],[0.1,\"#c51b7d\"],[0.2,\"#de77ae\"],[0.3,\"#f1b6da\"],[0.4,\"#fde0ef\"],[0.5,\"#f7f7f7\"],[0.6,\"#e6f5d0\"],[0.7,\"#b8e186\"],[0.8,\"#7fbc41\"],[0.9,\"#4d9221\"],[1,\"#276419\"]]},\"xaxis\":{\"gridcolor\":\"white\",\"linecolor\":\"white\",\"ticks\":\"\",\"title\":{\"standoff\":15},\"zerolinecolor\":\"white\",\"automargin\":true,\"zerolinewidth\":2},\"yaxis\":{\"gridcolor\":\"white\",\"linecolor\":\"white\",\"ticks\":\"\",\"title\":{\"standoff\":15},\"zerolinecolor\":\"white\",\"automargin\":true,\"zerolinewidth\":2},\"scene\":{\"xaxis\":{\"backgroundcolor\":\"#E5ECF6\",\"gridcolor\":\"white\",\"linecolor\":\"white\",\"showbackground\":true,\"ticks\":\"\",\"zerolinecolor\":\"white\",\"gridwidth\":2},\"yaxis\":{\"backgroundcolor\":\"#E5ECF6\",\"gridcolor\":\"white\",\"linecolor\":\"white\",\"showbackground\":true,\"ticks\":\"\",\"zerolinecolor\":\"white\",\"gridwidth\":2},\"zaxis\":{\"backgroundcolor\":\"#E5ECF6\",\"gridcolor\":\"white\",\"linecolor\":\"white\",\"showbackground\":true,\"ticks\":\"\",\"zerolinecolor\":\"white\",\"gridwidth\":2}},\"shapedefaults\":{\"line\":{\"color\":\"#2a3f5f\"}},\"annotationdefaults\":{\"arrowcolor\":\"#2a3f5f\",\"arrowhead\":0,\"arrowwidth\":1},\"geo\":{\"bgcolor\":\"white\",\"landcolor\":\"#E5ECF6\",\"subunitcolor\":\"white\",\"showland\":true,\"showlakes\":true,\"lakecolor\":\"white\"},\"title\":{\"x\":0.05},\"mapbox\":{\"style\":\"light\"}}},\"xaxis\":{\"anchor\":\"y\",\"domain\":[0.0,1.0],\"title\":{\"text\":\"estado_civil\"}},\"yaxis\":{\"anchor\":\"x\",\"domain\":[0.0,1.0],\"title\":{\"text\":\"count\"}},\"legend\":{\"title\":{\"text\":\"aderencia_investimento\"},\"tracegroupgap\":0},\"margin\":{\"t\":60},\"barmode\":\"group\"},                        {\"responsive\": true}                    ).then(function(){\n",
              "                            \n",
              "var gd = document.getElementById('a9b8989d-5f5d-4d91-abd3-b950ffef00b1');\n",
              "var x = new MutationObserver(function (mutations, observer) {{\n",
              "        var display = window.getComputedStyle(gd).display;\n",
              "        if (!display || display === 'none') {{\n",
              "            console.log([gd, 'removed!']);\n",
              "            Plotly.purge(gd);\n",
              "            observer.disconnect();\n",
              "        }}\n",
              "}});\n",
              "\n",
              "// Listen for the removal of the full notebook cells\n",
              "var notebookContainer = gd.closest('#notebook-container');\n",
              "if (notebookContainer) {{\n",
              "    x.observe(notebookContainer, {childList: true});\n",
              "}}\n",
              "\n",
              "// Listen for the clearing of the current output cell\n",
              "var outputEl = gd.closest('.output');\n",
              "if (outputEl) {{\n",
              "    x.observe(outputEl, {childList: true});\n",
              "}}\n",
              "\n",
              "                        })                };                            </script>        </div>\n",
              "</body>\n",
              "</html>"
            ]
          },
          "metadata": {}
        }
      ]
    },
    {
      "cell_type": "markdown",
      "source": [
        "### Numeric variables"
      ],
      "metadata": {
        "id": "k9-qL8BEMH23"
      }
    },
    {
      "cell_type": "code",
      "source": [
        "# Importing the plotly.express library for visualization\n",
        "import plotly.express as px\n",
        "\n",
        "# Creating a grouped histogram to visualize the distribution of 'escolaridade' with respect to 'aderencia_investimento'\n",
        "fig3 = px.histogram(data,\n",
        "                   x=\"escolaridade\",  # Column for the x-axis\n",
        "                   text_auto=True,  # Automatically add text labels to the bars\n",
        "                   color=\"aderencia_investimento\",  # Color the bars based on 'aderencia_investimento'\n",
        "                   barmode=\"group\")  # Group the bars for better comparison\n",
        "\n",
        "# Displaying the plot\n",
        "fig3.show()\n"
      ],
      "metadata": {
        "id": "UiJ_8_Bjk_Ta",
        "colab": {
          "base_uri": "https://localhost:8080/",
          "height": 542
        },
        "outputId": "5a9b556c-1f24-404e-92e9-086785b1efe2"
      },
      "execution_count": 169,
      "outputs": [
        {
          "output_type": "display_data",
          "data": {
            "text/html": [
              "<html>\n",
              "<head><meta charset=\"utf-8\" /></head>\n",
              "<body>\n",
              "    <div>            <script src=\"https://cdnjs.cloudflare.com/ajax/libs/mathjax/2.7.5/MathJax.js?config=TeX-AMS-MML_SVG\"></script><script type=\"text/javascript\">if (window.MathJax && window.MathJax.Hub && window.MathJax.Hub.Config) {window.MathJax.Hub.Config({SVG: {font: \"STIX-Web\"}});}</script>                <script type=\"text/javascript\">window.PlotlyConfig = {MathJaxConfig: 'local'};</script>\n",
              "        <script charset=\"utf-8\" src=\"https://cdn.plot.ly/plotly-2.35.2.min.js\"></script>                <div id=\"53f55fc6-d4a4-49b5-b487-f0ec735743ef\" class=\"plotly-graph-div\" style=\"height:525px; width:100%;\"></div>            <script type=\"text/javascript\">                                    window.PLOTLYENV=window.PLOTLYENV || {};                                    if (document.getElementById(\"53f55fc6-d4a4-49b5-b487-f0ec735743ef\")) {                    Plotly.newPlot(                        \"53f55fc6-d4a4-49b5-b487-f0ec735743ef\",                        [{\"alignmentgroup\":\"True\",\"bingroup\":\"x\",\"hovertemplate\":\"aderencia_investimento=sim\\u003cbr\\u003eescolaridade=%{x}\\u003cbr\\u003ecount=%{y}\\u003cextra\\u003e\\u003c\\u002fextra\\u003e\",\"legendgroup\":\"sim\",\"marker\":{\"color\":\"#636efa\",\"pattern\":{\"shape\":\"\"}},\"name\":\"sim\",\"offsetgroup\":\"sim\",\"orientation\":\"v\",\"showlegend\":true,\"texttemplate\":\"%{value}\",\"x\":[\"superior\",\"medio\",\"superior\",\"medio\",\"medio\",\"superior\",\"medio\",\"medio\",\"medio\",\"superior\",\"superior\",\"superior\",\"medio\",\"medio\",\"medio\",\"superior\",\"superior\",\"medio\",\"medio\",\"medio\",\"medio\",\"medio\",\"superior\",\"superior\",\"superior\",\"superior\",\"superior\",\"superior\",\"superior\",\"medio\",\"superior\",\"superior\",\"medio\",\"fundamental\",\"medio\",\"medio\",\"superior\",\"superior\",\"superior\",\"superior\",\"medio\",\"medio\",\"superior\",\"medio\",\"superior\",\"medio\",\"medio\",\"fundamental\",\"medio\",\"medio\",\"medio\",\"superior\",\"medio\",\"superior\",\"superior\",\"superior\",\"fundamental\",\"medio\",\"fundamental\",\"superior\",\"superior\",\"medio\",\"superior\",\"medio\",\"medio\",\"medio\",\"medio\",\"medio\",\"superior\",\"superior\",\"fundamental\",\"medio\",\"medio\",\"superior\",\"fundamental\",\"superior\",\"medio\",\"fundamental\",\"superior\",\"medio\",\"medio\",\"fundamental\",\"medio\",\"fundamental\",\"medio\",\"fundamental\",\"fundamental\",\"superior\",\"superior\",\"medio\",\"superior\",\"medio\",\"medio\",\"superior\",\"medio\",\"superior\",\"medio\",\"medio\",\"superior\",\"medio\",\"medio\",\"medio\",\"medio\",\"medio\",\"superior\",\"medio\",\"medio\",\"medio\",\"medio\",\"superior\",\"medio\",\"medio\",\"superior\",\"medio\",\"superior\",\"medio\",\"medio\",\"medio\",\"superior\",\"medio\",\"superior\",\"fundamental\",\"medio\",\"superior\",\"medio\",\"medio\",\"fundamental\",\"medio\",\"medio\",\"superior\",\"medio\",\"medio\",\"superior\",\"medio\",\"medio\",\"superior\",\"medio\",\"medio\",\"medio\",\"medio\",\"fundamental\",\"fundamental\",\"superior\",\"superior\",\"medio\",\"superior\",\"superior\",\"superior\",\"medio\",\"medio\",\"superior\",\"medio\",\"superior\",\"superior\",\"medio\",\"superior\",\"medio\",\"superior\",\"medio\",\"fundamental\",\"medio\",\"superior\",\"medio\",\"medio\",\"fundamental\",\"superior\",\"medio\",\"medio\",\"medio\",\"superior\",\"medio\",\"superior\",\"superior\",\"superior\",\"medio\",\"superior\",\"fundamental\",\"superior\",\"medio\",\"medio\",\"medio\",\"superior\",\"medio\",\"superior\",\"superior\",\"fundamental\",\"medio\",\"medio\",\"medio\",\"superior\",\"medio\",\"medio\",\"fundamental\",\"fundamental\",\"superior\",\"superior\",\"medio\",\"superior\",\"medio\",\"fundamental\",\"fundamental\",\"medio\",\"fundamental\",\"superior\",\"fundamental\",\"medio\",\"medio\",\"medio\",\"medio\",\"superior\",\"medio\",\"medio\",\"superior\",\"superior\",\"superior\",\"superior\",\"medio\",\"medio\",\"superior\",\"superior\",\"medio\",\"medio\",\"medio\",\"medio\",\"medio\",\"superior\",\"medio\",\"superior\",\"medio\",\"medio\",\"superior\",\"medio\",\"fundamental\",\"medio\",\"fundamental\",\"superior\",\"superior\",\"fundamental\",\"fundamental\",\"fundamental\",\"superior\",\"superior\",\"superior\",\"medio\",\"medio\",\"medio\",\"medio\",\"medio\",\"medio\",\"medio\",\"medio\",\"medio\",\"superior\",\"fundamental\",\"medio\",\"superior\",\"medio\",\"superior\",\"medio\",\"superior\",\"medio\",\"fundamental\",\"fundamental\",\"medio\",\"superior\",\"superior\",\"superior\",\"medio\",\"medio\",\"medio\",\"superior\",\"medio\",\"superior\",\"superior\",\"medio\",\"superior\",\"fundamental\",\"medio\",\"medio\",\"medio\",\"medio\",\"superior\",\"superior\",\"medio\",\"medio\",\"medio\",\"fundamental\",\"fundamental\",\"medio\",\"superior\",\"superior\",\"fundamental\",\"superior\",\"superior\",\"superior\",\"superior\",\"medio\",\"medio\",\"medio\",\"superior\",\"medio\",\"medio\",\"medio\",\"medio\",\"fundamental\",\"medio\",\"superior\",\"medio\",\"medio\",\"medio\",\"superior\",\"medio\",\"medio\",\"fundamental\",\"medio\",\"superior\",\"superior\",\"superior\",\"superior\",\"medio\",\"superior\",\"fundamental\",\"medio\",\"fundamental\",\"medio\",\"superior\",\"medio\",\"superior\",\"fundamental\",\"medio\",\"superior\",\"medio\",\"medio\",\"superior\",\"superior\",\"superior\",\"medio\",\"medio\",\"superior\",\"medio\",\"superior\",\"medio\",\"superior\",\"medio\",\"medio\",\"fundamental\",\"medio\",\"medio\",\"superior\",\"fundamental\",\"medio\",\"fundamental\",\"medio\",\"superior\",\"medio\",\"medio\",\"superior\",\"medio\",\"fundamental\",\"superior\",\"medio\",\"medio\",\"medio\",\"medio\",\"medio\",\"fundamental\",\"fundamental\",\"superior\",\"medio\",\"medio\",\"superior\",\"superior\",\"superior\",\"superior\",\"medio\",\"medio\",\"fundamental\",\"medio\",\"medio\",\"superior\",\"medio\",\"fundamental\",\"superior\",\"fundamental\",\"superior\",\"medio\",\"superior\",\"fundamental\",\"medio\",\"medio\",\"fundamental\",\"fundamental\",\"superior\",\"medio\",\"medio\",\"superior\",\"medio\",\"medio\",\"superior\",\"superior\",\"medio\",\"medio\",\"superior\",\"superior\",\"superior\",\"superior\",\"medio\",\"fundamental\",\"superior\",\"superior\",\"medio\",\"superior\",\"medio\",\"medio\",\"fundamental\",\"superior\",\"superior\",\"medio\",\"medio\",\"fundamental\",\"fundamental\",\"superior\",\"superior\",\"superior\",\"superior\",\"superior\",\"medio\",\"medio\",\"superior\",\"medio\",\"medio\",\"superior\",\"medio\",\"superior\",\"superior\",\"superior\",\"superior\",\"medio\",\"fundamental\",\"superior\",\"medio\",\"medio\",\"fundamental\",\"superior\",\"medio\",\"medio\",\"superior\",\"medio\",\"superior\",\"superior\",\"medio\",\"medio\",\"superior\",\"medio\",\"superior\",\"superior\",\"superior\",\"superior\",\"medio\",\"medio\",\"superior\",\"medio\",\"fundamental\",\"medio\",\"medio\",\"fundamental\",\"superior\",\"medio\",\"medio\",\"medio\",\"medio\",\"medio\",\"medio\",\"medio\",\"medio\",\"medio\",\"medio\",\"fundamental\",\"medio\",\"medio\",\"superior\",\"superior\",\"superior\",\"superior\",\"superior\",\"fundamental\",\"superior\",\"superior\",\"superior\",\"medio\",\"medio\",\"medio\",\"medio\",\"superior\",\"medio\",\"superior\",\"superior\",\"superior\",\"superior\",\"superior\",\"superior\",\"superior\"],\"xaxis\":\"x\",\"yaxis\":\"y\",\"type\":\"histogram\"},{\"alignmentgroup\":\"True\",\"bingroup\":\"x\",\"hovertemplate\":\"aderencia_investimento=nao\\u003cbr\\u003eescolaridade=%{x}\\u003cbr\\u003ecount=%{y}\\u003cextra\\u003e\\u003c\\u002fextra\\u003e\",\"legendgroup\":\"nao\",\"marker\":{\"color\":\"#EF553B\",\"pattern\":{\"shape\":\"\"}},\"name\":\"nao\",\"offsetgroup\":\"nao\",\"orientation\":\"v\",\"showlegend\":true,\"texttemplate\":\"%{value}\",\"x\":[\"superior\",\"superior\",\"medio\",\"fundamental\",\"medio\",\"fundamental\",\"superior\",\"superior\",\"fundamental\",\"medio\",\"medio\",\"medio\",\"medio\",\"medio\",\"medio\",\"fundamental\",\"medio\",\"medio\",\"medio\",\"medio\",\"medio\",\"superior\",\"medio\",\"medio\",\"fundamental\",\"superior\",\"superior\",\"superior\",\"superior\",\"superior\",\"superior\",\"medio\",\"superior\",\"medio\",\"medio\",\"fundamental\",\"superior\",\"medio\",\"medio\",\"superior\",\"medio\",\"fundamental\",\"fundamental\",\"superior\",\"superior\",\"medio\",\"superior\",\"medio\",\"fundamental\",\"medio\",\"superior\",\"superior\",\"medio\",\"superior\",\"medio\",\"medio\",\"fundamental\",\"fundamental\",\"medio\",\"superior\",\"medio\",\"fundamental\",\"superior\",\"medio\",\"medio\",\"medio\",\"medio\",\"superior\",\"superior\",\"superior\",\"superior\",\"fundamental\",\"superior\",\"medio\",\"medio\",\"medio\",\"fundamental\",\"medio\",\"fundamental\",\"medio\",\"superior\",\"medio\",\"medio\",\"superior\",\"medio\",\"medio\",\"fundamental\",\"medio\",\"medio\",\"superior\",\"medio\",\"medio\",\"medio\",\"medio\",\"superior\",\"medio\",\"medio\",\"medio\",\"superior\",\"medio\",\"medio\",\"superior\",\"medio\",\"medio\",\"superior\",\"medio\",\"medio\",\"superior\",\"medio\",\"medio\",\"fundamental\",\"superior\",\"medio\",\"medio\",\"medio\",\"medio\",\"medio\",\"fundamental\",\"medio\",\"superior\",\"medio\",\"medio\",\"medio\",\"superior\",\"medio\",\"medio\",\"superior\",\"fundamental\",\"medio\",\"medio\",\"medio\",\"medio\",\"medio\",\"medio\",\"medio\",\"medio\",\"superior\",\"medio\",\"medio\",\"fundamental\",\"medio\",\"medio\",\"superior\",\"superior\",\"superior\",\"medio\",\"medio\",\"medio\",\"superior\",\"fundamental\",\"superior\",\"fundamental\",\"medio\",\"medio\",\"medio\",\"medio\",\"fundamental\",\"medio\",\"medio\",\"fundamental\",\"superior\",\"fundamental\",\"fundamental\",\"superior\",\"medio\",\"fundamental\",\"medio\",\"medio\",\"superior\",\"medio\",\"fundamental\",\"superior\",\"superior\",\"medio\",\"superior\",\"medio\",\"medio\",\"fundamental\",\"medio\",\"fundamental\",\"medio\",\"superior\",\"superior\",\"medio\",\"medio\",\"superior\",\"medio\",\"superior\",\"medio\",\"superior\",\"superior\",\"medio\",\"medio\",\"superior\",\"superior\",\"fundamental\",\"medio\",\"superior\",\"medio\",\"medio\",\"fundamental\",\"fundamental\",\"medio\",\"medio\",\"medio\",\"fundamental\",\"medio\",\"medio\",\"superior\",\"superior\",\"fundamental\",\"medio\",\"medio\",\"medio\",\"superior\",\"fundamental\",\"superior\",\"superior\",\"medio\",\"superior\",\"superior\",\"superior\",\"medio\",\"medio\",\"fundamental\",\"superior\",\"medio\",\"medio\",\"fundamental\",\"medio\",\"fundamental\",\"superior\",\"medio\",\"medio\",\"medio\",\"medio\",\"medio\",\"medio\",\"medio\",\"medio\",\"medio\",\"medio\",\"medio\",\"medio\",\"medio\",\"superior\",\"fundamental\",\"fundamental\",\"superior\",\"medio\",\"medio\",\"superior\",\"medio\",\"fundamental\",\"superior\",\"fundamental\",\"superior\",\"medio\",\"superior\",\"fundamental\",\"medio\",\"medio\",\"fundamental\",\"superior\",\"medio\",\"medio\",\"fundamental\",\"superior\",\"medio\",\"superior\",\"medio\",\"medio\",\"medio\",\"medio\",\"superior\",\"medio\",\"medio\",\"fundamental\",\"superior\",\"medio\",\"superior\",\"medio\",\"medio\",\"superior\",\"superior\",\"superior\",\"superior\",\"superior\",\"medio\",\"medio\",\"medio\",\"medio\",\"medio\",\"medio\",\"medio\",\"medio\",\"fundamental\",\"fundamental\",\"medio\",\"medio\",\"superior\",\"medio\",\"superior\",\"medio\",\"medio\",\"superior\",\"superior\",\"medio\",\"medio\",\"medio\",\"medio\",\"medio\",\"medio\",\"medio\",\"superior\",\"medio\",\"superior\",\"fundamental\",\"medio\",\"medio\",\"medio\",\"medio\",\"medio\",\"superior\",\"medio\",\"medio\",\"medio\",\"superior\",\"fundamental\",\"superior\",\"medio\",\"superior\",\"superior\",\"medio\",\"superior\",\"superior\",\"superior\",\"medio\",\"medio\",\"fundamental\",\"medio\",\"fundamental\",\"medio\",\"fundamental\",\"medio\",\"medio\",\"fundamental\",\"fundamental\",\"medio\",\"superior\",\"medio\",\"medio\",\"superior\",\"medio\",\"medio\",\"fundamental\",\"fundamental\",\"fundamental\",\"medio\",\"medio\",\"superior\",\"medio\",\"fundamental\",\"superior\",\"medio\",\"fundamental\",\"fundamental\",\"superior\",\"fundamental\",\"medio\",\"medio\",\"medio\",\"medio\",\"fundamental\",\"medio\",\"medio\",\"medio\",\"fundamental\",\"medio\",\"superior\",\"medio\",\"medio\",\"medio\",\"medio\",\"medio\",\"medio\",\"superior\",\"medio\",\"medio\",\"medio\",\"superior\",\"medio\",\"medio\",\"medio\",\"fundamental\",\"superior\",\"superior\",\"superior\",\"medio\",\"superior\",\"fundamental\",\"medio\",\"medio\",\"superior\",\"superior\",\"medio\",\"superior\",\"superior\",\"medio\",\"medio\",\"fundamental\",\"medio\",\"medio\",\"fundamental\",\"medio\",\"medio\",\"superior\",\"fundamental\",\"fundamental\",\"superior\",\"medio\",\"medio\",\"medio\",\"superior\",\"medio\",\"superior\",\"medio\",\"superior\",\"fundamental\",\"medio\",\"superior\",\"medio\",\"fundamental\",\"medio\",\"superior\",\"superior\",\"medio\",\"medio\",\"superior\",\"fundamental\",\"medio\",\"medio\",\"superior\",\"fundamental\",\"medio\",\"superior\",\"medio\",\"superior\",\"superior\",\"superior\",\"superior\",\"fundamental\",\"medio\",\"superior\",\"medio\",\"medio\",\"superior\",\"medio\",\"superior\",\"superior\",\"superior\",\"superior\",\"medio\",\"fundamental\",\"medio\",\"medio\",\"superior\",\"fundamental\",\"superior\",\"medio\",\"medio\",\"medio\",\"medio\",\"medio\",\"medio\",\"medio\",\"medio\",\"medio\",\"fundamental\",\"fundamental\",\"medio\",\"medio\",\"superior\",\"medio\",\"fundamental\",\"medio\",\"fundamental\",\"superior\",\"medio\",\"medio\",\"medio\",\"medio\",\"medio\",\"superior\",\"fundamental\",\"medio\",\"medio\",\"medio\",\"medio\",\"medio\",\"medio\",\"superior\",\"superior\",\"medio\",\"medio\",\"superior\",\"superior\",\"medio\",\"medio\",\"medio\",\"medio\",\"medio\",\"medio\",\"fundamental\",\"superior\",\"superior\",\"superior\",\"superior\",\"medio\",\"fundamental\",\"fundamental\",\"medio\",\"medio\",\"fundamental\",\"medio\",\"medio\",\"superior\",\"medio\",\"medio\",\"medio\",\"superior\",\"superior\",\"superior\",\"medio\",\"medio\",\"medio\",\"medio\",\"fundamental\",\"medio\",\"superior\",\"superior\",\"superior\",\"medio\",\"medio\",\"superior\",\"superior\",\"superior\",\"medio\",\"medio\",\"superior\",\"superior\",\"medio\",\"medio\",\"medio\",\"fundamental\",\"fundamental\",\"fundamental\",\"medio\",\"medio\",\"medio\",\"medio\",\"medio\",\"medio\",\"superior\",\"medio\",\"superior\",\"fundamental\",\"medio\",\"medio\",\"fundamental\",\"fundamental\",\"fundamental\",\"medio\",\"medio\",\"medio\",\"superior\",\"fundamental\",\"superior\",\"medio\",\"medio\",\"superior\",\"fundamental\",\"superior\",\"fundamental\",\"medio\",\"fundamental\",\"superior\",\"fundamental\",\"superior\",\"superior\",\"medio\",\"superior\",\"medio\",\"medio\",\"superior\",\"medio\",\"medio\",\"superior\",\"medio\",\"superior\",\"fundamental\",\"superior\",\"medio\",\"fundamental\",\"superior\",\"superior\",\"medio\",\"fundamental\",\"fundamental\",\"fundamental\",\"medio\",\"medio\",\"medio\",\"fundamental\",\"superior\",\"medio\",\"medio\",\"medio\",\"medio\",\"medio\",\"medio\",\"medio\",\"medio\",\"superior\",\"superior\",\"medio\",\"superior\",\"medio\",\"superior\",\"medio\",\"medio\",\"medio\",\"superior\",\"medio\",\"medio\",\"superior\",\"fundamental\",\"medio\",\"medio\",\"superior\",\"medio\",\"medio\",\"medio\",\"superior\",\"medio\",\"medio\",\"fundamental\",\"fundamental\",\"fundamental\",\"superior\",\"medio\",\"medio\",\"superior\",\"superior\",\"fundamental\",\"medio\",\"medio\",\"medio\",\"medio\",\"medio\",\"medio\",\"fundamental\",\"fundamental\",\"superior\",\"medio\",\"medio\",\"medio\",\"superior\",\"superior\",\"medio\",\"superior\",\"fundamental\",\"superior\",\"superior\",\"medio\",\"medio\",\"medio\",\"fundamental\",\"medio\",\"medio\",\"medio\",\"fundamental\",\"superior\",\"superior\",\"medio\",\"medio\",\"medio\",\"medio\",\"superior\",\"medio\",\"superior\",\"superior\",\"medio\",\"medio\",\"medio\",\"superior\",\"fundamental\",\"medio\",\"medio\",\"fundamental\",\"medio\",\"medio\",\"fundamental\",\"superior\",\"medio\",\"medio\",\"superior\",\"medio\",\"fundamental\",\"superior\",\"medio\",\"fundamental\",\"superior\",\"superior\",\"medio\",\"superior\",\"fundamental\",\"superior\",\"medio\",\"fundamental\",\"medio\",\"medio\",\"superior\",\"fundamental\",\"medio\",\"medio\",\"medio\",\"medio\",\"medio\",\"medio\",\"fundamental\",\"medio\",\"medio\",\"medio\",\"medio\",\"medio\",\"superior\",\"medio\",\"medio\",\"superior\",\"superior\",\"medio\",\"superior\",\"fundamental\",\"superior\",\"fundamental\",\"superior\",\"medio\",\"medio\",\"medio\",\"medio\",\"medio\",\"fundamental\",\"medio\",\"medio\",\"fundamental\",\"medio\",\"superior\",\"superior\",\"superior\",\"medio\",\"medio\",\"medio\",\"medio\",\"medio\",\"medio\"],\"xaxis\":\"x\",\"yaxis\":\"y\",\"type\":\"histogram\"}],                        {\"template\":{\"data\":{\"histogram2dcontour\":[{\"type\":\"histogram2dcontour\",\"colorbar\":{\"outlinewidth\":0,\"ticks\":\"\"},\"colorscale\":[[0.0,\"#0d0887\"],[0.1111111111111111,\"#46039f\"],[0.2222222222222222,\"#7201a8\"],[0.3333333333333333,\"#9c179e\"],[0.4444444444444444,\"#bd3786\"],[0.5555555555555556,\"#d8576b\"],[0.6666666666666666,\"#ed7953\"],[0.7777777777777778,\"#fb9f3a\"],[0.8888888888888888,\"#fdca26\"],[1.0,\"#f0f921\"]]}],\"choropleth\":[{\"type\":\"choropleth\",\"colorbar\":{\"outlinewidth\":0,\"ticks\":\"\"}}],\"histogram2d\":[{\"type\":\"histogram2d\",\"colorbar\":{\"outlinewidth\":0,\"ticks\":\"\"},\"colorscale\":[[0.0,\"#0d0887\"],[0.1111111111111111,\"#46039f\"],[0.2222222222222222,\"#7201a8\"],[0.3333333333333333,\"#9c179e\"],[0.4444444444444444,\"#bd3786\"],[0.5555555555555556,\"#d8576b\"],[0.6666666666666666,\"#ed7953\"],[0.7777777777777778,\"#fb9f3a\"],[0.8888888888888888,\"#fdca26\"],[1.0,\"#f0f921\"]]}],\"heatmap\":[{\"type\":\"heatmap\",\"colorbar\":{\"outlinewidth\":0,\"ticks\":\"\"},\"colorscale\":[[0.0,\"#0d0887\"],[0.1111111111111111,\"#46039f\"],[0.2222222222222222,\"#7201a8\"],[0.3333333333333333,\"#9c179e\"],[0.4444444444444444,\"#bd3786\"],[0.5555555555555556,\"#d8576b\"],[0.6666666666666666,\"#ed7953\"],[0.7777777777777778,\"#fb9f3a\"],[0.8888888888888888,\"#fdca26\"],[1.0,\"#f0f921\"]]}],\"heatmapgl\":[{\"type\":\"heatmapgl\",\"colorbar\":{\"outlinewidth\":0,\"ticks\":\"\"},\"colorscale\":[[0.0,\"#0d0887\"],[0.1111111111111111,\"#46039f\"],[0.2222222222222222,\"#7201a8\"],[0.3333333333333333,\"#9c179e\"],[0.4444444444444444,\"#bd3786\"],[0.5555555555555556,\"#d8576b\"],[0.6666666666666666,\"#ed7953\"],[0.7777777777777778,\"#fb9f3a\"],[0.8888888888888888,\"#fdca26\"],[1.0,\"#f0f921\"]]}],\"contourcarpet\":[{\"type\":\"contourcarpet\",\"colorbar\":{\"outlinewidth\":0,\"ticks\":\"\"}}],\"contour\":[{\"type\":\"contour\",\"colorbar\":{\"outlinewidth\":0,\"ticks\":\"\"},\"colorscale\":[[0.0,\"#0d0887\"],[0.1111111111111111,\"#46039f\"],[0.2222222222222222,\"#7201a8\"],[0.3333333333333333,\"#9c179e\"],[0.4444444444444444,\"#bd3786\"],[0.5555555555555556,\"#d8576b\"],[0.6666666666666666,\"#ed7953\"],[0.7777777777777778,\"#fb9f3a\"],[0.8888888888888888,\"#fdca26\"],[1.0,\"#f0f921\"]]}],\"surface\":[{\"type\":\"surface\",\"colorbar\":{\"outlinewidth\":0,\"ticks\":\"\"},\"colorscale\":[[0.0,\"#0d0887\"],[0.1111111111111111,\"#46039f\"],[0.2222222222222222,\"#7201a8\"],[0.3333333333333333,\"#9c179e\"],[0.4444444444444444,\"#bd3786\"],[0.5555555555555556,\"#d8576b\"],[0.6666666666666666,\"#ed7953\"],[0.7777777777777778,\"#fb9f3a\"],[0.8888888888888888,\"#fdca26\"],[1.0,\"#f0f921\"]]}],\"mesh3d\":[{\"type\":\"mesh3d\",\"colorbar\":{\"outlinewidth\":0,\"ticks\":\"\"}}],\"scatter\":[{\"fillpattern\":{\"fillmode\":\"overlay\",\"size\":10,\"solidity\":0.2},\"type\":\"scatter\"}],\"parcoords\":[{\"type\":\"parcoords\",\"line\":{\"colorbar\":{\"outlinewidth\":0,\"ticks\":\"\"}}}],\"scatterpolargl\":[{\"type\":\"scatterpolargl\",\"marker\":{\"colorbar\":{\"outlinewidth\":0,\"ticks\":\"\"}}}],\"bar\":[{\"error_x\":{\"color\":\"#2a3f5f\"},\"error_y\":{\"color\":\"#2a3f5f\"},\"marker\":{\"line\":{\"color\":\"#E5ECF6\",\"width\":0.5},\"pattern\":{\"fillmode\":\"overlay\",\"size\":10,\"solidity\":0.2}},\"type\":\"bar\"}],\"scattergeo\":[{\"type\":\"scattergeo\",\"marker\":{\"colorbar\":{\"outlinewidth\":0,\"ticks\":\"\"}}}],\"scatterpolar\":[{\"type\":\"scatterpolar\",\"marker\":{\"colorbar\":{\"outlinewidth\":0,\"ticks\":\"\"}}}],\"histogram\":[{\"marker\":{\"pattern\":{\"fillmode\":\"overlay\",\"size\":10,\"solidity\":0.2}},\"type\":\"histogram\"}],\"scattergl\":[{\"type\":\"scattergl\",\"marker\":{\"colorbar\":{\"outlinewidth\":0,\"ticks\":\"\"}}}],\"scatter3d\":[{\"type\":\"scatter3d\",\"line\":{\"colorbar\":{\"outlinewidth\":0,\"ticks\":\"\"}},\"marker\":{\"colorbar\":{\"outlinewidth\":0,\"ticks\":\"\"}}}],\"scattermapbox\":[{\"type\":\"scattermapbox\",\"marker\":{\"colorbar\":{\"outlinewidth\":0,\"ticks\":\"\"}}}],\"scatterternary\":[{\"type\":\"scatterternary\",\"marker\":{\"colorbar\":{\"outlinewidth\":0,\"ticks\":\"\"}}}],\"scattercarpet\":[{\"type\":\"scattercarpet\",\"marker\":{\"colorbar\":{\"outlinewidth\":0,\"ticks\":\"\"}}}],\"carpet\":[{\"aaxis\":{\"endlinecolor\":\"#2a3f5f\",\"gridcolor\":\"white\",\"linecolor\":\"white\",\"minorgridcolor\":\"white\",\"startlinecolor\":\"#2a3f5f\"},\"baxis\":{\"endlinecolor\":\"#2a3f5f\",\"gridcolor\":\"white\",\"linecolor\":\"white\",\"minorgridcolor\":\"white\",\"startlinecolor\":\"#2a3f5f\"},\"type\":\"carpet\"}],\"table\":[{\"cells\":{\"fill\":{\"color\":\"#EBF0F8\"},\"line\":{\"color\":\"white\"}},\"header\":{\"fill\":{\"color\":\"#C8D4E3\"},\"line\":{\"color\":\"white\"}},\"type\":\"table\"}],\"barpolar\":[{\"marker\":{\"line\":{\"color\":\"#E5ECF6\",\"width\":0.5},\"pattern\":{\"fillmode\":\"overlay\",\"size\":10,\"solidity\":0.2}},\"type\":\"barpolar\"}],\"pie\":[{\"automargin\":true,\"type\":\"pie\"}]},\"layout\":{\"autotypenumbers\":\"strict\",\"colorway\":[\"#636efa\",\"#EF553B\",\"#00cc96\",\"#ab63fa\",\"#FFA15A\",\"#19d3f3\",\"#FF6692\",\"#B6E880\",\"#FF97FF\",\"#FECB52\"],\"font\":{\"color\":\"#2a3f5f\"},\"hovermode\":\"closest\",\"hoverlabel\":{\"align\":\"left\"},\"paper_bgcolor\":\"white\",\"plot_bgcolor\":\"#E5ECF6\",\"polar\":{\"bgcolor\":\"#E5ECF6\",\"angularaxis\":{\"gridcolor\":\"white\",\"linecolor\":\"white\",\"ticks\":\"\"},\"radialaxis\":{\"gridcolor\":\"white\",\"linecolor\":\"white\",\"ticks\":\"\"}},\"ternary\":{\"bgcolor\":\"#E5ECF6\",\"aaxis\":{\"gridcolor\":\"white\",\"linecolor\":\"white\",\"ticks\":\"\"},\"baxis\":{\"gridcolor\":\"white\",\"linecolor\":\"white\",\"ticks\":\"\"},\"caxis\":{\"gridcolor\":\"white\",\"linecolor\":\"white\",\"ticks\":\"\"}},\"coloraxis\":{\"colorbar\":{\"outlinewidth\":0,\"ticks\":\"\"}},\"colorscale\":{\"sequential\":[[0.0,\"#0d0887\"],[0.1111111111111111,\"#46039f\"],[0.2222222222222222,\"#7201a8\"],[0.3333333333333333,\"#9c179e\"],[0.4444444444444444,\"#bd3786\"],[0.5555555555555556,\"#d8576b\"],[0.6666666666666666,\"#ed7953\"],[0.7777777777777778,\"#fb9f3a\"],[0.8888888888888888,\"#fdca26\"],[1.0,\"#f0f921\"]],\"sequentialminus\":[[0.0,\"#0d0887\"],[0.1111111111111111,\"#46039f\"],[0.2222222222222222,\"#7201a8\"],[0.3333333333333333,\"#9c179e\"],[0.4444444444444444,\"#bd3786\"],[0.5555555555555556,\"#d8576b\"],[0.6666666666666666,\"#ed7953\"],[0.7777777777777778,\"#fb9f3a\"],[0.8888888888888888,\"#fdca26\"],[1.0,\"#f0f921\"]],\"diverging\":[[0,\"#8e0152\"],[0.1,\"#c51b7d\"],[0.2,\"#de77ae\"],[0.3,\"#f1b6da\"],[0.4,\"#fde0ef\"],[0.5,\"#f7f7f7\"],[0.6,\"#e6f5d0\"],[0.7,\"#b8e186\"],[0.8,\"#7fbc41\"],[0.9,\"#4d9221\"],[1,\"#276419\"]]},\"xaxis\":{\"gridcolor\":\"white\",\"linecolor\":\"white\",\"ticks\":\"\",\"title\":{\"standoff\":15},\"zerolinecolor\":\"white\",\"automargin\":true,\"zerolinewidth\":2},\"yaxis\":{\"gridcolor\":\"white\",\"linecolor\":\"white\",\"ticks\":\"\",\"title\":{\"standoff\":15},\"zerolinecolor\":\"white\",\"automargin\":true,\"zerolinewidth\":2},\"scene\":{\"xaxis\":{\"backgroundcolor\":\"#E5ECF6\",\"gridcolor\":\"white\",\"linecolor\":\"white\",\"showbackground\":true,\"ticks\":\"\",\"zerolinecolor\":\"white\",\"gridwidth\":2},\"yaxis\":{\"backgroundcolor\":\"#E5ECF6\",\"gridcolor\":\"white\",\"linecolor\":\"white\",\"showbackground\":true,\"ticks\":\"\",\"zerolinecolor\":\"white\",\"gridwidth\":2},\"zaxis\":{\"backgroundcolor\":\"#E5ECF6\",\"gridcolor\":\"white\",\"linecolor\":\"white\",\"showbackground\":true,\"ticks\":\"\",\"zerolinecolor\":\"white\",\"gridwidth\":2}},\"shapedefaults\":{\"line\":{\"color\":\"#2a3f5f\"}},\"annotationdefaults\":{\"arrowcolor\":\"#2a3f5f\",\"arrowhead\":0,\"arrowwidth\":1},\"geo\":{\"bgcolor\":\"white\",\"landcolor\":\"#E5ECF6\",\"subunitcolor\":\"white\",\"showland\":true,\"showlakes\":true,\"lakecolor\":\"white\"},\"title\":{\"x\":0.05},\"mapbox\":{\"style\":\"light\"}}},\"xaxis\":{\"anchor\":\"y\",\"domain\":[0.0,1.0],\"title\":{\"text\":\"escolaridade\"}},\"yaxis\":{\"anchor\":\"x\",\"domain\":[0.0,1.0],\"title\":{\"text\":\"count\"}},\"legend\":{\"title\":{\"text\":\"aderencia_investimento\"},\"tracegroupgap\":0},\"margin\":{\"t\":60},\"barmode\":\"group\"},                        {\"responsive\": true}                    ).then(function(){\n",
              "                            \n",
              "var gd = document.getElementById('53f55fc6-d4a4-49b5-b487-f0ec735743ef');\n",
              "var x = new MutationObserver(function (mutations, observer) {{\n",
              "        var display = window.getComputedStyle(gd).display;\n",
              "        if (!display || display === 'none') {{\n",
              "            console.log([gd, 'removed!']);\n",
              "            Plotly.purge(gd);\n",
              "            observer.disconnect();\n",
              "        }}\n",
              "}});\n",
              "\n",
              "// Listen for the removal of the full notebook cells\n",
              "var notebookContainer = gd.closest('#notebook-container');\n",
              "if (notebookContainer) {{\n",
              "    x.observe(notebookContainer, {childList: true});\n",
              "}}\n",
              "\n",
              "// Listen for the clearing of the current output cell\n",
              "var outputEl = gd.closest('.output');\n",
              "if (outputEl) {{\n",
              "    x.observe(outputEl, {childList: true});\n",
              "}}\n",
              "\n",
              "                        })                };                            </script>        </div>\n",
              "</body>\n",
              "</html>"
            ]
          },
          "metadata": {}
        }
      ]
    },
    {
      "cell_type": "code",
      "source": [
        "# Importing the plotly.express library for visualization\n",
        "import plotly.express as px\n",
        "\n",
        "# Creating a grouped histogram to visualize the distribution of 'inadimplencia' with respect to 'aderencia_investimento'\n",
        "fig4 = px.histogram(data,\n",
        "                   x=\"inadimplencia\",  # Column for the x-axis\n",
        "                   text_auto=True,  # Automatically add text labels to the bars\n",
        "                   color=\"aderencia_investimento\",  # Color the bars based on 'aderencia_investimento'\n",
        "                   barmode=\"group\")  # Group the bars for better comparison\n",
        "\n",
        "# Displaying the plot\n",
        "#fig4.show()\n"
      ],
      "metadata": {
        "id": "K4Q55CAzk-6b"
      },
      "execution_count": 170,
      "outputs": []
    },
    {
      "cell_type": "code",
      "source": [
        "#px.box(data, y=\"idade\", color = \"aderencia_investimento\")"
      ],
      "metadata": {
        "id": "GuPYJIpTfXE7"
      },
      "execution_count": 171,
      "outputs": []
    },
    {
      "cell_type": "code",
      "source": [
        "#px.box(data, y=\"saldo\", color = \"aderencia_investimento\")"
      ],
      "metadata": {
        "id": "AJbML6_YgAZr"
      },
      "execution_count": 172,
      "outputs": []
    },
    {
      "cell_type": "code",
      "source": [
        "#px.box(data, x=\"tempo_ult_contato\", color = \"aderencia_investimento\")"
      ],
      "metadata": {
        "id": "mVNQMInQiPjL"
      },
      "execution_count": 173,
      "outputs": []
    },
    {
      "cell_type": "code",
      "source": [
        "#px.box(data, x=\"numero_contatos\", color = \"aderencia_investimento\")"
      ],
      "metadata": {
        "id": "Xo8IEpQkidei"
      },
      "execution_count": 174,
      "outputs": []
    },
    {
      "cell_type": "markdown",
      "source": [
        "# Data transform"
      ],
      "metadata": {
        "id": "NGNspq7WoGrH"
      }
    },
    {
      "cell_type": "markdown",
      "source": [
        "## Explanatory Variables and Target Variable"
      ],
      "metadata": {
        "id": "EZIgFOVLmg5v"
      }
    },
    {
      "cell_type": "markdown",
      "source": [
        "To predict values with a machine learning model, we need to separate the target variable and explanatory variables. **Y** represents the variable we want to predict, while **X** represents all the variables that will be used to explain the behavior of **y**."
      ],
      "metadata": {
        "id": "Ji18mcM3In44"
      }
    },
    {
      "cell_type": "code",
      "source": [
        "# Separating the explanatory variables (X) from the target variable (y)\n",
        "x = data.drop(\"aderencia_investimento\", axis=1)  # Drop the target variable from the dataset for explanatory variables\n",
        "y = data[\"aderencia_investimento\"]  # Select the target variable\n",
        "\n",
        "# Displaying the first 2 rows of the explanatory variables and target variable (commented out)\n",
        "# x.head(2)\n",
        "# y.head(2)"
      ],
      "metadata": {
        "id": "KNuVT_uCk9vN"
      },
      "execution_count": 175,
      "outputs": []
    },
    {
      "cell_type": "markdown",
      "source": [
        "## Transforming the variables into explanatory"
      ],
      "metadata": {
        "id": "lAwB5Nv6n6S0"
      }
    },
    {
      "cell_type": "markdown",
      "source": [
        "Machine learning algorithms do not understand text data, so we need to transform the data into a numeric format for the algorithm to understand the information. This transformation must be done in a way that does not alter the original information in the dataset, so it’s not enough to simply change the values to random numeric values."
      ],
      "metadata": {
        "id": "twG9GNHPKIky"
      }
    },
    {
      "cell_type": "markdown",
      "source": [
        "![image.png](data:image/png;base64,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)"
      ],
      "metadata": {
        "id": "vcnL3X4VAHE5"
      }
    },
    {
      "cell_type": "code",
      "source": [],
      "metadata": {
        "id": "Kw5MDWXNkO_K"
      },
      "execution_count": 175,
      "outputs": []
    },
    {
      "cell_type": "code",
      "source": [
        "colunas = x.columns\n",
        "# Importing necessary libraries for column transformations\n",
        "from sklearn.compose import make_column_transformer\n",
        "from sklearn.preprocessing import OneHotEncoder\n",
        "\n",
        "# Separating the explanatory variables (X) and the target variable (y)\n",
        "x = data.drop(\"aderencia_investimento\", axis=1)  # Drop the target variable from the dataset for explanatory variables\n",
        "y = data[\"aderencia_investimento\"]  # Select the target variable\n",
        "\n",
        "# Creating a column transformer for one-hot encoding categorical variables\n",
        "one_hot = make_column_transformer(\n",
        "    (OneHotEncoder(drop=\"if_binary\"), ['estado_civil', 'escolaridade', 'inadimplencia', 'fez_emprestimo']),  # Apply OneHotEncoder to the specified columns\n",
        "    remainder='passthrough',  # Do not exclude numeric values (keep them as is)\n",
        "    sparse_threshold=0  # Do not use sparse matrices (dense output)\n",
        ")\n",
        "\n",
        "# Fitting and transforming the data with the one-hot encoder\n",
        "X = one_hot.fit(x)\n",
        "\n",
        "# Storing the transformed data into 'one_hot_modelo_x' for further use\n",
        "one_hot_modelo_x = X\n",
        "\n",
        "# Transforming the original dataset 'x' into the one-hot encoded format\n",
        "X = X.transform(x)"
      ],
      "metadata": {
        "id": "Iz2LmyMrk8M6"
      },
      "execution_count": 176,
      "outputs": []
    },
    {
      "cell_type": "code",
      "source": [
        "one_hot_modelo_x #Printing the X content model for futher use"
      ],
      "metadata": {
        "colab": {
          "base_uri": "https://localhost:8080/",
          "height": 297
        },
        "id": "JLZWUTN7rRv1",
        "outputId": "f0635ee5-0c43-4633-bc87-2bd8b35a8d5b"
      },
      "execution_count": 178,
      "outputs": [
        {
          "output_type": "stream",
          "name": "stderr",
          "text": [
            "/usr/local/lib/python3.11/dist-packages/sklearn/compose/_column_transformer.py:1667: FutureWarning:\n",
            "\n",
            "\n",
            "The format of the columns of the 'remainder' transformer in ColumnTransformer.transformers_ will change in version 1.7 to match the format of the other transformers.\n",
            "At the moment the remainder columns are stored as indices (of type int). With the same ColumnTransformer configuration, in the future they will be stored as column names (of type str).\n",
            "To use the new behavior now and suppress this warning, use ColumnTransformer(force_int_remainder_cols=False).\n",
            "\n",
            "\n"
          ]
        },
        {
          "output_type": "execute_result",
          "data": {
            "text/plain": [
              "ColumnTransformer(remainder='passthrough', sparse_threshold=0,\n",
              "                  transformers=[('onehotencoder',\n",
              "                                 OneHotEncoder(drop='if_binary'),\n",
              "                                 ['estado_civil', 'escolaridade',\n",
              "                                  'inadimplencia', 'fez_emprestimo'])])"
            ],
            "text/html": [
              "<style>#sk-container-id-8 {\n",
              "  /* Definition of color scheme common for light and dark mode */\n",
              "  --sklearn-color-text: #000;\n",
              "  --sklearn-color-text-muted: #666;\n",
              "  --sklearn-color-line: gray;\n",
              "  /* Definition of color scheme for unfitted estimators */\n",
              "  --sklearn-color-unfitted-level-0: #fff5e6;\n",
              "  --sklearn-color-unfitted-level-1: #f6e4d2;\n",
              "  --sklearn-color-unfitted-level-2: #ffe0b3;\n",
              "  --sklearn-color-unfitted-level-3: chocolate;\n",
              "  /* Definition of color scheme for fitted estimators */\n",
              "  --sklearn-color-fitted-level-0: #f0f8ff;\n",
              "  --sklearn-color-fitted-level-1: #d4ebff;\n",
              "  --sklearn-color-fitted-level-2: #b3dbfd;\n",
              "  --sklearn-color-fitted-level-3: cornflowerblue;\n",
              "\n",
              "  /* Specific color for light theme */\n",
              "  --sklearn-color-text-on-default-background: var(--sg-text-color, var(--theme-code-foreground, var(--jp-content-font-color1, black)));\n",
              "  --sklearn-color-background: var(--sg-background-color, var(--theme-background, var(--jp-layout-color0, white)));\n",
              "  --sklearn-color-border-box: var(--sg-text-color, var(--theme-code-foreground, var(--jp-content-font-color1, black)));\n",
              "  --sklearn-color-icon: #696969;\n",
              "\n",
              "  @media (prefers-color-scheme: dark) {\n",
              "    /* Redefinition of color scheme for dark theme */\n",
              "    --sklearn-color-text-on-default-background: var(--sg-text-color, var(--theme-code-foreground, var(--jp-content-font-color1, white)));\n",
              "    --sklearn-color-background: var(--sg-background-color, var(--theme-background, var(--jp-layout-color0, #111)));\n",
              "    --sklearn-color-border-box: var(--sg-text-color, var(--theme-code-foreground, var(--jp-content-font-color1, white)));\n",
              "    --sklearn-color-icon: #878787;\n",
              "  }\n",
              "}\n",
              "\n",
              "#sk-container-id-8 {\n",
              "  color: var(--sklearn-color-text);\n",
              "}\n",
              "\n",
              "#sk-container-id-8 pre {\n",
              "  padding: 0;\n",
              "}\n",
              "\n",
              "#sk-container-id-8 input.sk-hidden--visually {\n",
              "  border: 0;\n",
              "  clip: rect(1px 1px 1px 1px);\n",
              "  clip: rect(1px, 1px, 1px, 1px);\n",
              "  height: 1px;\n",
              "  margin: -1px;\n",
              "  overflow: hidden;\n",
              "  padding: 0;\n",
              "  position: absolute;\n",
              "  width: 1px;\n",
              "}\n",
              "\n",
              "#sk-container-id-8 div.sk-dashed-wrapped {\n",
              "  border: 1px dashed var(--sklearn-color-line);\n",
              "  margin: 0 0.4em 0.5em 0.4em;\n",
              "  box-sizing: border-box;\n",
              "  padding-bottom: 0.4em;\n",
              "  background-color: var(--sklearn-color-background);\n",
              "}\n",
              "\n",
              "#sk-container-id-8 div.sk-container {\n",
              "  /* jupyter's `normalize.less` sets `[hidden] { display: none; }`\n",
              "     but bootstrap.min.css set `[hidden] { display: none !important; }`\n",
              "     so we also need the `!important` here to be able to override the\n",
              "     default hidden behavior on the sphinx rendered scikit-learn.org.\n",
              "     See: https://github.com/scikit-learn/scikit-learn/issues/21755 */\n",
              "  display: inline-block !important;\n",
              "  position: relative;\n",
              "}\n",
              "\n",
              "#sk-container-id-8 div.sk-text-repr-fallback {\n",
              "  display: none;\n",
              "}\n",
              "\n",
              "div.sk-parallel-item,\n",
              "div.sk-serial,\n",
              "div.sk-item {\n",
              "  /* draw centered vertical line to link estimators */\n",
              "  background-image: linear-gradient(var(--sklearn-color-text-on-default-background), var(--sklearn-color-text-on-default-background));\n",
              "  background-size: 2px 100%;\n",
              "  background-repeat: no-repeat;\n",
              "  background-position: center center;\n",
              "}\n",
              "\n",
              "/* Parallel-specific style estimator block */\n",
              "\n",
              "#sk-container-id-8 div.sk-parallel-item::after {\n",
              "  content: \"\";\n",
              "  width: 100%;\n",
              "  border-bottom: 2px solid var(--sklearn-color-text-on-default-background);\n",
              "  flex-grow: 1;\n",
              "}\n",
              "\n",
              "#sk-container-id-8 div.sk-parallel {\n",
              "  display: flex;\n",
              "  align-items: stretch;\n",
              "  justify-content: center;\n",
              "  background-color: var(--sklearn-color-background);\n",
              "  position: relative;\n",
              "}\n",
              "\n",
              "#sk-container-id-8 div.sk-parallel-item {\n",
              "  display: flex;\n",
              "  flex-direction: column;\n",
              "}\n",
              "\n",
              "#sk-container-id-8 div.sk-parallel-item:first-child::after {\n",
              "  align-self: flex-end;\n",
              "  width: 50%;\n",
              "}\n",
              "\n",
              "#sk-container-id-8 div.sk-parallel-item:last-child::after {\n",
              "  align-self: flex-start;\n",
              "  width: 50%;\n",
              "}\n",
              "\n",
              "#sk-container-id-8 div.sk-parallel-item:only-child::after {\n",
              "  width: 0;\n",
              "}\n",
              "\n",
              "/* Serial-specific style estimator block */\n",
              "\n",
              "#sk-container-id-8 div.sk-serial {\n",
              "  display: flex;\n",
              "  flex-direction: column;\n",
              "  align-items: center;\n",
              "  background-color: var(--sklearn-color-background);\n",
              "  padding-right: 1em;\n",
              "  padding-left: 1em;\n",
              "}\n",
              "\n",
              "\n",
              "/* Toggleable style: style used for estimator/Pipeline/ColumnTransformer box that is\n",
              "clickable and can be expanded/collapsed.\n",
              "- Pipeline and ColumnTransformer use this feature and define the default style\n",
              "- Estimators will overwrite some part of the style using the `sk-estimator` class\n",
              "*/\n",
              "\n",
              "/* Pipeline and ColumnTransformer style (default) */\n",
              "\n",
              "#sk-container-id-8 div.sk-toggleable {\n",
              "  /* Default theme specific background. It is overwritten whether we have a\n",
              "  specific estimator or a Pipeline/ColumnTransformer */\n",
              "  background-color: var(--sklearn-color-background);\n",
              "}\n",
              "\n",
              "/* Toggleable label */\n",
              "#sk-container-id-8 label.sk-toggleable__label {\n",
              "  cursor: pointer;\n",
              "  display: flex;\n",
              "  width: 100%;\n",
              "  margin-bottom: 0;\n",
              "  padding: 0.5em;\n",
              "  box-sizing: border-box;\n",
              "  text-align: center;\n",
              "  align-items: start;\n",
              "  justify-content: space-between;\n",
              "  gap: 0.5em;\n",
              "}\n",
              "\n",
              "#sk-container-id-8 label.sk-toggleable__label .caption {\n",
              "  font-size: 0.6rem;\n",
              "  font-weight: lighter;\n",
              "  color: var(--sklearn-color-text-muted);\n",
              "}\n",
              "\n",
              "#sk-container-id-8 label.sk-toggleable__label-arrow:before {\n",
              "  /* Arrow on the left of the label */\n",
              "  content: \"▸\";\n",
              "  float: left;\n",
              "  margin-right: 0.25em;\n",
              "  color: var(--sklearn-color-icon);\n",
              "}\n",
              "\n",
              "#sk-container-id-8 label.sk-toggleable__label-arrow:hover:before {\n",
              "  color: var(--sklearn-color-text);\n",
              "}\n",
              "\n",
              "/* Toggleable content - dropdown */\n",
              "\n",
              "#sk-container-id-8 div.sk-toggleable__content {\n",
              "  max-height: 0;\n",
              "  max-width: 0;\n",
              "  overflow: hidden;\n",
              "  text-align: left;\n",
              "  /* unfitted */\n",
              "  background-color: var(--sklearn-color-unfitted-level-0);\n",
              "}\n",
              "\n",
              "#sk-container-id-8 div.sk-toggleable__content.fitted {\n",
              "  /* fitted */\n",
              "  background-color: var(--sklearn-color-fitted-level-0);\n",
              "}\n",
              "\n",
              "#sk-container-id-8 div.sk-toggleable__content pre {\n",
              "  margin: 0.2em;\n",
              "  border-radius: 0.25em;\n",
              "  color: var(--sklearn-color-text);\n",
              "  /* unfitted */\n",
              "  background-color: var(--sklearn-color-unfitted-level-0);\n",
              "}\n",
              "\n",
              "#sk-container-id-8 div.sk-toggleable__content.fitted pre {\n",
              "  /* unfitted */\n",
              "  background-color: var(--sklearn-color-fitted-level-0);\n",
              "}\n",
              "\n",
              "#sk-container-id-8 input.sk-toggleable__control:checked~div.sk-toggleable__content {\n",
              "  /* Expand drop-down */\n",
              "  max-height: 200px;\n",
              "  max-width: 100%;\n",
              "  overflow: auto;\n",
              "}\n",
              "\n",
              "#sk-container-id-8 input.sk-toggleable__control:checked~label.sk-toggleable__label-arrow:before {\n",
              "  content: \"▾\";\n",
              "}\n",
              "\n",
              "/* Pipeline/ColumnTransformer-specific style */\n",
              "\n",
              "#sk-container-id-8 div.sk-label input.sk-toggleable__control:checked~label.sk-toggleable__label {\n",
              "  color: var(--sklearn-color-text);\n",
              "  background-color: var(--sklearn-color-unfitted-level-2);\n",
              "}\n",
              "\n",
              "#sk-container-id-8 div.sk-label.fitted input.sk-toggleable__control:checked~label.sk-toggleable__label {\n",
              "  background-color: var(--sklearn-color-fitted-level-2);\n",
              "}\n",
              "\n",
              "/* Estimator-specific style */\n",
              "\n",
              "/* Colorize estimator box */\n",
              "#sk-container-id-8 div.sk-estimator input.sk-toggleable__control:checked~label.sk-toggleable__label {\n",
              "  /* unfitted */\n",
              "  background-color: var(--sklearn-color-unfitted-level-2);\n",
              "}\n",
              "\n",
              "#sk-container-id-8 div.sk-estimator.fitted input.sk-toggleable__control:checked~label.sk-toggleable__label {\n",
              "  /* fitted */\n",
              "  background-color: var(--sklearn-color-fitted-level-2);\n",
              "}\n",
              "\n",
              "#sk-container-id-8 div.sk-label label.sk-toggleable__label,\n",
              "#sk-container-id-8 div.sk-label label {\n",
              "  /* The background is the default theme color */\n",
              "  color: var(--sklearn-color-text-on-default-background);\n",
              "}\n",
              "\n",
              "/* On hover, darken the color of the background */\n",
              "#sk-container-id-8 div.sk-label:hover label.sk-toggleable__label {\n",
              "  color: var(--sklearn-color-text);\n",
              "  background-color: var(--sklearn-color-unfitted-level-2);\n",
              "}\n",
              "\n",
              "/* Label box, darken color on hover, fitted */\n",
              "#sk-container-id-8 div.sk-label.fitted:hover label.sk-toggleable__label.fitted {\n",
              "  color: var(--sklearn-color-text);\n",
              "  background-color: var(--sklearn-color-fitted-level-2);\n",
              "}\n",
              "\n",
              "/* Estimator label */\n",
              "\n",
              "#sk-container-id-8 div.sk-label label {\n",
              "  font-family: monospace;\n",
              "  font-weight: bold;\n",
              "  display: inline-block;\n",
              "  line-height: 1.2em;\n",
              "}\n",
              "\n",
              "#sk-container-id-8 div.sk-label-container {\n",
              "  text-align: center;\n",
              "}\n",
              "\n",
              "/* Estimator-specific */\n",
              "#sk-container-id-8 div.sk-estimator {\n",
              "  font-family: monospace;\n",
              "  border: 1px dotted var(--sklearn-color-border-box);\n",
              "  border-radius: 0.25em;\n",
              "  box-sizing: border-box;\n",
              "  margin-bottom: 0.5em;\n",
              "  /* unfitted */\n",
              "  background-color: var(--sklearn-color-unfitted-level-0);\n",
              "}\n",
              "\n",
              "#sk-container-id-8 div.sk-estimator.fitted {\n",
              "  /* fitted */\n",
              "  background-color: var(--sklearn-color-fitted-level-0);\n",
              "}\n",
              "\n",
              "/* on hover */\n",
              "#sk-container-id-8 div.sk-estimator:hover {\n",
              "  /* unfitted */\n",
              "  background-color: var(--sklearn-color-unfitted-level-2);\n",
              "}\n",
              "\n",
              "#sk-container-id-8 div.sk-estimator.fitted:hover {\n",
              "  /* fitted */\n",
              "  background-color: var(--sklearn-color-fitted-level-2);\n",
              "}\n",
              "\n",
              "/* Specification for estimator info (e.g. \"i\" and \"?\") */\n",
              "\n",
              "/* Common style for \"i\" and \"?\" */\n",
              "\n",
              ".sk-estimator-doc-link,\n",
              "a:link.sk-estimator-doc-link,\n",
              "a:visited.sk-estimator-doc-link {\n",
              "  float: right;\n",
              "  font-size: smaller;\n",
              "  line-height: 1em;\n",
              "  font-family: monospace;\n",
              "  background-color: var(--sklearn-color-background);\n",
              "  border-radius: 1em;\n",
              "  height: 1em;\n",
              "  width: 1em;\n",
              "  text-decoration: none !important;\n",
              "  margin-left: 0.5em;\n",
              "  text-align: center;\n",
              "  /* unfitted */\n",
              "  border: var(--sklearn-color-unfitted-level-1) 1pt solid;\n",
              "  color: var(--sklearn-color-unfitted-level-1);\n",
              "}\n",
              "\n",
              ".sk-estimator-doc-link.fitted,\n",
              "a:link.sk-estimator-doc-link.fitted,\n",
              "a:visited.sk-estimator-doc-link.fitted {\n",
              "  /* fitted */\n",
              "  border: var(--sklearn-color-fitted-level-1) 1pt solid;\n",
              "  color: var(--sklearn-color-fitted-level-1);\n",
              "}\n",
              "\n",
              "/* On hover */\n",
              "div.sk-estimator:hover .sk-estimator-doc-link:hover,\n",
              ".sk-estimator-doc-link:hover,\n",
              "div.sk-label-container:hover .sk-estimator-doc-link:hover,\n",
              ".sk-estimator-doc-link:hover {\n",
              "  /* unfitted */\n",
              "  background-color: var(--sklearn-color-unfitted-level-3);\n",
              "  color: var(--sklearn-color-background);\n",
              "  text-decoration: none;\n",
              "}\n",
              "\n",
              "div.sk-estimator.fitted:hover .sk-estimator-doc-link.fitted:hover,\n",
              ".sk-estimator-doc-link.fitted:hover,\n",
              "div.sk-label-container:hover .sk-estimator-doc-link.fitted:hover,\n",
              ".sk-estimator-doc-link.fitted:hover {\n",
              "  /* fitted */\n",
              "  background-color: var(--sklearn-color-fitted-level-3);\n",
              "  color: var(--sklearn-color-background);\n",
              "  text-decoration: none;\n",
              "}\n",
              "\n",
              "/* Span, style for the box shown on hovering the info icon */\n",
              ".sk-estimator-doc-link span {\n",
              "  display: none;\n",
              "  z-index: 9999;\n",
              "  position: relative;\n",
              "  font-weight: normal;\n",
              "  right: .2ex;\n",
              "  padding: .5ex;\n",
              "  margin: .5ex;\n",
              "  width: min-content;\n",
              "  min-width: 20ex;\n",
              "  max-width: 50ex;\n",
              "  color: var(--sklearn-color-text);\n",
              "  box-shadow: 2pt 2pt 4pt #999;\n",
              "  /* unfitted */\n",
              "  background: var(--sklearn-color-unfitted-level-0);\n",
              "  border: .5pt solid var(--sklearn-color-unfitted-level-3);\n",
              "}\n",
              "\n",
              ".sk-estimator-doc-link.fitted span {\n",
              "  /* fitted */\n",
              "  background: var(--sklearn-color-fitted-level-0);\n",
              "  border: var(--sklearn-color-fitted-level-3);\n",
              "}\n",
              "\n",
              ".sk-estimator-doc-link:hover span {\n",
              "  display: block;\n",
              "}\n",
              "\n",
              "/* \"?\"-specific style due to the `<a>` HTML tag */\n",
              "\n",
              "#sk-container-id-8 a.estimator_doc_link {\n",
              "  float: right;\n",
              "  font-size: 1rem;\n",
              "  line-height: 1em;\n",
              "  font-family: monospace;\n",
              "  background-color: var(--sklearn-color-background);\n",
              "  border-radius: 1rem;\n",
              "  height: 1rem;\n",
              "  width: 1rem;\n",
              "  text-decoration: none;\n",
              "  /* unfitted */\n",
              "  color: var(--sklearn-color-unfitted-level-1);\n",
              "  border: var(--sklearn-color-unfitted-level-1) 1pt solid;\n",
              "}\n",
              "\n",
              "#sk-container-id-8 a.estimator_doc_link.fitted {\n",
              "  /* fitted */\n",
              "  border: var(--sklearn-color-fitted-level-1) 1pt solid;\n",
              "  color: var(--sklearn-color-fitted-level-1);\n",
              "}\n",
              "\n",
              "/* On hover */\n",
              "#sk-container-id-8 a.estimator_doc_link:hover {\n",
              "  /* unfitted */\n",
              "  background-color: var(--sklearn-color-unfitted-level-3);\n",
              "  color: var(--sklearn-color-background);\n",
              "  text-decoration: none;\n",
              "}\n",
              "\n",
              "#sk-container-id-8 a.estimator_doc_link.fitted:hover {\n",
              "  /* fitted */\n",
              "  background-color: var(--sklearn-color-fitted-level-3);\n",
              "}\n",
              "</style><div id=\"sk-container-id-8\" class=\"sk-top-container\"><div class=\"sk-text-repr-fallback\"><pre>ColumnTransformer(remainder=&#x27;passthrough&#x27;, sparse_threshold=0,\n",
              "                  transformers=[(&#x27;onehotencoder&#x27;,\n",
              "                                 OneHotEncoder(drop=&#x27;if_binary&#x27;),\n",
              "                                 [&#x27;estado_civil&#x27;, &#x27;escolaridade&#x27;,\n",
              "                                  &#x27;inadimplencia&#x27;, &#x27;fez_emprestimo&#x27;])])</pre><b>In a Jupyter environment, please rerun this cell to show the HTML representation or trust the notebook. <br />On GitHub, the HTML representation is unable to render, please try loading this page with nbviewer.org.</b></div><div class=\"sk-container\" hidden><div class=\"sk-item sk-dashed-wrapped\"><div class=\"sk-label-container\"><div class=\"sk-label fitted sk-toggleable\"><input class=\"sk-toggleable__control sk-hidden--visually\" id=\"sk-estimator-id-32\" type=\"checkbox\" ><label for=\"sk-estimator-id-32\" class=\"sk-toggleable__label fitted sk-toggleable__label-arrow\"><div><div>ColumnTransformer</div></div><div><a class=\"sk-estimator-doc-link fitted\" rel=\"noreferrer\" target=\"_blank\" href=\"https://scikit-learn.org/1.6/modules/generated/sklearn.compose.ColumnTransformer.html\">?<span>Documentation for ColumnTransformer</span></a><span class=\"sk-estimator-doc-link fitted\">i<span>Fitted</span></span></div></label><div class=\"sk-toggleable__content fitted\"><pre>ColumnTransformer(remainder=&#x27;passthrough&#x27;, sparse_threshold=0,\n",
              "                  transformers=[(&#x27;onehotencoder&#x27;,\n",
              "                                 OneHotEncoder(drop=&#x27;if_binary&#x27;),\n",
              "                                 [&#x27;estado_civil&#x27;, &#x27;escolaridade&#x27;,\n",
              "                                  &#x27;inadimplencia&#x27;, &#x27;fez_emprestimo&#x27;])])</pre></div> </div></div><div class=\"sk-parallel\"><div class=\"sk-parallel-item\"><div class=\"sk-item\"><div class=\"sk-label-container\"><div class=\"sk-label fitted sk-toggleable\"><input class=\"sk-toggleable__control sk-hidden--visually\" id=\"sk-estimator-id-33\" type=\"checkbox\" ><label for=\"sk-estimator-id-33\" class=\"sk-toggleable__label fitted sk-toggleable__label-arrow\"><div><div>onehotencoder</div></div></label><div class=\"sk-toggleable__content fitted\"><pre>[&#x27;estado_civil&#x27;, &#x27;escolaridade&#x27;, &#x27;inadimplencia&#x27;, &#x27;fez_emprestimo&#x27;]</pre></div> </div></div><div class=\"sk-serial\"><div class=\"sk-item\"><div class=\"sk-estimator fitted sk-toggleable\"><input class=\"sk-toggleable__control sk-hidden--visually\" id=\"sk-estimator-id-34\" type=\"checkbox\" ><label for=\"sk-estimator-id-34\" class=\"sk-toggleable__label fitted sk-toggleable__label-arrow\"><div><div>OneHotEncoder</div></div><div><a class=\"sk-estimator-doc-link fitted\" rel=\"noreferrer\" target=\"_blank\" href=\"https://scikit-learn.org/1.6/modules/generated/sklearn.preprocessing.OneHotEncoder.html\">?<span>Documentation for OneHotEncoder</span></a></div></label><div class=\"sk-toggleable__content fitted\"><pre>OneHotEncoder(drop=&#x27;if_binary&#x27;)</pre></div> </div></div></div></div></div><div class=\"sk-parallel-item\"><div class=\"sk-item\"><div class=\"sk-label-container\"><div class=\"sk-label fitted sk-toggleable\"><input class=\"sk-toggleable__control sk-hidden--visually\" id=\"sk-estimator-id-35\" type=\"checkbox\" ><label for=\"sk-estimator-id-35\" class=\"sk-toggleable__label fitted sk-toggleable__label-arrow\"><div><div>remainder</div></div></label><div class=\"sk-toggleable__content fitted\"><pre>[&#x27;idade&#x27;, &#x27;saldo&#x27;, &#x27;tempo_ult_contato&#x27;, &#x27;numero_contatos&#x27;]</pre></div> </div></div><div class=\"sk-serial\"><div class=\"sk-item\"><div class=\"sk-estimator fitted sk-toggleable\"><input class=\"sk-toggleable__control sk-hidden--visually\" id=\"sk-estimator-id-36\" type=\"checkbox\" ><label for=\"sk-estimator-id-36\" class=\"sk-toggleable__label fitted sk-toggleable__label-arrow\"><div><div>passthrough</div></div></label><div class=\"sk-toggleable__content fitted\"><pre>passthrough</pre></div> </div></div></div></div></div></div></div></div></div>"
            ]
          },
          "metadata": {},
          "execution_count": 178
        }
      ]
    },
    {
      "cell_type": "code",
      "source": [
        "colunas_novas = one_hot.get_feature_names_out(colunas)\n",
        "pd.DataFrame(X, columns = colunas_novas)"
      ],
      "metadata": {
        "id": "SwCDF1qjk7-V",
        "colab": {
          "base_uri": "https://localhost:8080/",
          "height": 461
        },
        "outputId": "08452db2-9259-4e32-9e6b-9eab18200003"
      },
      "execution_count": 179,
      "outputs": [
        {
          "output_type": "execute_result",
          "data": {
            "text/plain": [
              "      onehotencoder__estado_civil_casado (a)  \\\n",
              "0                                        1.0   \n",
              "1                                        1.0   \n",
              "2                                        0.0   \n",
              "3                                        0.0   \n",
              "4                                        1.0   \n",
              "...                                      ...   \n",
              "1263                                     0.0   \n",
              "1264                                     0.0   \n",
              "1265                                     0.0   \n",
              "1266                                     1.0   \n",
              "1267                                     0.0   \n",
              "\n",
              "      onehotencoder__estado_civil_divorciado (a)  \\\n",
              "0                                            0.0   \n",
              "1                                            0.0   \n",
              "2                                            0.0   \n",
              "3                                            1.0   \n",
              "4                                            0.0   \n",
              "...                                          ...   \n",
              "1263                                         0.0   \n",
              "1264                                         0.0   \n",
              "1265                                         0.0   \n",
              "1266                                         0.0   \n",
              "1267                                         0.0   \n",
              "\n",
              "      onehotencoder__estado_civil_solteiro (a)  \\\n",
              "0                                          0.0   \n",
              "1                                          0.0   \n",
              "2                                          1.0   \n",
              "3                                          0.0   \n",
              "4                                          0.0   \n",
              "...                                        ...   \n",
              "1263                                       1.0   \n",
              "1264                                       1.0   \n",
              "1265                                       1.0   \n",
              "1266                                       0.0   \n",
              "1267                                       1.0   \n",
              "\n",
              "      onehotencoder__escolaridade_fundamental  \\\n",
              "0                                         0.0   \n",
              "1                                         0.0   \n",
              "2                                         0.0   \n",
              "3                                         0.0   \n",
              "4                                         0.0   \n",
              "...                                       ...   \n",
              "1263                                      0.0   \n",
              "1264                                      0.0   \n",
              "1265                                      0.0   \n",
              "1266                                      0.0   \n",
              "1267                                      0.0   \n",
              "\n",
              "      onehotencoder__escolaridade_medio  onehotencoder__escolaridade_superior  \\\n",
              "0                                   0.0                                   1.0   \n",
              "1                                   1.0                                   0.0   \n",
              "2                                   0.0                                   1.0   \n",
              "3                                   0.0                                   1.0   \n",
              "4                                   1.0                                   0.0   \n",
              "...                                 ...                                   ...   \n",
              "1263                                0.0                                   1.0   \n",
              "1264                                0.0                                   1.0   \n",
              "1265                                0.0                                   1.0   \n",
              "1266                                0.0                                   1.0   \n",
              "1267                                0.0                                   1.0   \n",
              "\n",
              "      onehotencoder__inadimplencia_sim  onehotencoder__fez_emprestimo_sim  \\\n",
              "0                                  0.0                                0.0   \n",
              "1                                  0.0                                0.0   \n",
              "2                                  0.0                                0.0   \n",
              "3                                  0.0                                0.0   \n",
              "4                                  0.0                                0.0   \n",
              "...                                ...                                ...   \n",
              "1263                               0.0                                0.0   \n",
              "1264                               0.0                                0.0   \n",
              "1265                               0.0                                1.0   \n",
              "1266                               0.0                                0.0   \n",
              "1267                               0.0                                0.0   \n",
              "\n",
              "      remainder__idade  remainder__saldo  remainder__tempo_ult_contato  \\\n",
              "0                 45.0             242.0                         587.0   \n",
              "1                 42.0            1289.0                         250.0   \n",
              "2                 23.0             363.0                          16.0   \n",
              "3                 58.0            1382.0                         700.0   \n",
              "4                 50.0            3357.0                         239.0   \n",
              "...                ...               ...                           ...   \n",
              "1263              52.0              83.0                        1223.0   \n",
              "1264              35.0            5958.0                         215.0   \n",
              "1265              30.0            -477.0                        1532.0   \n",
              "1266              42.0            2187.0                         525.0   \n",
              "1267              29.0              19.0                         110.0   \n",
              "\n",
              "      remainder__numero_contatos  \n",
              "0                            1.0  \n",
              "1                            4.0  \n",
              "2                           18.0  \n",
              "3                            1.0  \n",
              "4                            4.0  \n",
              "...                          ...  \n",
              "1263                         6.0  \n",
              "1264                         1.0  \n",
              "1265                         2.0  \n",
              "1266                         3.0  \n",
              "1267                         2.0  \n",
              "\n",
              "[1268 rows x 12 columns]"
            ],
            "text/html": [
              "\n",
              "  <div id=\"df-7d3eb393-236d-4af2-8722-533de8b818c5\" class=\"colab-df-container\">\n",
              "    <div>\n",
              "<style scoped>\n",
              "    .dataframe tbody tr th:only-of-type {\n",
              "        vertical-align: middle;\n",
              "    }\n",
              "\n",
              "    .dataframe tbody tr th {\n",
              "        vertical-align: top;\n",
              "    }\n",
              "\n",
              "    .dataframe thead th {\n",
              "        text-align: right;\n",
              "    }\n",
              "</style>\n",
              "<table border=\"1\" class=\"dataframe\">\n",
              "  <thead>\n",
              "    <tr style=\"text-align: right;\">\n",
              "      <th></th>\n",
              "      <th>onehotencoder__estado_civil_casado (a)</th>\n",
              "      <th>onehotencoder__estado_civil_divorciado (a)</th>\n",
              "      <th>onehotencoder__estado_civil_solteiro (a)</th>\n",
              "      <th>onehotencoder__escolaridade_fundamental</th>\n",
              "      <th>onehotencoder__escolaridade_medio</th>\n",
              "      <th>onehotencoder__escolaridade_superior</th>\n",
              "      <th>onehotencoder__inadimplencia_sim</th>\n",
              "      <th>onehotencoder__fez_emprestimo_sim</th>\n",
              "      <th>remainder__idade</th>\n",
              "      <th>remainder__saldo</th>\n",
              "      <th>remainder__tempo_ult_contato</th>\n",
              "      <th>remainder__numero_contatos</th>\n",
              "    </tr>\n",
              "  </thead>\n",
              "  <tbody>\n",
              "    <tr>\n",
              "      <th>0</th>\n",
              "      <td>1.0</td>\n",
              "      <td>0.0</td>\n",
              "      <td>0.0</td>\n",
              "      <td>0.0</td>\n",
              "      <td>0.0</td>\n",
              "      <td>1.0</td>\n",
              "      <td>0.0</td>\n",
              "      <td>0.0</td>\n",
              "      <td>45.0</td>\n",
              "      <td>242.0</td>\n",
              "      <td>587.0</td>\n",
              "      <td>1.0</td>\n",
              "    </tr>\n",
              "    <tr>\n",
              "      <th>1</th>\n",
              "      <td>1.0</td>\n",
              "      <td>0.0</td>\n",
              "      <td>0.0</td>\n",
              "      <td>0.0</td>\n",
              "      <td>1.0</td>\n",
              "      <td>0.0</td>\n",
              "      <td>0.0</td>\n",
              "      <td>0.0</td>\n",
              "      <td>42.0</td>\n",
              "      <td>1289.0</td>\n",
              "      <td>250.0</td>\n",
              "      <td>4.0</td>\n",
              "    </tr>\n",
              "    <tr>\n",
              "      <th>2</th>\n",
              "      <td>0.0</td>\n",
              "      <td>0.0</td>\n",
              "      <td>1.0</td>\n",
              "      <td>0.0</td>\n",
              "      <td>0.0</td>\n",
              "      <td>1.0</td>\n",
              "      <td>0.0</td>\n",
              "      <td>0.0</td>\n",
              "      <td>23.0</td>\n",
              "      <td>363.0</td>\n",
              "      <td>16.0</td>\n",
              "      <td>18.0</td>\n",
              "    </tr>\n",
              "    <tr>\n",
              "      <th>3</th>\n",
              "      <td>0.0</td>\n",
              "      <td>1.0</td>\n",
              "      <td>0.0</td>\n",
              "      <td>0.0</td>\n",
              "      <td>0.0</td>\n",
              "      <td>1.0</td>\n",
              "      <td>0.0</td>\n",
              "      <td>0.0</td>\n",
              "      <td>58.0</td>\n",
              "      <td>1382.0</td>\n",
              "      <td>700.0</td>\n",
              "      <td>1.0</td>\n",
              "    </tr>\n",
              "    <tr>\n",
              "      <th>4</th>\n",
              "      <td>1.0</td>\n",
              "      <td>0.0</td>\n",
              "      <td>0.0</td>\n",
              "      <td>0.0</td>\n",
              "      <td>1.0</td>\n",
              "      <td>0.0</td>\n",
              "      <td>0.0</td>\n",
              "      <td>0.0</td>\n",
              "      <td>50.0</td>\n",
              "      <td>3357.0</td>\n",
              "      <td>239.0</td>\n",
              "      <td>4.0</td>\n",
              "    </tr>\n",
              "    <tr>\n",
              "      <th>...</th>\n",
              "      <td>...</td>\n",
              "      <td>...</td>\n",
              "      <td>...</td>\n",
              "      <td>...</td>\n",
              "      <td>...</td>\n",
              "      <td>...</td>\n",
              "      <td>...</td>\n",
              "      <td>...</td>\n",
              "      <td>...</td>\n",
              "      <td>...</td>\n",
              "      <td>...</td>\n",
              "      <td>...</td>\n",
              "    </tr>\n",
              "    <tr>\n",
              "      <th>1263</th>\n",
              "      <td>0.0</td>\n",
              "      <td>0.0</td>\n",
              "      <td>1.0</td>\n",
              "      <td>0.0</td>\n",
              "      <td>0.0</td>\n",
              "      <td>1.0</td>\n",
              "      <td>0.0</td>\n",
              "      <td>0.0</td>\n",
              "      <td>52.0</td>\n",
              "      <td>83.0</td>\n",
              "      <td>1223.0</td>\n",
              "      <td>6.0</td>\n",
              "    </tr>\n",
              "    <tr>\n",
              "      <th>1264</th>\n",
              "      <td>0.0</td>\n",
              "      <td>0.0</td>\n",
              "      <td>1.0</td>\n",
              "      <td>0.0</td>\n",
              "      <td>0.0</td>\n",
              "      <td>1.0</td>\n",
              "      <td>0.0</td>\n",
              "      <td>0.0</td>\n",
              "      <td>35.0</td>\n",
              "      <td>5958.0</td>\n",
              "      <td>215.0</td>\n",
              "      <td>1.0</td>\n",
              "    </tr>\n",
              "    <tr>\n",
              "      <th>1265</th>\n",
              "      <td>0.0</td>\n",
              "      <td>0.0</td>\n",
              "      <td>1.0</td>\n",
              "      <td>0.0</td>\n",
              "      <td>0.0</td>\n",
              "      <td>1.0</td>\n",
              "      <td>0.0</td>\n",
              "      <td>1.0</td>\n",
              "      <td>30.0</td>\n",
              "      <td>-477.0</td>\n",
              "      <td>1532.0</td>\n",
              "      <td>2.0</td>\n",
              "    </tr>\n",
              "    <tr>\n",
              "      <th>1266</th>\n",
              "      <td>1.0</td>\n",
              "      <td>0.0</td>\n",
              "      <td>0.0</td>\n",
              "      <td>0.0</td>\n",
              "      <td>0.0</td>\n",
              "      <td>1.0</td>\n",
              "      <td>0.0</td>\n",
              "      <td>0.0</td>\n",
              "      <td>42.0</td>\n",
              "      <td>2187.0</td>\n",
              "      <td>525.0</td>\n",
              "      <td>3.0</td>\n",
              "    </tr>\n",
              "    <tr>\n",
              "      <th>1267</th>\n",
              "      <td>0.0</td>\n",
              "      <td>0.0</td>\n",
              "      <td>1.0</td>\n",
              "      <td>0.0</td>\n",
              "      <td>0.0</td>\n",
              "      <td>1.0</td>\n",
              "      <td>0.0</td>\n",
              "      <td>0.0</td>\n",
              "      <td>29.0</td>\n",
              "      <td>19.0</td>\n",
              "      <td>110.0</td>\n",
              "      <td>2.0</td>\n",
              "    </tr>\n",
              "  </tbody>\n",
              "</table>\n",
              "<p>1268 rows × 12 columns</p>\n",
              "</div>\n",
              "    <div class=\"colab-df-buttons\">\n",
              "\n",
              "  <div class=\"colab-df-container\">\n",
              "    <button class=\"colab-df-convert\" onclick=\"convertToInteractive('df-7d3eb393-236d-4af2-8722-533de8b818c5')\"\n",
              "            title=\"Convert this dataframe to an interactive table.\"\n",
              "            style=\"display:none;\">\n",
              "\n",
              "  <svg xmlns=\"http://www.w3.org/2000/svg\" height=\"24px\" viewBox=\"0 -960 960 960\">\n",
              "    <path d=\"M120-120v-720h720v720H120Zm60-500h600v-160H180v160Zm220 220h160v-160H400v160Zm0 220h160v-160H400v160ZM180-400h160v-160H180v160Zm440 0h160v-160H620v160ZM180-180h160v-160H180v160Zm440 0h160v-160H620v160Z\"/>\n",
              "  </svg>\n",
              "    </button>\n",
              "\n",
              "  <style>\n",
              "    .colab-df-container {\n",
              "      display:flex;\n",
              "      gap: 12px;\n",
              "    }\n",
              "\n",
              "    .colab-df-convert {\n",
              "      background-color: #E8F0FE;\n",
              "      border: none;\n",
              "      border-radius: 50%;\n",
              "      cursor: pointer;\n",
              "      display: none;\n",
              "      fill: #1967D2;\n",
              "      height: 32px;\n",
              "      padding: 0 0 0 0;\n",
              "      width: 32px;\n",
              "    }\n",
              "\n",
              "    .colab-df-convert:hover {\n",
              "      background-color: #E2EBFA;\n",
              "      box-shadow: 0px 1px 2px rgba(60, 64, 67, 0.3), 0px 1px 3px 1px rgba(60, 64, 67, 0.15);\n",
              "      fill: #174EA6;\n",
              "    }\n",
              "\n",
              "    .colab-df-buttons div {\n",
              "      margin-bottom: 4px;\n",
              "    }\n",
              "\n",
              "    [theme=dark] .colab-df-convert {\n",
              "      background-color: #3B4455;\n",
              "      fill: #D2E3FC;\n",
              "    }\n",
              "\n",
              "    [theme=dark] .colab-df-convert:hover {\n",
              "      background-color: #434B5C;\n",
              "      box-shadow: 0px 1px 3px 1px rgba(0, 0, 0, 0.15);\n",
              "      filter: drop-shadow(0px 1px 2px rgba(0, 0, 0, 0.3));\n",
              "      fill: #FFFFFF;\n",
              "    }\n",
              "  </style>\n",
              "\n",
              "    <script>\n",
              "      const buttonEl =\n",
              "        document.querySelector('#df-7d3eb393-236d-4af2-8722-533de8b818c5 button.colab-df-convert');\n",
              "      buttonEl.style.display =\n",
              "        google.colab.kernel.accessAllowed ? 'block' : 'none';\n",
              "\n",
              "      async function convertToInteractive(key) {\n",
              "        const element = document.querySelector('#df-7d3eb393-236d-4af2-8722-533de8b818c5');\n",
              "        const dataTable =\n",
              "          await google.colab.kernel.invokeFunction('convertToInteractive',\n",
              "                                                    [key], {});\n",
              "        if (!dataTable) return;\n",
              "\n",
              "        const docLinkHtml = 'Like what you see? Visit the ' +\n",
              "          '<a target=\"_blank\" href=https://colab.research.google.com/notebooks/data_table.ipynb>data table notebook</a>'\n",
              "          + ' to learn more about interactive tables.';\n",
              "        element.innerHTML = '';\n",
              "        dataTable['output_type'] = 'display_data';\n",
              "        await google.colab.output.renderOutput(dataTable, element);\n",
              "        const docLink = document.createElement('div');\n",
              "        docLink.innerHTML = docLinkHtml;\n",
              "        element.appendChild(docLink);\n",
              "      }\n",
              "    </script>\n",
              "  </div>\n",
              "\n",
              "\n",
              "    <div id=\"df-13c95046-a64c-44a3-9780-bad6363458d5\">\n",
              "      <button class=\"colab-df-quickchart\" onclick=\"quickchart('df-13c95046-a64c-44a3-9780-bad6363458d5')\"\n",
              "                title=\"Suggest charts\"\n",
              "                style=\"display:none;\">\n",
              "\n",
              "<svg xmlns=\"http://www.w3.org/2000/svg\" height=\"24px\"viewBox=\"0 0 24 24\"\n",
              "     width=\"24px\">\n",
              "    <g>\n",
              "        <path d=\"M19 3H5c-1.1 0-2 .9-2 2v14c0 1.1.9 2 2 2h14c1.1 0 2-.9 2-2V5c0-1.1-.9-2-2-2zM9 17H7v-7h2v7zm4 0h-2V7h2v10zm4 0h-2v-4h2v4z\"/>\n",
              "    </g>\n",
              "</svg>\n",
              "      </button>\n",
              "\n",
              "<style>\n",
              "  .colab-df-quickchart {\n",
              "      --bg-color: #E8F0FE;\n",
              "      --fill-color: #1967D2;\n",
              "      --hover-bg-color: #E2EBFA;\n",
              "      --hover-fill-color: #174EA6;\n",
              "      --disabled-fill-color: #AAA;\n",
              "      --disabled-bg-color: #DDD;\n",
              "  }\n",
              "\n",
              "  [theme=dark] .colab-df-quickchart {\n",
              "      --bg-color: #3B4455;\n",
              "      --fill-color: #D2E3FC;\n",
              "      --hover-bg-color: #434B5C;\n",
              "      --hover-fill-color: #FFFFFF;\n",
              "      --disabled-bg-color: #3B4455;\n",
              "      --disabled-fill-color: #666;\n",
              "  }\n",
              "\n",
              "  .colab-df-quickchart {\n",
              "    background-color: var(--bg-color);\n",
              "    border: none;\n",
              "    border-radius: 50%;\n",
              "    cursor: pointer;\n",
              "    display: none;\n",
              "    fill: var(--fill-color);\n",
              "    height: 32px;\n",
              "    padding: 0;\n",
              "    width: 32px;\n",
              "  }\n",
              "\n",
              "  .colab-df-quickchart:hover {\n",
              "    background-color: var(--hover-bg-color);\n",
              "    box-shadow: 0 1px 2px rgba(60, 64, 67, 0.3), 0 1px 3px 1px rgba(60, 64, 67, 0.15);\n",
              "    fill: var(--button-hover-fill-color);\n",
              "  }\n",
              "\n",
              "  .colab-df-quickchart-complete:disabled,\n",
              "  .colab-df-quickchart-complete:disabled:hover {\n",
              "    background-color: var(--disabled-bg-color);\n",
              "    fill: var(--disabled-fill-color);\n",
              "    box-shadow: none;\n",
              "  }\n",
              "\n",
              "  .colab-df-spinner {\n",
              "    border: 2px solid var(--fill-color);\n",
              "    border-color: transparent;\n",
              "    border-bottom-color: var(--fill-color);\n",
              "    animation:\n",
              "      spin 1s steps(1) infinite;\n",
              "  }\n",
              "\n",
              "  @keyframes spin {\n",
              "    0% {\n",
              "      border-color: transparent;\n",
              "      border-bottom-color: var(--fill-color);\n",
              "      border-left-color: var(--fill-color);\n",
              "    }\n",
              "    20% {\n",
              "      border-color: transparent;\n",
              "      border-left-color: var(--fill-color);\n",
              "      border-top-color: var(--fill-color);\n",
              "    }\n",
              "    30% {\n",
              "      border-color: transparent;\n",
              "      border-left-color: var(--fill-color);\n",
              "      border-top-color: var(--fill-color);\n",
              "      border-right-color: var(--fill-color);\n",
              "    }\n",
              "    40% {\n",
              "      border-color: transparent;\n",
              "      border-right-color: var(--fill-color);\n",
              "      border-top-color: var(--fill-color);\n",
              "    }\n",
              "    60% {\n",
              "      border-color: transparent;\n",
              "      border-right-color: var(--fill-color);\n",
              "    }\n",
              "    80% {\n",
              "      border-color: transparent;\n",
              "      border-right-color: var(--fill-color);\n",
              "      border-bottom-color: var(--fill-color);\n",
              "    }\n",
              "    90% {\n",
              "      border-color: transparent;\n",
              "      border-bottom-color: var(--fill-color);\n",
              "    }\n",
              "  }\n",
              "</style>\n",
              "\n",
              "      <script>\n",
              "        async function quickchart(key) {\n",
              "          const quickchartButtonEl =\n",
              "            document.querySelector('#' + key + ' button');\n",
              "          quickchartButtonEl.disabled = true;  // To prevent multiple clicks.\n",
              "          quickchartButtonEl.classList.add('colab-df-spinner');\n",
              "          try {\n",
              "            const charts = await google.colab.kernel.invokeFunction(\n",
              "                'suggestCharts', [key], {});\n",
              "          } catch (error) {\n",
              "            console.error('Error during call to suggestCharts:', error);\n",
              "          }\n",
              "          quickchartButtonEl.classList.remove('colab-df-spinner');\n",
              "          quickchartButtonEl.classList.add('colab-df-quickchart-complete');\n",
              "        }\n",
              "        (() => {\n",
              "          let quickchartButtonEl =\n",
              "            document.querySelector('#df-13c95046-a64c-44a3-9780-bad6363458d5 button');\n",
              "          quickchartButtonEl.style.display =\n",
              "            google.colab.kernel.accessAllowed ? 'block' : 'none';\n",
              "        })();\n",
              "      </script>\n",
              "    </div>\n",
              "\n",
              "    </div>\n",
              "  </div>\n"
            ],
            "application/vnd.google.colaboratory.intrinsic+json": {
              "type": "dataframe",
              "summary": "{\n  \"name\": \"pd\",\n  \"rows\": 1268,\n  \"fields\": [\n    {\n      \"column\": \"onehotencoder__estado_civil_casado (a)\",\n      \"properties\": {\n        \"dtype\": \"number\",\n        \"std\": 0.4934216275780293,\n        \"min\": 0.0,\n        \"max\": 1.0,\n        \"num_unique_values\": 2,\n        \"samples\": [\n          0.0,\n          1.0\n        ],\n        \"semantic_type\": \"\",\n        \"description\": \"\"\n      }\n    },\n    {\n      \"column\": \"onehotencoder__estado_civil_divorciado (a)\",\n      \"properties\": {\n        \"dtype\": \"number\",\n        \"std\": 0.33395437437580244,\n        \"min\": 0.0,\n        \"max\": 1.0,\n        \"num_unique_values\": 2,\n        \"samples\": [\n          1.0,\n          0.0\n        ],\n        \"semantic_type\": \"\",\n        \"description\": \"\"\n      }\n    },\n    {\n      \"column\": \"onehotencoder__estado_civil_solteiro (a)\",\n      \"properties\": {\n        \"dtype\": \"number\",\n        \"std\": 0.45404325646940547,\n        \"min\": 0.0,\n        \"max\": 1.0,\n        \"num_unique_values\": 2,\n        \"samples\": [\n          1.0,\n          0.0\n        ],\n        \"semantic_type\": \"\",\n        \"description\": \"\"\n      }\n    },\n    {\n      \"column\": \"onehotencoder__escolaridade_fundamental\",\n      \"properties\": {\n        \"dtype\": \"number\",\n        \"std\": 0.3593643175588921,\n        \"min\": 0.0,\n        \"max\": 1.0,\n        \"num_unique_values\": 2,\n        \"samples\": [\n          1.0,\n          0.0\n        ],\n        \"semantic_type\": \"\",\n        \"description\": \"\"\n      }\n    },\n    {\n      \"column\": \"onehotencoder__escolaridade_medio\",\n      \"properties\": {\n        \"dtype\": \"number\",\n        \"std\": 0.4997092315310663,\n        \"min\": 0.0,\n        \"max\": 1.0,\n        \"num_unique_values\": 2,\n        \"samples\": [\n          1.0,\n          0.0\n        ],\n        \"semantic_type\": \"\",\n        \"description\": \"\"\n      }\n    },\n    {\n      \"column\": \"onehotencoder__escolaridade_superior\",\n      \"properties\": {\n        \"dtype\": \"number\",\n        \"std\": 0.4688243379191868,\n        \"min\": 0.0,\n        \"max\": 1.0,\n        \"num_unique_values\": 2,\n        \"samples\": [\n          0.0,\n          1.0\n        ],\n        \"semantic_type\": \"\",\n        \"description\": \"\"\n      }\n    },\n    {\n      \"column\": \"onehotencoder__inadimplencia_sim\",\n      \"properties\": {\n        \"dtype\": \"number\",\n        \"std\": 0.13350596169531515,\n        \"min\": 0.0,\n        \"max\": 1.0,\n        \"num_unique_values\": 2,\n        \"samples\": [\n          1.0,\n          0.0\n        ],\n        \"semantic_type\": \"\",\n        \"description\": \"\"\n      }\n    },\n    {\n      \"column\": \"onehotencoder__fez_emprestimo_sim\",\n      \"properties\": {\n        \"dtype\": \"number\",\n        \"std\": 0.3408613004126143,\n        \"min\": 0.0,\n        \"max\": 1.0,\n        \"num_unique_values\": 2,\n        \"samples\": [\n          1.0,\n          0.0\n        ],\n        \"semantic_type\": \"\",\n        \"description\": \"\"\n      }\n    },\n    {\n      \"column\": \"remainder__idade\",\n      \"properties\": {\n        \"dtype\": \"number\",\n        \"std\": 11.383804651491229,\n        \"min\": 19.0,\n        \"max\": 87.0,\n        \"num_unique_values\": 64,\n        \"samples\": [\n          70.0,\n          77.0\n        ],\n        \"semantic_type\": \"\",\n        \"description\": \"\"\n      }\n    },\n    {\n      \"column\": \"remainder__saldo\",\n      \"properties\": {\n        \"dtype\": \"number\",\n        \"std\": 2690.40676693504,\n        \"min\": -1206.0,\n        \"max\": 27069.0,\n        \"num_unique_values\": 946,\n        \"samples\": [\n          1148.0,\n          -247.0\n        ],\n        \"semantic_type\": \"\",\n        \"description\": \"\"\n      }\n    },\n    {\n      \"column\": \"remainder__tempo_ult_contato\",\n      \"properties\": {\n        \"dtype\": \"number\",\n        \"std\": 347.9697229415952,\n        \"min\": 5.0,\n        \"max\": 3025.0,\n        \"num_unique_values\": 646,\n        \"samples\": [\n          1006.0,\n          1060.0\n        ],\n        \"semantic_type\": \"\",\n        \"description\": \"\"\n      }\n    },\n    {\n      \"column\": \"remainder__numero_contatos\",\n      \"properties\": {\n        \"dtype\": \"number\",\n        \"std\": 2.8856424362736948,\n        \"min\": 1.0,\n        \"max\": 32.0,\n        \"num_unique_values\": 21,\n        \"samples\": [\n          1.0,\n          24.0\n        ],\n        \"semantic_type\": \"\",\n        \"description\": \"\"\n      }\n    }\n  ]\n}"
            }
          },
          "metadata": {},
          "execution_count": 179
        }
      ]
    },
    {
      "cell_type": "markdown",
      "source": [
        "## Transforming target variables"
      ],
      "metadata": {
        "id": "eVg26seuoAvc"
      }
    },
    {
      "cell_type": "markdown",
      "source": [
        "Just like the explanatory variables, the target variable also needs to be transformed into numeric format. We can represent binary target variables as 0 or 1, where 0 indicates the absence of the feature and 1 represents the presence of the feature."
      ],
      "metadata": {
        "id": "v2czom6YKsCp"
      }
    },
    {
      "cell_type": "code",
      "source": [
        "# Importing LabelEncoder from scikit-learn to encode the target variable (binary encoding)\n",
        "from sklearn.preprocessing import LabelEncoder\n",
        "\n",
        "# Initializing the LabelEncoder\n",
        "lb_enc = LabelEncoder()\n",
        "\n",
        "# Fitting the label encoder to the target variable 'y' and transforming it into numeric values (0 or 1)\n",
        "y = lb_enc.fit_transform(y)\n",
        "\n",
        "# Displaying the transformed target variable\n",
        "y\n"
      ],
      "metadata": {
        "id": "AXnNe98ikyvQ",
        "colab": {
          "base_uri": "https://localhost:8080/"
        },
        "outputId": "694a4326-dd44-4730-e15f-2e3cd2f43c41"
      },
      "execution_count": 180,
      "outputs": [
        {
          "output_type": "execute_result",
          "data": {
            "text/plain": [
              "array([1, 1, 0, ..., 1, 1, 1])"
            ]
          },
          "metadata": {},
          "execution_count": 180
        }
      ]
    },
    {
      "cell_type": "markdown",
      "source": [
        "# Adjusting Models"
      ],
      "metadata": {
        "id": "04r_U98KoNML"
      }
    },
    {
      "cell_type": "markdown",
      "source": [
        "## Dividing the data between train and test"
      ],
      "metadata": {
        "id": "IhVdsTrEobYU"
      }
    },
    {
      "cell_type": "markdown",
      "source": [
        "To understand if the model is truly learning from the data, we need to split the data into **training** and **testing** sets. The training data is used to fit the model, while the test data is used to assess how well the model has learned on data that was not used during the fitting process"
      ],
      "metadata": {
        "id": "fj__Hu1bLCVY"
      }
    },
    {
      "cell_type": "code",
      "source": [
        "# Importing the train_test_split function from scikit-learn to split the data into training and testing sets\n",
        "from sklearn.model_selection import train_test_split\n",
        "\n",
        "# Splitting the data into training and testing sets (25% for testing, 75% for training)\n",
        "x_test, x_train, y_test, y_train = train_test_split(X, y, test_size=0.25)\n",
        "\n",
        "# Displaying the training and testing sets before applying any balancing\n",
        "x_train  # The training data\n",
        "x_test  # The testing data\n",
        "\n",
        "# Splitting again, but now with the 'stratify' parameter to balance the classes in a way that matches the original data proportions\n",
        "x_test, x_train, y_test, y_train = train_test_split(X, y, test_size=0.25, stratify=y, random_state=1234)\n",
        "\n",
        "# Displaying the balanced testing set\n",
        "x_test\n"
      ],
      "metadata": {
        "id": "3wW_Izek1jBR",
        "colab": {
          "base_uri": "https://localhost:8080/"
        },
        "outputId": "59a0d4d2-6aff-4f51-93e3-994bf19b406f"
      },
      "execution_count": 181,
      "outputs": [
        {
          "output_type": "execute_result",
          "data": {
            "text/plain": [
              "array([[0.00e+00, 0.00e+00, 1.00e+00, ..., 8.79e+02, 6.00e+01, 4.00e+00],\n",
              "       [0.00e+00, 0.00e+00, 1.00e+00, ..., 0.00e+00, 2.05e+02, 6.00e+00],\n",
              "       [0.00e+00, 0.00e+00, 1.00e+00, ..., 1.24e+03, 5.05e+02, 2.00e+00],\n",
              "       ...,\n",
              "       [0.00e+00, 0.00e+00, 1.00e+00, ..., 1.03e+02, 3.14e+02, 1.00e+00],\n",
              "       [1.00e+00, 0.00e+00, 0.00e+00, ..., 2.20e+01, 2.65e+02, 2.00e+00],\n",
              "       [0.00e+00, 0.00e+00, 1.00e+00, ..., 8.42e+02, 2.73e+02, 1.00e+00]])"
            ]
          },
          "metadata": {},
          "execution_count": 181
        }
      ]
    },
    {
      "cell_type": "markdown",
      "source": [
        "## Base model"
      ],
      "metadata": {
        "id": "EPMZl3TasDtS"
      }
    },
    {
      "cell_type": "markdown",
      "source": [
        "The simplest model for classifying data is to use an algorithm that predicts all classifications to the class with the highest frequency. This algorithm serves as a benchmark to compare whether other models perform better than the simplest possible classification.\n"
      ],
      "metadata": {
        "id": "fuydEJIBLbmh"
      }
    },
    {
      "cell_type": "code",
      "source": [
        "# Importing the DummyClassifier from scikit-learn to use a simple classification model\n",
        "from sklearn.dummy import DummyClassifier\n",
        "\n",
        "# Instantiating the Dummy model (a simple baseline model)\n",
        "dummy = DummyClassifier()\n",
        "\n",
        "# Fitting the Dummy model to the training data\n",
        "dummy.fit(x_train, y_train)\n",
        "\n",
        "# Making predictions on the test data\n",
        "dummy.predict(x_test)\n"
      ],
      "metadata": {
        "id": "8u4X_Fiyk5vW",
        "colab": {
          "base_uri": "https://localhost:8080/"
        },
        "outputId": "d2681339-590a-4289-d721-9d8bd60ad546"
      },
      "execution_count": 182,
      "outputs": [
        {
          "output_type": "execute_result",
          "data": {
            "text/plain": [
              "array([0, 0, 0, 0, 0, 0, 0, 0, 0, 0, 0, 0, 0, 0, 0, 0, 0, 0, 0, 0, 0, 0,\n",
              "       0, 0, 0, 0, 0, 0, 0, 0, 0, 0, 0, 0, 0, 0, 0, 0, 0, 0, 0, 0, 0, 0,\n",
              "       0, 0, 0, 0, 0, 0, 0, 0, 0, 0, 0, 0, 0, 0, 0, 0, 0, 0, 0, 0, 0, 0,\n",
              "       0, 0, 0, 0, 0, 0, 0, 0, 0, 0, 0, 0, 0, 0, 0, 0, 0, 0, 0, 0, 0, 0,\n",
              "       0, 0, 0, 0, 0, 0, 0, 0, 0, 0, 0, 0, 0, 0, 0, 0, 0, 0, 0, 0, 0, 0,\n",
              "       0, 0, 0, 0, 0, 0, 0, 0, 0, 0, 0, 0, 0, 0, 0, 0, 0, 0, 0, 0, 0, 0,\n",
              "       0, 0, 0, 0, 0, 0, 0, 0, 0, 0, 0, 0, 0, 0, 0, 0, 0, 0, 0, 0, 0, 0,\n",
              "       0, 0, 0, 0, 0, 0, 0, 0, 0, 0, 0, 0, 0, 0, 0, 0, 0, 0, 0, 0, 0, 0,\n",
              "       0, 0, 0, 0, 0, 0, 0, 0, 0, 0, 0, 0, 0, 0, 0, 0, 0, 0, 0, 0, 0, 0,\n",
              "       0, 0, 0, 0, 0, 0, 0, 0, 0, 0, 0, 0, 0, 0, 0, 0, 0, 0, 0, 0, 0, 0,\n",
              "       0, 0, 0, 0, 0, 0, 0, 0, 0, 0, 0, 0, 0, 0, 0, 0, 0, 0, 0, 0, 0, 0,\n",
              "       0, 0, 0, 0, 0, 0, 0, 0, 0, 0, 0, 0, 0, 0, 0, 0, 0, 0, 0, 0, 0, 0,\n",
              "       0, 0, 0, 0, 0, 0, 0, 0, 0, 0, 0, 0, 0, 0, 0, 0, 0, 0, 0, 0, 0, 0,\n",
              "       0, 0, 0, 0, 0, 0, 0, 0, 0, 0, 0, 0, 0, 0, 0, 0, 0, 0, 0, 0, 0, 0,\n",
              "       0, 0, 0, 0, 0, 0, 0, 0, 0, 0, 0, 0, 0, 0, 0, 0, 0, 0, 0, 0, 0, 0,\n",
              "       0, 0, 0, 0, 0, 0, 0, 0, 0, 0, 0, 0, 0, 0, 0, 0, 0, 0, 0, 0, 0, 0,\n",
              "       0, 0, 0, 0, 0, 0, 0, 0, 0, 0, 0, 0, 0, 0, 0, 0, 0, 0, 0, 0, 0, 0,\n",
              "       0, 0, 0, 0, 0, 0, 0, 0, 0, 0, 0, 0, 0, 0, 0, 0, 0, 0, 0, 0, 0, 0,\n",
              "       0, 0, 0, 0, 0, 0, 0, 0, 0, 0, 0, 0, 0, 0, 0, 0, 0, 0, 0, 0, 0, 0,\n",
              "       0, 0, 0, 0, 0, 0, 0, 0, 0, 0, 0, 0, 0, 0, 0, 0, 0, 0, 0, 0, 0, 0,\n",
              "       0, 0, 0, 0, 0, 0, 0, 0, 0, 0, 0, 0, 0, 0, 0, 0, 0, 0, 0, 0, 0, 0,\n",
              "       0, 0, 0, 0, 0, 0, 0, 0, 0, 0, 0, 0, 0, 0, 0, 0, 0, 0, 0, 0, 0, 0,\n",
              "       0, 0, 0, 0, 0, 0, 0, 0, 0, 0, 0, 0, 0, 0, 0, 0, 0, 0, 0, 0, 0, 0,\n",
              "       0, 0, 0, 0, 0, 0, 0, 0, 0, 0, 0, 0, 0, 0, 0, 0, 0, 0, 0, 0, 0, 0,\n",
              "       0, 0, 0, 0, 0, 0, 0, 0, 0, 0, 0, 0, 0, 0, 0, 0, 0, 0, 0, 0, 0, 0,\n",
              "       0, 0, 0, 0, 0, 0, 0, 0, 0, 0, 0, 0, 0, 0, 0, 0, 0, 0, 0, 0, 0, 0,\n",
              "       0, 0, 0, 0, 0, 0, 0, 0, 0, 0, 0, 0, 0, 0, 0, 0, 0, 0, 0, 0, 0, 0,\n",
              "       0, 0, 0, 0, 0, 0, 0, 0, 0, 0, 0, 0, 0, 0, 0, 0, 0, 0, 0, 0, 0, 0,\n",
              "       0, 0, 0, 0, 0, 0, 0, 0, 0, 0, 0, 0, 0, 0, 0, 0, 0, 0, 0, 0, 0, 0,\n",
              "       0, 0, 0, 0, 0, 0, 0, 0, 0, 0, 0, 0, 0, 0, 0, 0, 0, 0, 0, 0, 0, 0,\n",
              "       0, 0, 0, 0, 0, 0, 0, 0, 0, 0, 0, 0, 0, 0, 0, 0, 0, 0, 0, 0, 0, 0,\n",
              "       0, 0, 0, 0, 0, 0, 0, 0, 0, 0, 0, 0, 0, 0, 0, 0, 0, 0, 0, 0, 0, 0,\n",
              "       0, 0, 0, 0, 0, 0, 0, 0, 0, 0, 0, 0, 0, 0, 0, 0, 0, 0, 0, 0, 0, 0,\n",
              "       0, 0, 0, 0, 0, 0, 0, 0, 0, 0, 0, 0, 0, 0, 0, 0, 0, 0, 0, 0, 0, 0,\n",
              "       0, 0, 0, 0, 0, 0, 0, 0, 0, 0, 0, 0, 0, 0, 0, 0, 0, 0, 0, 0, 0, 0,\n",
              "       0, 0, 0, 0, 0, 0, 0, 0, 0, 0, 0, 0, 0, 0, 0, 0, 0, 0, 0, 0, 0, 0,\n",
              "       0, 0, 0, 0, 0, 0, 0, 0, 0, 0, 0, 0, 0, 0, 0, 0, 0, 0, 0, 0, 0, 0,\n",
              "       0, 0, 0, 0, 0, 0, 0, 0, 0, 0, 0, 0, 0, 0, 0, 0, 0, 0, 0, 0, 0, 0,\n",
              "       0, 0, 0, 0, 0, 0, 0, 0, 0, 0, 0, 0, 0, 0, 0, 0, 0, 0, 0, 0, 0, 0,\n",
              "       0, 0, 0, 0, 0, 0, 0, 0, 0, 0, 0, 0, 0, 0, 0, 0, 0, 0, 0, 0, 0, 0,\n",
              "       0, 0, 0, 0, 0, 0, 0, 0, 0, 0, 0, 0, 0, 0, 0, 0, 0, 0, 0, 0, 0, 0,\n",
              "       0, 0, 0, 0, 0, 0, 0, 0, 0, 0, 0, 0, 0, 0, 0, 0, 0, 0, 0, 0, 0, 0,\n",
              "       0, 0, 0, 0, 0, 0, 0, 0, 0, 0, 0, 0, 0, 0, 0, 0, 0, 0, 0, 0, 0, 0,\n",
              "       0, 0, 0, 0, 0])"
            ]
          },
          "metadata": {},
          "execution_count": 182
        }
      ]
    },
    {
      "cell_type": "code",
      "source": [
        "dummy.score(x_test,y_test)"
      ],
      "metadata": {
        "colab": {
          "base_uri": "https://localhost:8080/"
        },
        "id": "kydFQiSJ5W9B",
        "outputId": "3219d107-6087-4db6-e8f5-462f146b329b"
      },
      "execution_count": 183,
      "outputs": [
        {
          "output_type": "execute_result",
          "data": {
            "text/plain": [
              "0.6046267087276551"
            ]
          },
          "metadata": {},
          "execution_count": 183
        }
      ]
    },
    {
      "cell_type": "markdown",
      "source": [
        "## Decision Tree\n"
      ],
      "metadata": {
        "id": "4piugifGsF4g"
      }
    },
    {
      "cell_type": "markdown",
      "source": [
        "The decision tree model is widely used for its high **explainability** and **fast processing**, while maintaining a quite interesting performance.\n",
        "\n",
        "It is based on simple decisions made by the algorithm, separating the data based on **lesser** and **greater** comparisons of the values in the dataset's columns."
      ],
      "metadata": {
        "id": "Hx3luIUAMEWY"
      }
    },
    {
      "cell_type": "code",
      "source": [
        "from sklearn.tree import DecisionTreeClassifier\n",
        "from sklearn.tree import plot_tree\n",
        "import matplotlib.pyplot as plt\n",
        "\n",
        "# Instantiating the decision tree classifier\n",
        "tree = DecisionTreeClassifier(random_state = 4321, max_depth= 3)\n",
        "\n",
        "# Fitting the tree model to the training data\n",
        "tree = tree.fit(x_train, y_train)\n",
        "\n",
        "# Evaluating the model on the test data\n",
        "tree.score(x_test,y_test)\n"
      ],
      "metadata": {
        "id": "oWldzEVX6IF5",
        "colab": {
          "base_uri": "https://localhost:8080/"
        },
        "outputId": "74507f75-e021-486c-f276-7d20532ea93b"
      },
      "execution_count": 184,
      "outputs": [
        {
          "output_type": "execute_result",
          "data": {
            "text/plain": [
              "0.729758149316509"
            ]
          },
          "metadata": {},
          "execution_count": 184
        }
      ]
    },
    {
      "cell_type": "code",
      "source": [
        "colunas_novissimas= ['casado (a)',\n",
        "       'divorciado (a)',\n",
        "       'solteiro (a)',\n",
        "       'fundamental',\n",
        "       'medio',\n",
        "       'superior',\n",
        "       'inadimplencia',\n",
        "       'fez_emprestimo',\n",
        "\t'idade',\n",
        "       'saldo', 'tempo_ult_contato',\n",
        "       'numero_contatos']\n",
        "\n",
        "#plt.figure(figsize=(200,200))\n",
        "#plot_tree(tree, feature_names = colunas_novissimas, filled = True, class_names = ['Sim' , 'Não'])"
      ],
      "metadata": {
        "id": "1RKfAoHW8mSB"
      },
      "execution_count": 185,
      "outputs": []
    },
    {
      "cell_type": "markdown",
      "source": [
        "# Selecting the Models"
      ],
      "metadata": {
        "id": "VKrlCIXdP7Yi"
      }
    },
    {
      "cell_type": "markdown",
      "source": [
        "## Data Normalizing"
      ],
      "metadata": {
        "id": "jc5hcDjhP_7i"
      }
    },
    {
      "cell_type": "markdown",
      "source": [
        "Some algorithms may assign more weight to variables with larger scale values, which can distort the actual importance of the variables. For example, an algorithm may give more importance to salary than age simply because salary values are larger. To prevent this, it is necessary to transform the data so that all variables are on the same scale, ensuring a fairer and more accurate analysis."
      ],
      "metadata": {
        "id": "5lPMT48xM1Jm"
      }
    },
    {
      "cell_type": "markdown",
      "source": [
        "$X_{sc} = \\frac{X - X_{min}}{X_{max} - X_{min}} $"
      ],
      "metadata": {
        "id": "v1lUQnVXbhCb"
      }
    },
    {
      "cell_type": "code",
      "source": [
        "# Importing the MinMaxScaler for data normalization\n",
        "from sklearn.preprocessing import MinMaxScaler\n",
        "\n",
        "# Instantiating the MinMaxScaler to normalize the data to the [0, 1] range\n",
        "minmax = MinMaxScaler()\n",
        "\n",
        "# Applying normalization to the training data\n",
        "x_train_normalized = minmax.fit_transform(x_train)\n",
        "\n",
        "# Applying normalization to the testing data (using the parameters from the training data)\n",
        "x_test_normalized = minmax.transform(x_test)\n"
      ],
      "metadata": {
        "id": "nQqf3uSik4Sz"
      },
      "execution_count": 186,
      "outputs": []
    },
    {
      "cell_type": "markdown",
      "source": [
        "## KNN"
      ],
      "metadata": {
        "id": "EeLwrThg0W7C"
      }
    },
    {
      "cell_type": "markdown",
      "source": [
        "The KNN algorithm relies on calculating the distance between records in the dataset and looks for elements that are close to each other (neighbors) to make classification decisions.\n",
        "\n",
        "Because it uses distance calculations, this algorithm is influenced by the scale of the variables, and therefore, data transformation is required before using this method."
      ],
      "metadata": {
        "id": "QmAV0IFuNs43"
      }
    },
    {
      "cell_type": "code",
      "source": [
        "# Importing the KNeighborsClassifier from scikit-learn\n",
        "from sklearn.neighbors import KNeighborsClassifier\n",
        "\n",
        "# Instantiating the KNN model with 5 neighbors (default would be 3)\n",
        "neighbors = KNeighborsClassifier(n_neighbors=5)\n",
        "\n",
        "# Fitting the KNN model to the normalized training data\n",
        "knn_modelo = neighbors.fit(x_train_normalized, y_train)\n",
        "\n",
        "# Evaluating the model's performance on the normalized test data\n",
        "knn_modelo.score(x_test_normalized, y_test)\n"
      ],
      "metadata": {
        "id": "T_LSU_n0bJ6B",
        "colab": {
          "base_uri": "https://localhost:8080/"
        },
        "outputId": "184b17b3-51f8-4dcf-c965-4f7e551be311"
      },
      "execution_count": 187,
      "outputs": [
        {
          "output_type": "execute_result",
          "data": {
            "text/plain": [
              "0.6729758149316509"
            ]
          },
          "metadata": {},
          "execution_count": 187
        }
      ]
    },
    {
      "cell_type": "markdown",
      "source": [
        " ## Choosing and Saving the Best Model"
      ],
      "metadata": {
        "id": "8qdYbnwhVFSU"
      }
    },
    {
      "cell_type": "markdown",
      "source": [
        "At the end of a machine learning project, we should compare the results of different models and choose the one that performs the best.\n"
      ],
      "metadata": {
        "id": "HXa-CK0kOGr3"
      }
    },
    {
      "cell_type": "code",
      "source": [
        "# Creating a dictionary with the accuracy scores of different models\n",
        "score_modelos = {\"Dummy\": dummy.score(x_test, y_test),\n",
        "                 \"Arvore\": tree.score(x_test, y_test),\n",
        "                 \"KNN\": knn_modelo.score(x_test_normalized, y_test)}\n",
        "\n",
        "# Finding the best model based on the highest accuracy score\n",
        "melhor_modelo = max(score_modelos, key = score_modelos.get)\n",
        "\n",
        "# Printing the best model and its corresponding accuracy score\n",
        "print(f\"The best model was {melhor_modelo} with {round(score_modelos[melhor_modelo], 2)}\")\n"
      ],
      "metadata": {
        "id": "duQCrXM6c-db",
        "colab": {
          "base_uri": "https://localhost:8080/"
        },
        "outputId": "fae1d527-49ee-4096-884f-723bfcb3bf44"
      },
      "execution_count": 188,
      "outputs": [
        {
          "output_type": "stream",
          "name": "stdout",
          "text": [
            "The best model was Arvore with 0.73\n"
          ]
        }
      ]
    },
    {
      "cell_type": "markdown",
      "source": [
        "## Pickle Dump"
      ],
      "metadata": {
        "id": "EKhGeTpkcw4x"
      }
    },
    {
      "cell_type": "markdown",
      "source": [
        "We can store the model in a serialized file using pickle so that it can be used in production, meaning with real-world data to meet the needs of the problem that needs to be solved."
      ],
      "metadata": {
        "id": "d-BbLKDQc9z2"
      }
    },
    {
      "cell_type": "code",
      "source": [
        "# Storing the decision tree model in a pickle file for later use\n",
        "pd.to_pickle(tree, \"arvore_inadimplencia.pkl\")\n",
        "\n",
        "# Storing the column encoder model in a pickle file for later use\n",
        "pd.to_pickle(one_hot_modelo_x, \"enconder_colunas.pkl\")\n"
      ],
      "metadata": {
        "id": "HlOHVV5Sc83k"
      },
      "execution_count": 189,
      "outputs": []
    },
    {
      "cell_type": "markdown",
      "source": [
        "## Using the Model\n",
        "\n"
      ],
      "metadata": {
        "id": "GjYFQ9WNmC2U"
      }
    },
    {
      "cell_type": "code",
      "source": [
        "novo_dado = {\n",
        "    'idade': [101],\n",
        "    'estado_civil': ['solteiro (a)'],\n",
        "    'escolaridade': ['superior'],\n",
        "    'inadimplencia': ['nao'],\n",
        "    'saldo': [23040],\n",
        "    'fez_emprestimo': ['sim'],\n",
        "    'tempo_ult_contato': [200],\n",
        "    'numero_contatos': [8]\n",
        "}\n",
        "df_novo_dado = pd.DataFrame(novo_dado)\n",
        "df_novo_dado"
      ],
      "metadata": {
        "colab": {
          "base_uri": "https://localhost:8080/",
          "height": 89
        },
        "id": "2FavJCfSmKdE",
        "outputId": "fde9fe80-d627-4d6a-c15e-0fd47a41836a"
      },
      "execution_count": 190,
      "outputs": [
        {
          "output_type": "execute_result",
          "data": {
            "text/plain": [
              "   idade  estado_civil escolaridade inadimplencia  saldo fez_emprestimo  \\\n",
              "0    101  solteiro (a)     superior           nao  23040            sim   \n",
              "\n",
              "   tempo_ult_contato  numero_contatos  \n",
              "0                200                8  "
            ],
            "text/html": [
              "\n",
              "  <div id=\"df-da99d327-e296-4cc6-8480-a051662d4515\" class=\"colab-df-container\">\n",
              "    <div>\n",
              "<style scoped>\n",
              "    .dataframe tbody tr th:only-of-type {\n",
              "        vertical-align: middle;\n",
              "    }\n",
              "\n",
              "    .dataframe tbody tr th {\n",
              "        vertical-align: top;\n",
              "    }\n",
              "\n",
              "    .dataframe thead th {\n",
              "        text-align: right;\n",
              "    }\n",
              "</style>\n",
              "<table border=\"1\" class=\"dataframe\">\n",
              "  <thead>\n",
              "    <tr style=\"text-align: right;\">\n",
              "      <th></th>\n",
              "      <th>idade</th>\n",
              "      <th>estado_civil</th>\n",
              "      <th>escolaridade</th>\n",
              "      <th>inadimplencia</th>\n",
              "      <th>saldo</th>\n",
              "      <th>fez_emprestimo</th>\n",
              "      <th>tempo_ult_contato</th>\n",
              "      <th>numero_contatos</th>\n",
              "    </tr>\n",
              "  </thead>\n",
              "  <tbody>\n",
              "    <tr>\n",
              "      <th>0</th>\n",
              "      <td>101</td>\n",
              "      <td>solteiro (a)</td>\n",
              "      <td>superior</td>\n",
              "      <td>nao</td>\n",
              "      <td>23040</td>\n",
              "      <td>sim</td>\n",
              "      <td>200</td>\n",
              "      <td>8</td>\n",
              "    </tr>\n",
              "  </tbody>\n",
              "</table>\n",
              "</div>\n",
              "    <div class=\"colab-df-buttons\">\n",
              "\n",
              "  <div class=\"colab-df-container\">\n",
              "    <button class=\"colab-df-convert\" onclick=\"convertToInteractive('df-da99d327-e296-4cc6-8480-a051662d4515')\"\n",
              "            title=\"Convert this dataframe to an interactive table.\"\n",
              "            style=\"display:none;\">\n",
              "\n",
              "  <svg xmlns=\"http://www.w3.org/2000/svg\" height=\"24px\" viewBox=\"0 -960 960 960\">\n",
              "    <path d=\"M120-120v-720h720v720H120Zm60-500h600v-160H180v160Zm220 220h160v-160H400v160Zm0 220h160v-160H400v160ZM180-400h160v-160H180v160Zm440 0h160v-160H620v160ZM180-180h160v-160H180v160Zm440 0h160v-160H620v160Z\"/>\n",
              "  </svg>\n",
              "    </button>\n",
              "\n",
              "  <style>\n",
              "    .colab-df-container {\n",
              "      display:flex;\n",
              "      gap: 12px;\n",
              "    }\n",
              "\n",
              "    .colab-df-convert {\n",
              "      background-color: #E8F0FE;\n",
              "      border: none;\n",
              "      border-radius: 50%;\n",
              "      cursor: pointer;\n",
              "      display: none;\n",
              "      fill: #1967D2;\n",
              "      height: 32px;\n",
              "      padding: 0 0 0 0;\n",
              "      width: 32px;\n",
              "    }\n",
              "\n",
              "    .colab-df-convert:hover {\n",
              "      background-color: #E2EBFA;\n",
              "      box-shadow: 0px 1px 2px rgba(60, 64, 67, 0.3), 0px 1px 3px 1px rgba(60, 64, 67, 0.15);\n",
              "      fill: #174EA6;\n",
              "    }\n",
              "\n",
              "    .colab-df-buttons div {\n",
              "      margin-bottom: 4px;\n",
              "    }\n",
              "\n",
              "    [theme=dark] .colab-df-convert {\n",
              "      background-color: #3B4455;\n",
              "      fill: #D2E3FC;\n",
              "    }\n",
              "\n",
              "    [theme=dark] .colab-df-convert:hover {\n",
              "      background-color: #434B5C;\n",
              "      box-shadow: 0px 1px 3px 1px rgba(0, 0, 0, 0.15);\n",
              "      filter: drop-shadow(0px 1px 2px rgba(0, 0, 0, 0.3));\n",
              "      fill: #FFFFFF;\n",
              "    }\n",
              "  </style>\n",
              "\n",
              "    <script>\n",
              "      const buttonEl =\n",
              "        document.querySelector('#df-da99d327-e296-4cc6-8480-a051662d4515 button.colab-df-convert');\n",
              "      buttonEl.style.display =\n",
              "        google.colab.kernel.accessAllowed ? 'block' : 'none';\n",
              "\n",
              "      async function convertToInteractive(key) {\n",
              "        const element = document.querySelector('#df-da99d327-e296-4cc6-8480-a051662d4515');\n",
              "        const dataTable =\n",
              "          await google.colab.kernel.invokeFunction('convertToInteractive',\n",
              "                                                    [key], {});\n",
              "        if (!dataTable) return;\n",
              "\n",
              "        const docLinkHtml = 'Like what you see? Visit the ' +\n",
              "          '<a target=\"_blank\" href=https://colab.research.google.com/notebooks/data_table.ipynb>data table notebook</a>'\n",
              "          + ' to learn more about interactive tables.';\n",
              "        element.innerHTML = '';\n",
              "        dataTable['output_type'] = 'display_data';\n",
              "        await google.colab.output.renderOutput(dataTable, element);\n",
              "        const docLink = document.createElement('div');\n",
              "        docLink.innerHTML = docLinkHtml;\n",
              "        element.appendChild(docLink);\n",
              "      }\n",
              "    </script>\n",
              "  </div>\n",
              "\n",
              "\n",
              "  <div id=\"id_26a46581-a5fe-4a3b-9bbb-e08cf7cbd687\">\n",
              "    <style>\n",
              "      .colab-df-generate {\n",
              "        background-color: #E8F0FE;\n",
              "        border: none;\n",
              "        border-radius: 50%;\n",
              "        cursor: pointer;\n",
              "        display: none;\n",
              "        fill: #1967D2;\n",
              "        height: 32px;\n",
              "        padding: 0 0 0 0;\n",
              "        width: 32px;\n",
              "      }\n",
              "\n",
              "      .colab-df-generate:hover {\n",
              "        background-color: #E2EBFA;\n",
              "        box-shadow: 0px 1px 2px rgba(60, 64, 67, 0.3), 0px 1px 3px 1px rgba(60, 64, 67, 0.15);\n",
              "        fill: #174EA6;\n",
              "      }\n",
              "\n",
              "      [theme=dark] .colab-df-generate {\n",
              "        background-color: #3B4455;\n",
              "        fill: #D2E3FC;\n",
              "      }\n",
              "\n",
              "      [theme=dark] .colab-df-generate:hover {\n",
              "        background-color: #434B5C;\n",
              "        box-shadow: 0px 1px 3px 1px rgba(0, 0, 0, 0.15);\n",
              "        filter: drop-shadow(0px 1px 2px rgba(0, 0, 0, 0.3));\n",
              "        fill: #FFFFFF;\n",
              "      }\n",
              "    </style>\n",
              "    <button class=\"colab-df-generate\" onclick=\"generateWithVariable('df_novo_dado')\"\n",
              "            title=\"Generate code using this dataframe.\"\n",
              "            style=\"display:none;\">\n",
              "\n",
              "  <svg xmlns=\"http://www.w3.org/2000/svg\" height=\"24px\"viewBox=\"0 0 24 24\"\n",
              "       width=\"24px\">\n",
              "    <path d=\"M7,19H8.4L18.45,9,17,7.55,7,17.6ZM5,21V16.75L18.45,3.32a2,2,0,0,1,2.83,0l1.4,1.43a1.91,1.91,0,0,1,.58,1.4,1.91,1.91,0,0,1-.58,1.4L9.25,21ZM18.45,9,17,7.55Zm-12,3A5.31,5.31,0,0,0,4.9,8.1,5.31,5.31,0,0,0,1,6.5,5.31,5.31,0,0,0,4.9,4.9,5.31,5.31,0,0,0,6.5,1,5.31,5.31,0,0,0,8.1,4.9,5.31,5.31,0,0,0,12,6.5,5.46,5.46,0,0,0,6.5,12Z\"/>\n",
              "  </svg>\n",
              "    </button>\n",
              "    <script>\n",
              "      (() => {\n",
              "      const buttonEl =\n",
              "        document.querySelector('#id_26a46581-a5fe-4a3b-9bbb-e08cf7cbd687 button.colab-df-generate');\n",
              "      buttonEl.style.display =\n",
              "        google.colab.kernel.accessAllowed ? 'block' : 'none';\n",
              "\n",
              "      buttonEl.onclick = () => {\n",
              "        google.colab.notebook.generateWithVariable('df_novo_dado');\n",
              "      }\n",
              "      })();\n",
              "    </script>\n",
              "  </div>\n",
              "\n",
              "    </div>\n",
              "  </div>\n"
            ],
            "application/vnd.google.colaboratory.intrinsic+json": {
              "type": "dataframe",
              "variable_name": "df_novo_dado",
              "summary": "{\n  \"name\": \"df_novo_dado\",\n  \"rows\": 1,\n  \"fields\": [\n    {\n      \"column\": \"idade\",\n      \"properties\": {\n        \"dtype\": \"number\",\n        \"std\": null,\n        \"min\": 101,\n        \"max\": 101,\n        \"num_unique_values\": 1,\n        \"samples\": [\n          101\n        ],\n        \"semantic_type\": \"\",\n        \"description\": \"\"\n      }\n    },\n    {\n      \"column\": \"estado_civil\",\n      \"properties\": {\n        \"dtype\": \"string\",\n        \"num_unique_values\": 1,\n        \"samples\": [\n          \"solteiro (a)\"\n        ],\n        \"semantic_type\": \"\",\n        \"description\": \"\"\n      }\n    },\n    {\n      \"column\": \"escolaridade\",\n      \"properties\": {\n        \"dtype\": \"string\",\n        \"num_unique_values\": 1,\n        \"samples\": [\n          \"superior\"\n        ],\n        \"semantic_type\": \"\",\n        \"description\": \"\"\n      }\n    },\n    {\n      \"column\": \"inadimplencia\",\n      \"properties\": {\n        \"dtype\": \"string\",\n        \"num_unique_values\": 1,\n        \"samples\": [\n          \"nao\"\n        ],\n        \"semantic_type\": \"\",\n        \"description\": \"\"\n      }\n    },\n    {\n      \"column\": \"saldo\",\n      \"properties\": {\n        \"dtype\": \"number\",\n        \"std\": null,\n        \"min\": 23040,\n        \"max\": 23040,\n        \"num_unique_values\": 1,\n        \"samples\": [\n          23040\n        ],\n        \"semantic_type\": \"\",\n        \"description\": \"\"\n      }\n    },\n    {\n      \"column\": \"fez_emprestimo\",\n      \"properties\": {\n        \"dtype\": \"string\",\n        \"num_unique_values\": 1,\n        \"samples\": [\n          \"sim\"\n        ],\n        \"semantic_type\": \"\",\n        \"description\": \"\"\n      }\n    },\n    {\n      \"column\": \"tempo_ult_contato\",\n      \"properties\": {\n        \"dtype\": \"number\",\n        \"std\": null,\n        \"min\": 200,\n        \"max\": 200,\n        \"num_unique_values\": 1,\n        \"samples\": [\n          200\n        ],\n        \"semantic_type\": \"\",\n        \"description\": \"\"\n      }\n    },\n    {\n      \"column\": \"numero_contatos\",\n      \"properties\": {\n        \"dtype\": \"number\",\n        \"std\": null,\n        \"min\": 8,\n        \"max\": 8,\n        \"num_unique_values\": 1,\n        \"samples\": [\n          8\n        ],\n        \"semantic_type\": \"\",\n        \"description\": \"\"\n      }\n    }\n  ]\n}"
            }
          },
          "metadata": {},
          "execution_count": 190
        }
      ]
    },
    {
      "cell_type": "markdown",
      "source": [
        "Test with return 1"
      ],
      "metadata": {
        "id": "ksp68iPo622v"
      }
    },
    {
      "cell_type": "code",
      "source": [
        "# Load the pre-trained one-hot encoder model\n",
        "one_hot_modelo = pd.read_pickle(\"enconder_colunas.pkl\")\n",
        "\n",
        "# Transform the new data with the same encoder\n",
        "novissimo = one_hot_modelo.transform(df_novo_dado)\n",
        "\n",
        "# Load the pre-trained decision tree model\n",
        "modelo_arvore = pd.read_pickle(\"arvore_inadimplencia.pkl\")\n",
        "\n",
        "# Use the decision tree model to make a prediction on the transformed data\n",
        "predicao = modelo_arvore.predict(novissimo)\n",
        "\n",
        "# Output the prediction result\n",
        "predicao\n"
      ],
      "metadata": {
        "id": "nBKYBs0eqGvU",
        "colab": {
          "base_uri": "https://localhost:8080/"
        },
        "outputId": "cef678e0-9aba-47b2-e133-4b4aa66b2370"
      },
      "execution_count": 191,
      "outputs": [
        {
          "output_type": "execute_result",
          "data": {
            "text/plain": [
              "array([1])"
            ]
          },
          "metadata": {},
          "execution_count": 191
        }
      ]
    },
    {
      "cell_type": "markdown",
      "source": [
        "Test with return 0"
      ],
      "metadata": {
        "id": "A0c7ZR0867av"
      }
    },
    {
      "cell_type": "code",
      "source": [
        "novo_dado = {\n",
        "    'idade': [45],  # Idade mais alta, provavelmente não muito influente para aderência\n",
        "    'estado_civil': ['divorciado (a)'],  # Estado civil que pode ser associado a um comportamento específico\n",
        "    'escolaridade': ['medio'],  # Nível de escolaridade baixo, pode reduzir a chance de aderir\n",
        "    'inadimplencia': ['sim'],  # Indicação de inadimplência, o que pode diminuir a chance de aderir\n",
        "    'saldo': [2000],  # Saldo baixo, possivelmente sem recursos para investir\n",
        "    'fez_emprestimo': ['nao'],  # Não fez empréstimo, talvez indicando uma menor disposição para investir\n",
        "    'tempo_ult_contato': [10],  # Pouco tempo de contato, o que pode indicar falta de interesse\n",
        "    'numero_contatos': [2]  # Número de contatos baixo, talvez indicando pouca interação com o marketing\n",
        "}\n",
        "\n",
        "# Transformação dos dados\n",
        "df_novo_dado = pd.DataFrame(novo_dado)\n",
        "\n",
        "# Realiza a transformação usando o OneHotEncoder\n",
        "novissimo = one_hot_modelo.transform(df_novo_dado)\n",
        "\n",
        "# Predição usando o modelo de árvore de decisão\n",
        "modelo_arvore.predict(novissimo)\n",
        "\n",
        "\n"
      ],
      "metadata": {
        "colab": {
          "base_uri": "https://localhost:8080/"
        },
        "id": "QFs9snQm6qu2",
        "outputId": "907da242-d86e-47b6-f9df-c97b95e8308f"
      },
      "execution_count": 192,
      "outputs": [
        {
          "output_type": "execute_result",
          "data": {
            "text/plain": [
              "array([0])"
            ]
          },
          "metadata": {},
          "execution_count": 192
        }
      ]
    }
  ]
}
